{
 "cells": [
  {
   "cell_type": "markdown",
   "metadata": {},
   "source": [
    "#Models for *Intraguild predation*"
   ]
  },
  {
   "cell_type": "markdown",
   "metadata": {},
   "source": [
    "## *General unstructured model*"
   ]
  },
  {
   "cell_type": "markdown",
   "metadata": {},
   "source": [
    "\\begin{equation}\n",
    "    \\begin{aligned}\n",
    "    \\frac{dR}{dt} &= F(R) - G_c(R)C - G_p(R,C)P \\\\\n",
    "    \\frac{dC}{dt} &= \\epsilon_1 G_c(R)C - H_p(R,C)P - q_1C \\\\\n",
    "    \\frac{dP}{dt} &= P[\\epsilon_2 G_p(R,C) + \\epsilon_3 H_p(R,C) - q_2 ]\n",
    "    \\end{aligned}\n",
    "\\end{equation}\n"
   ]
  },
  {
   "cell_type": "markdown",
   "metadata": {},
   "source": [
    "##*Lotka-volterra* model"
   ]
  },
  {
   "cell_type": "markdown",
   "metadata": {},
   "source": [
    "\\begin{equation}\n",
    "    \\begin{aligned}\n",
    "    \\frac{dR}{dt} &=  R[r(1-\\frac{R}{K}) - \\alpha_1 C - \\alpha_2 P] \\\\\n",
    "    \\frac{dC}{dt} &=  C[\\epsilon_1 \\alpha_1 R - \\alpha_3 P - q_1] \\\\\n",
    "    \\frac{dP}{dt} &=  P[\\epsilon_2 \\alpha_2 R + \\epsilon_3 \\alpha_3 C - q2]\n",
    "    \\end{aligned} \n",
    "\\end{equation}"
   ]
  },
  {
   "cell_type": "markdown",
   "metadata": {},
   "source": [
    "## *Rozenweigh-MacArthur* model"
   ]
  },
  {
   "cell_type": "markdown",
   "metadata": {},
   "source": [
    "\\begin{equation}\n",
    "    \\begin{aligned}\n",
    "    \\frac{dR}{dt} &=  R[r(1-\\frac{R}{K}) - \\frac{\\alpha_1 C}{1+t_{h,c} \\alpha_1 R} - \\frac{\\alpha_2 P}{1 + t_{h,p}(\\alpha_2 R + \\alpha_3 C)}] \\\\\n",
    "    \\frac{dC}{dt} &=  C[\\frac{\\epsilon_1 \\alpha_1 R}{1 + t_{h,c} \\alpha_1 R} - \\frac{\\alpha_3 P}{1 + t_{h,p}(\\alpha_2 R+ \\alpha_3 C)} - q_1] \\\\\n",
    "    \\frac{dP}{dt} &=  P[\\frac{\\epsilon_2 \\alpha_2 R + \\epsilon_3 \\alpha_3 C}{1 + t_{h,p}(\\alpha_2 R + \\alpha_3 R)} - q2]\n",
    "    \\end{aligned} \n",
    "\\end{equation}"
   ]
  },
  {
   "cell_type": "markdown",
   "metadata": {},
   "source": [
    "#Parameters"
   ]
  },
  {
   "cell_type": "markdown",
   "metadata": {},
   "source": [
    "Let  \n",
    "* $ m_j$ := body mass of the species *j*\n",
    "\n",
    "| Parameter name   |  Description | Dependencies |Source|\n",
    "|:----------------:|:--------------:|:--------------:|:------:|\n",
    "| r | Intrinsic rate of biomass production per unit biomass | body mass , temperature , metabolic type | [Savage et.al 2004][1]|\n",
    "| K | Maximum standing biomass in the environment| body mass, temperature , metabolic type| [Savage et.al 2004][1]|\n",
    "|$q_i$| Rate of biomass loss for consumer i per unit biomass | body mass ,temperature ,metabolic type | [Savage et.al 2004][1]|\n",
    "|$\\alpha_i$| Capture rate of the prey per unit biomass | body mass , size-ratio, temperature, metabolic type | [Pawar et.al 2012][2],[Dell et.al 2013][3]|\n",
    "|$t_{h,i}$| Handling time per unit of prey biomass of the consumer i | body mass, temperature , metabolic type| [Pawar et.al 2012][2],[Dell et.al 2013][3]|\n",
    "\n",
    "\n",
    "\n",
    "\n",
    "\n",
    "[1]: http://www.jstor.org/discover/10.1086/381872?sid=21106171006043&uid=2&uid=4&uid=3738800\n",
    "[2]: http://www.nature.com/nature/journal/v486/n7404/full/nature11131.html\n",
    "[3]: http://onlinelibrary.wiley.com/doi/10.1111/1365-2656.12081/abstract\n",
    "\n",
    "\n"
   ]
  }
 ],
 "metadata": {
  "kernelspec": {
   "display_name": "IPython (Python 2)",
   "name": "python2"
  },
  "language_info": {
   "codemirror_mode": {
    "name": "ipython",
    "version": 2
   },
   "file_extension": ".py",
   "mimetype": "text/x-python",
   "name": "python",
   "nbconvert_exporter": "python",
   "pygments_lexer": "ipython2",
   "version": "2.7.9"
  }
 },
 "nbformat": 4,
 "nbformat_minor": 0
}