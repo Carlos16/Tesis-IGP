{
 "cells": [
  {
   "cell_type": "markdown",
   "metadata": {},
   "source": [
    "# Theoretical perspectives upon the influence of predator body mass over the assembly mechanisms of the IGP module"
   ]
  },
  {
   "cell_type": "markdown",
   "metadata": {},
   "source": [
    "##Contents"
   ]
  },
  {
   "cell_type": "markdown",
   "metadata": {},
   "source": [
    "1. Model Construction\n",
    "   1. [Models](Models.ipynb)\n",
    "   1. [Parametrization](Parametrization.ipynb)\n",
    "   \n",
    "1. Analysis\n",
    "   1. [Invasibility](Invasibility.ipynb)  \n",
    "       1. [Proofs](Proofs.ipynb)\n",
    "    \n",
    "    "
   ]
  }
 ],
 "metadata": {
  "kernelspec": {
   "display_name": "IPython (Python 2)",
   "name": "python2"
  },
  "language_info": {
   "codemirror_mode": {
    "name": "ipython",
    "version": 2
   },
   "file_extension": ".py",
   "mimetype": "text/x-python",
   "name": "python",
   "nbconvert_exporter": "python",
   "pygments_lexer": "ipython2",
   "version": "2.7.9"
  }
 },
 "nbformat": 4,
 "nbformat_minor": 0
}