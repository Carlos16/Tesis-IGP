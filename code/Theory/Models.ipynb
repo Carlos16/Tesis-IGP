{
 "cells": [
  {
   "cell_type": "markdown",
   "metadata": {},
   "source": [
    "#Models for *Intraguild predation*"
   ]
  },
  {
   "cell_type": "markdown",
   "metadata": {},
   "source": [
    "In the following we describe the models that will be analyzed in this work, we have two major variants :  \n",
    "1. *Unstructured* models  \n",
    "    1. *Lotka-Volterra*\n",
    "    2. *Rozenweigh-MacArthur*\n",
    "1. *Stage-structured* models\n"
   ]
  },
  {
   "cell_type": "markdown",
   "metadata": {},
   "source": [
    "## *Unstructured models*"
   ]
  },
  {
   "cell_type": "markdown",
   "metadata": {},
   "source": [
    "### *General unstructured model without interference competition*"
   ]
  },
  {
   "cell_type": "markdown",
   "metadata": {},
   "source": [
    "\\begin{equation}\n",
    "    \\begin{aligned}\n",
    "    \\frac{dR}{dt} &= F(R) - G_c(R)C - G_p(R,C)P \\\\\n",
    "    \\frac{dC}{dt} &= \\epsilon_1 G_c(R)C - H_p(R,C)P - q_1C \\\\\n",
    "    \\frac{dP}{dt} &= P[\\epsilon_2 G_p(R,C) + \\epsilon_3 H_p(R,C) - q_2 ]\n",
    "    \\end{aligned}\n",
    "\\end{equation}\n"
   ]
  },
  {
   "cell_type": "markdown",
   "metadata": {},
   "source": [
    "###*Lotka-Volterra* model"
   ]
  },
  {
   "cell_type": "markdown",
   "metadata": {},
   "source": [
    "\\begin{equation}\n",
    "    \\begin{aligned}\n",
    "    \\frac{dR}{dt} &=  R[r(1-\\frac{R}{K}) - \\alpha_1 C - \\alpha_2 P] \\\\\n",
    "    \\frac{dC}{dt} &=  C[\\epsilon_1 \\alpha_1 R - \\alpha_3 P - q_1] \\\\\n",
    "    \\frac{dP}{dt} &=  P[\\epsilon_2 \\alpha_2 R + \\epsilon_3 \\alpha_3 C - q_2]\n",
    "    \\end{aligned} \n",
    "\\end{equation}"
   ]
  },
  {
   "cell_type": "markdown",
   "metadata": {},
   "source": [
    "####*Adimensional model*"
   ]
  },
  {
   "cell_type": "markdown",
   "metadata": {},
   "source": [
    "Setting :\n",
    "\\begin{equation}\n",
    "    \\begin{aligned}\n",
    "        x &= \\frac{R}{K} \\\\\n",
    "        y &= \\frac{C}{K} \\\\\n",
    "        z &= \\frac{P}{K} \\\\\n",
    "        \\tau &= r t \\\\\n",
    "        \\delta_i&= \\frac{q_i}{r} \\\\\n",
    "        \\omega_i &= \\frac{\\alpha_iK}{r}\\\\\n",
    "    \\end{aligned}\n",
    "\\end{equation}"
   ]
  },
  {
   "cell_type": "markdown",
   "metadata": {},
   "source": [
    "\\begin{equation}\n",
    "    \\begin{aligned}\n",
    "    \\frac{dx}{d\\tau} &=  x[(1- x) - \\omega_1y - \\omega_2z] \\\\\n",
    "    \\frac{dy}{d\\tau} &=  y[\\epsilon_1 \\omega_1x - \\omega_3 z - \\delta_1] \\\\\n",
    "    \\frac{dz}{d\\tau} &=  z[\\epsilon_2 \\omega_2x + \\epsilon_3 \\omega_3 y - \\delta_2]\n",
    "    \\end{aligned} \n",
    "\\end{equation}"
   ]
  },
  {
   "cell_type": "markdown",
   "metadata": {},
   "source": [
    "### *Rozenweigh-MacArthur* model"
   ]
  },
  {
   "cell_type": "markdown",
   "metadata": {},
   "source": [
    "\\begin{equation}\n",
    "    \\begin{aligned}\n",
    "    \\frac{dR}{dt} &=  R[r(1-\\frac{R}{K}) - \\frac{\\alpha_1 C}{1+t_{h,c}m_C\\alpha_1 R} - \\frac{\\alpha_2 P}{1 + t_{h,p} m_P(\\alpha_2 R + \\alpha_3 C)}] \\\\\n",
    "    \\frac{dC}{dt} &=  C[\\frac{\\epsilon_1 \\alpha_1 R}{1 + t_{h,c} m_C\\alpha_1 R} - \\frac{\\alpha_3 P}{1 + t_{h,p}m_P(\\alpha_2 R+ \\alpha_3 C)} - q_1] \\\\\n",
    "    \\frac{dP}{dt} &=  P[\\frac{\\epsilon_2 \\alpha_2 R + \\epsilon_3 \\alpha_3 C}{1 + t_{h,p}m_P(\\alpha_2 R + \\alpha_3 C)} - q_2]\n",
    "    \\end{aligned} \n",
    "\\end{equation}"
   ]
  },
  {
   "cell_type": "markdown",
   "metadata": {},
   "source": [
    "set:\n",
    "\\begin{equation} \n",
    "    \\begin{aligned}\n",
    "        \\eta_{p} &= r t_{h,p}m_P\\\\\n",
    "        \\eta_{c} &= r t_{h,c}m_C\n",
    "    \\end{aligned}\n",
    "\\end{equation}"
   ]
  },
  {
   "cell_type": "markdown",
   "metadata": {},
   "source": [
    "\\begin{equation}\n",
    "    \\begin{aligned}\n",
    "    \\frac{dx}{d\\tau} &=  x[(1- x) - \\frac{\\omega_1y}{1 + \\eta_c \\omega_1 x}- \\frac{\\omega_2z}{1 + \\eta_p(\\omega_2 x + \\omega_3 y)}] \\\\\n",
    "    \\frac{dy}{d\\tau} &=  y[\\frac{\\epsilon_1 \\omega_1x}{1+\\eta_c \\omega_1 x}- \\frac{\\omega_3 z }{1+\\eta_p(\\omega_2x + \\omega_3 y)} - \\delta_1] \\\\\n",
    "    \\frac{dz}{d\\tau} &=  z[\\frac{\\epsilon_2 \\omega_2x + \\epsilon_3 \\omega_3 y }{1 +\\eta_p(\\omega_2x + \\omega_3 y)}- \\delta_2]\n",
    "    \\end{aligned} \n",
    "\\end{equation}"
   ]
  },
  {
   "cell_type": "markdown",
   "metadata": {},
   "source": [
    "#Parameters"
   ]
  },
  {
   "cell_type": "markdown",
   "metadata": {},
   "source": [
    "| Parameter name   |  Description | Dependencies |Source|\n",
    "|:----------------:|:--------------:|:--------------:|:------:|\n",
    "| r | Intrinsic rate of biomass production per unit biomass | body mass , temperature , metabolic type | [Savage et.al 2004][1]|\n",
    "| K | Maximum standing biomass in the environment| body mass, temperature , metabolic type| [Savage et.al 2004][1]|\n",
    "|$q_i$| Rate of biomass loss for consumer $i$ per unit biomass | body mass ,temperature ,metabolic type | [Savage et.al 2004][1]|\n",
    "|$\\alpha_i$| Capture rate of the prey per unit biomass of predator | body mass , size-ratio, temperature, metabolic type, dimension in which resource moves *relative* to the predator, predator's foraging mode | [Pawar et.al 2012][2],[Dell et.al 2013][3]|\n",
    "|$t_{h,i}$| Handling time per unit of prey biomass of the consumer $i$ | body mass, temperature , metabolic type| [Pawar et.al 2012][2],[Dell et.al 2013][3]|\n",
    "\n",
    "\n",
    "\n",
    "[1]: http://www.jstor.org/discover/10.1086/381872?sid=21106171006043&uid=2&uid=4&uid=3738800\n",
    "[2]: http://www.nature.com/nature/journal/v486/n7404/full/nature11131.html\n",
    "[3]: http://onlinelibrary.wiley.com/doi/10.1111/1365-2656.12081/abstract\n",
    "\n",
    "\n"
   ]
  },
  {
   "cell_type": "markdown",
   "metadata": {},
   "source": [
    "The specific form of the dependencies of each of the parameters is given [here](Parametrization.ipynb) , and the python code to implement both systems of ODEs and subsystems(2 especies subset) can be found [here][1]\n",
    "\n",
    "[1]:https://github.com/Carlos16/Tesis-IGP/blob/master/code/Theory/Model-Construction.Parametrization/Dynamics.py"
   ]
  },
  {
   "cell_type": "markdown",
   "metadata": {},
   "source": [
    "#Isoclines"
   ]
  },
  {
   "cell_type": "markdown",
   "metadata": {},
   "source": [
    "*Lotka-Volterra*"
   ]
  },
  {
   "cell_type": "markdown",
   "metadata": {},
   "source": [
    "\\begin{equation}\n",
    "    \\begin{aligned}\n",
    "        & R_0 := \\{ (x,y,z) \\in \\mathbb{R}^3 / \\frac{1}{\\omega_2}x + \\frac{\\omega_1}{\\omega_2} y +z = 1\\} \\\\\n",
    "        & C_0 := \\{ (x,y,z) \\in \\mathbb{R}^3 / \\frac{\\epsilon_1 \\omega_1}{\\omega_3} x  - z = \\frac{\\delta_1}{\\omega_3} \\} \\\\\n",
    "        & P_0 := \\{ (x,y,z) \\in \\mathbb{R}^3 / \\frac{\\epsilon_2 \\omega_2}{\\epsilon_3 \\omega_3} x +y  = \\frac{\\delta_2}{\\epsilon_3\\omega_3}\\}\n",
    "    \\end{aligned}\n",
    "\\end{equation}"
   ]
  },
  {
   "cell_type": "code",
   "execution_count": 12,
   "metadata": {
    "collapsed": true
   },
   "outputs": [],
   "source": [
    "%matplotlib inline"
   ]
  },
  {
   "cell_type": "code",
   "execution_count": 2,
   "metadata": {
    "collapsed": false
   },
   "outputs": [],
   "source": [
    "import numpy as np\n",
    "import matplotlib.pyplot as plt\n",
    "from mpl_toolkits.mplot3d import Axes3D\n",
    "\n",
    "\n",
    "\n",
    "def Isoclines(y,z,w1,w2,w3,e1,e2,e3,d1,d2):\n",
    "    R = 1 - w1*y - w2*z\n",
    "    C = (w3* z  + d1)/(e1*w1)\n",
    "    P = (-e3*w3*y + d2)/(e2*w2)\n",
    "    \n",
    "    return R,C,P\n",
    "\n",
    "yrange = np.arange(0,50,0.1)\n",
    "zrange = np.arange(0,50,0.1)\n",
    "\n",
    "w1 = 1\n",
    "w2 = 0.5\n",
    "w3 = 0.3\n",
    "e1 = 0.4\n",
    "e2 = 0.2\n",
    "e3 = 0.3\n",
    "d1 = 0.05\n",
    "d2 = 0.06\n",
    "\n",
    "Y,Z = np.meshgrid(yrange,zrange)\n",
    "R,C,P = Isoclines(Y,Z,w1,w2,w3,e1,e2,e3,d1,d2)\n",
    "\n",
    "    \n",
    "fig = plt.figure()\n",
    "axes = fig.add_subplot(111, projection='3d')\n",
    "\n",
    "axes.plot_wireframe(Y,Z,R,rstride = 50 ,cstride=50)\n",
    "axes.plot_wireframe(C,Y,Z,rstride = 50 ,cstride=50)\n",
    "axes.plot_wireframe(P,Y,Z,rstride = 50 ,cstride=50)\n",
    "\n",
    "plt.show()"
   ]
  },
  {
   "cell_type": "code",
   "execution_count": 9,
   "metadata": {
    "collapsed": false
   },
   "outputs": [
    {
     "data": {
      "text/plain": [
       "0.80000000000000004"
      ]
     },
     "execution_count": 9,
     "metadata": {},
     "output_type": "execute_result"
    }
   ],
   "source": []
  }
 ],
 "metadata": {
  "kernelspec": {
   "display_name": "IPython (Python 2)",
   "name": "python2"
  },
  "language_info": {
   "codemirror_mode": {
    "name": "ipython",
    "version": 2
   },
   "file_extension": ".py",
   "mimetype": "text/x-python",
   "name": "python",
   "nbconvert_exporter": "python",
   "pygments_lexer": "ipython2",
   "version": "2.7.9"
  }
 },
 "nbformat": 4,
 "nbformat_minor": 0
}