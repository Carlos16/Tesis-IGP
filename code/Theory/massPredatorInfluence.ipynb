{
 "cells": [
  {
   "cell_type": "markdown",
   "metadata": {},
   "source": [
    "#Influence of Predator mass over the Invasibility functions"
   ]
  },
  {
   "cell_type": "markdown",
   "metadata": {},
   "source": [
    "##Scenario 2"
   ]
  },
  {
   "cell_type": "markdown",
   "metadata": {},
   "source": [
    "\\begin{equation}\n",
    "    \\frac{\\partial \\varphi_c}{\\partial m_P} = \\epsilon_1(\\frac{\\partial K}{\\partial m_P} \\alpha_1 + K \\frac{\\partial \\alpha_1}{\\partial m_P}) - \\frac{\\partial q_1}{\\partial m_P}\n",
    "\\end{equation}"
   ]
  },
  {
   "cell_type": "markdown",
   "metadata": {},
   "source": [
    "Where :\n",
    "\\begin{equation}\n",
    "    \\begin{aligned}\n",
    "        &\\frac{\\partial K}{\\partial m_P} = (1-w)K_0 k_{RP}^{(1-w)} m_P^{-w} =  (1-w) K m_P^{-1} > 0 \\\\\n",
    "        &\\frac{\\partial \\alpha_1}{\\partial m_P} = (p_v + 2(D_R - 1) pd - 1) \\alpha_1 m_P^{-1} \\begin{cases} <0 &D_R = 2\\\\ >0 &D_R = 3 \\end{cases} \\\\\n",
    "        &\\frac{\\partial q_1}{\\partial m_P} = (w-1) q_1 m_p^{-1} < 0 \n",
    "    \\end{aligned}\n",
    "\\end{equation}"
   ]
  },
  {
   "cell_type": "markdown",
   "metadata": {},
   "source": [
    "then:\n",
    "\\begin{equation}\n",
    "    \\frac{\\partial \\varphi_c}{\\partial m_P} = m_P^{-1}(\\epsilon_1K\\alpha_1( pv + 2(D_R-1) -w) + (1-w)q_1) \\begin{cases} >0 &,D_C = 3 \\\\ >0 \\ \\lor <0 &, D_R = 2 \\end{cases}\n",
    "\\end{equation}"
   ]
  },
  {
   "cell_type": "markdown",
   "metadata": {},
   "source": [
    "##Scenario 3"
   ]
  },
  {
   "cell_type": "markdown",
   "metadata": {},
   "source": [
    "\\begin{equation}\n",
    "    \\frac{\\partial \\varphi_p}{\\partial m_P} = \\epsilon_2(\\frac{\\partial K}{\\partial m_P} \\alpha_2 + K \\frac{\\partial \\alpha_2}{\\partial m_P}) - \\frac{\\partial q_2}{m_P}\n",
    "\\end{equation}\n"
   ]
  },
  {
   "cell_type": "markdown",
   "metadata": {},
   "source": [
    "Where :\n",
    "\\begin{equation}\n",
    "    \\begin{aligned}\n",
    "        &\\frac{\\partial \\alpha_2}{\\partial m_P} = (p_v + 2(D_R - 1) p_d - 1) \\alpha_2 m_P^{-1} \\begin{cases} <0 &D_R = 2\\\\ >0 &D_R = 3 \\end{cases} \\\\\n",
    "        &\\frac{\\partial q_2}{\\partial m_P} = (w-1) q_2 m_p^{-1} < 0 \n",
    "    \\end{aligned}\n",
    "\\end{equation}"
   ]
  },
  {
   "cell_type": "markdown",
   "metadata": {},
   "source": [
    "then:\n",
    "\\begin{equation}\n",
    "    \\frac{\\partial \\varphi_p}{\\partial m_P} = m_P^{-1}(\\epsilon_2K\\alpha_2( pv + 2(D_R-1) -w) + (1-w)q_2) \\begin{cases} >0 &,D_C = 3 \\\\ >0 \\ \\lor <0 &, D_R = 2 \\end{cases}\n",
    "\\end{equation}"
   ]
  },
  {
   "cell_type": "markdown",
   "metadata": {},
   "source": [
    "##Scenario 4"
   ]
  },
  {
   "cell_type": "markdown",
   "metadata": {},
   "source": [
    "\\begin{equation}\n",
    "    \\frac{\\partial \\vartheta_p}{\\partial m_P} = \\epsilon_2(\\frac{\\partial \\hat{R}_2}{\\partial m_P} \\alpha_2 + \\hat{R}_2 \\frac{\\partial \\alpha_2}{\\partial m_P}) + \\epsilon_3(\\frac{\\partial \\hat{C}_2}{\\partial m_P} \\alpha_3 + \\hat{C}_2 \\frac{\\partial \\alpha_3}{\\partial m_P})  - \\frac{\\partial q_2}{m_P}\n",
    "\\end{equation}"
   ]
  },
  {
   "cell_type": "markdown",
   "metadata": {},
   "source": [
    "Where:\n",
    "\\begin{equation}\n",
    "    \\begin{aligned}\n",
    "        &\\frac{\\partial \\hat{R}_2}{\\partial m_P} = \\frac{1}{\\epsilon_1}(\\frac{-q_1}{\\alpha_1 ^2} \\frac{\\partial \\alpha_1}{\\partial m_P} + \\frac{\\partial q_1}{\\partial m_P}\\frac{1}{\\alpha_1} ) = m_P^{-1}\\hat{R}_2( w -(p_v + 2(D_R -1) p_d ) ) \\begin{cases} > 0 &, D_R = 2 \\\\ <0 &, D_C = 3 \\end{cases} \\\\\n",
    "        &\\frac{\\partial \\hat{C}_2}{\\partial m_P} = \\frac{r}{K}(\\frac{- \\frac{\\partial \\hat{R}_2}{\\partial m_P} \\alpha_1 - (K - \\hat{R}_2) \\frac{\\partial \\alpha_1}{\\partial m_p}}{\\alpha_1 ^2}) = \\frac{r}{K} \\frac{ (2\\hat{R}_2 - K) \\frac{\\partial \\alpha_1}{\\partial m_P}  + (1-w) \\hat{R}_2 \\alpha_1 m_P^{-1} } {\\alpha_1^{2}} = \\frac{r m_P^{-1}}{K \\alpha_1}(\\hat{R}_2 (2h + (1-w)) - hK )\\\\\n",
    "        & h = p_v + 2(D_R -1)p_d - 1 \\\\\n",
    "        &\\frac{\\partial \\alpha_3}{\\partial m_P} = (p_v + 2(D_R - 1) pd - 1) \\alpha_3 m_P^{-1} \\begin{cases} <0 &D_R = 2\\\\ >0 &D_R = 3 \\end{cases} \\\\\n",
    "    \\end{aligned}\n",
    "\\end{equation}"
   ]
  },
  {
   "cell_type": "markdown",
   "metadata": {},
   "source": [
    "##Scenario 5"
   ]
  },
  {
   "cell_type": "markdown",
   "metadata": {},
   "source": [
    "\\begin{equation}\n",
    "    \\frac{\\partial \\vartheta_c}{\\partial m_P} = \\epsilon_1(\\frac{\\partial \\hat{R}_3}{\\partial m_P} \\alpha_1 + \\hat{R}_3 \\frac{\\partial \\alpha_1}{\\partial m_P}) - (\\frac{\\partial \\hat{P}_3}{\\partial m_P} \\alpha_3 + \\hat{P}_3 \\frac{\\partial \\alpha_3}{\\partial m_P})  - \\frac{\\partial q_1}{m_P}\n",
    "\\end{equation}"
   ]
  },
  {
   "cell_type": "markdown",
   "metadata": {},
   "source": [
    "Where:\n",
    "\\begin{equation}\n",
    "    \\begin{aligned}\n",
    "        &\\frac{\\partial \\hat{R}_3}{\\partial m_P} = \\frac{1}{\\epsilon_2}(\\frac{-q_2}{\\alpha_2 ^2} \\frac{\\partial \\alpha_2}{\\partial m_P} + \\frac{\\partial q_2}{\\partial m_P}\\frac{1}{\\alpha_2} ) = m_P^{-1}\\hat{R}_3( w -(p_v + 2(D_R -1) p_d ) ) \\begin{cases} > 0 &, D_R = 2 \\\\ <0 &, D_C = 3 \\end{cases}\\\\\n",
    "        &\\frac{\\partial \\hat{P}_3}{\\partial m_P} = \\frac{r}{K}(\\frac{- \\frac{\\partial \\hat{R}_3}{\\partial m_P} \\alpha_2 - (K - \\hat{R}_3) \\frac{\\partial \\alpha_2}{\\partial m_P}}{\\alpha_2 ^2}) = \\frac{r}{K} \\frac{ (2\\hat{R}_3 - K) \\frac{\\partial \\alpha_2}{\\partial m_P}  + (1-w) \\hat{R}_3 \\alpha_2 m_P^{-1} } {\\alpha_2^{2}} = \\frac{r m_P^{-1}}{K \\alpha_2}(\\hat{R}_3(2h + (1-w)) - hK )\n",
    "    \\end{aligned}\n",
    "\\end{equation}"
   ]
  }
 ],
 "metadata": {
  "kernelspec": {
   "display_name": "IPython (Python 2)",
   "name": "python2"
  },
  "language_info": {
   "codemirror_mode": {
    "name": "ipython",
    "version": 2
   },
   "file_extension": ".py",
   "mimetype": "text/x-python",
   "name": "python",
   "nbconvert_exporter": "python",
   "pygments_lexer": "ipython2",
   "version": "2.7.9"
  }
 },
 "nbformat": 4,
 "nbformat_minor": 0
}