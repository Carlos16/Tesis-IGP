{
 "cells": [
  {
   "cell_type": "markdown",
   "metadata": {},
   "source": [
    "#Invasibility Analysis"
   ]
  },
  {
   "cell_type": "markdown",
   "metadata": {},
   "source": [
    "In what follows we will derive invasibility criteria of a species for the diverse scenarios(different recipient subsystems) that could arise in the different [models](Models.ipynb), that is conditions for $\\frac{dJ}{dt} > 0 $ when $J \\approx 0$ for the species $J$ in the given scenario.  \n",
    "There exists 5 scenarios :\n",
    "\n",
    "* **Scenario 1** : R alone \n",
    "* **Scenario 2** : C to R\n",
    "* **Scenario 3** : P to R\n",
    "* **Scenario 4** : P to C-R\n",
    "* **Scenario 5** : C to P-R\n",
    "\n",
    "\n",
    "Assumptions<sup>1:\n",
    "\n",
    "* The recipient system has a point attractor **X** which is stable\n",
    "* The recipient system state is **X** at the moment of the invasion , this could arise because :  \n",
    "    * The recipient system initial state before the invasion is in the *bassin of attraction* of **X**  \n",
    "      \n",
    "         \n",
    "Let $\\hat{J}_i$ denote the equilibrium value of species $J$ in the system composed for the species present in the scenario $i$ (e.g scenario $\\hat{C}_2$ denotes the biomass density of $C$ at the equilibrium of the $C-R$ system.\n",
    "\n",
    "<sup>1</sup>:<sub>This assumptions always hold in the *Lotka-Volterra* model, but we need to check its validity for the *Rozenweigh-MacArthur* model, and devise a strategy for invasibility in the case of other types of attractors , such as *limit-cycles*\n",
    "\n"
   ]
  },
  {
   "cell_type": "markdown",
   "metadata": {},
   "source": [
    "#Invasibility Conditions"
   ]
  },
  {
   "cell_type": "markdown",
   "metadata": {},
   "source": [
    "# Scenario 1"
   ]
  },
  {
   "cell_type": "markdown",
   "metadata": {},
   "source": [
    "##Unstructured models"
   ]
  },
  {
   "cell_type": "markdown",
   "metadata": {},
   "source": [
    "###General model\n",
    "\\begin{equation}\n",
    "\\frac{dR}{dt}= F(R)\n",
    "\\end{equation}\n",
    "\n",
    "**Condition for Invasion ** is  \n",
    "\\begin{equation} F(R) > 0 \\end{equation}"
   ]
  },
  {
   "cell_type": "markdown",
   "metadata": {},
   "source": [
    "###Lotka-Volterra"
   ]
  },
  {
   "cell_type": "markdown",
   "metadata": {},
   "source": [
    "In this case we have :  \n",
    "$F(R)  = rR(1-\\frac{R}{K})$\n",
    "\n",
    "Therefore the condition for invasion is(recall $R \\approx 0$ ):\n",
    "\\begin{equation} r >0 \\end{equation}\n",
    "\n",
    "Furthermore if $ r > 0 $ we also have a nontrivial stable(global) point attractor. Following our [parameterization](Parametrization.ipynb#Intra-population-parameters) this condition will always be satified if we assume $r_0 > 0 $<sup>1\n",
    "\n",
    "<sup>1</sup> : <sub>We will always assume that the resource could persist alone therefore $r_0 > 0$, since otherwise we could not have a bigger set of species in the habitat(following the specified dynamics).<sub>"
   ]
  },
  {
   "cell_type": "markdown",
   "metadata": {},
   "source": [
    "###Rosenzweig-MacArthur"
   ]
  },
  {
   "cell_type": "markdown",
   "metadata": {},
   "source": [
    "The condition is the same as the above one"
   ]
  },
  {
   "cell_type": "markdown",
   "metadata": {},
   "source": [
    "#Scenario 2"
   ]
  },
  {
   "cell_type": "markdown",
   "metadata": {},
   "source": [
    "##Unstructured models"
   ]
  },
  {
   "cell_type": "markdown",
   "metadata": {},
   "source": [
    "### General Model"
   ]
  },
  {
   "cell_type": "markdown",
   "metadata": {},
   "source": [
    "Let :  \n",
    "\\begin{equation}\n",
    "\\varphi(R) = \\epsilon_1 G(R)- q_1\n",
    "\\end{equation}\n",
    "\n",
    "The condition for invasibility is :  \n",
    "\\begin{equation}\n",
    "    \\begin{aligned}\n",
    "        &\\frac{dC}{dt}(C,\\hat{R}_1) = C \\varphi(\\hat{R}_1) > 0 \\iff \\\\\n",
    "        &\\varphi(\\hat{R}_1) > 0\n",
    "    \\end{aligned}\n",
    "\\end{equation}\n",
    "\n",
    "Where $F(\\hat{R}_1) = 0$ \n",
    "\n",
    "It is easly [shown](Proofs.ipynb#Proposition-1) that $\\varphi(\\hat{R}_1) >0  $ is a necessary and suficient condition for the system to have a positive equilibrium, under some general assumptions."
   ]
  },
  {
   "cell_type": "markdown",
   "metadata": {},
   "source": [
    "###Lotka-Volterra"
   ]
  },
  {
   "cell_type": "markdown",
   "metadata": {},
   "source": [
    "The condition for invasibility in this case is :  \n",
    "\n",
    "\\begin{equation}\n",
    "    \\varphi_c = \\epsilon_1 \\alpha_1 \\hat{R_1} - q_1 >0 \n",
    "\\end{equation}\n",
    "\n",
    "where $\\hat{R_1} = K $  \n",
    "Using our [paremeterization](Parametrization.ipynb) we have:"
   ]
  },
  {
   "cell_type": "markdown",
   "metadata": {},
   "source": [
    "\\begin{equation}\n",
    "    \\varphi_c(m_C,k_{RC},T_R,T_C,f_C,D_R,\\vartheta_R,\\vartheta_C) = \\epsilon_1 \\alpha_{1_0} m_C^{p_v+2(D_R-1)p_d -1 } g_1(k_{RC},T_R,T_C,f_C,D_R,\\vartheta_R,\\vartheta_C) \\Phi(k_{RC})k_0 (k_{RC} m_C)^{-w+1}e^{E_K/k T_R} -  q_{1_0} m_C^{w-1}e^{-E_{q_1}/k T_C} > 0\n",
    "\\end{equation} "
   ]
  },
  {
   "cell_type": "markdown",
   "metadata": {},
   "source": [
    "To show the final form of a particular example we set the foraging mode to *Active-Capture* and the thermy to *Ectothermic consumer-Ectothermic resource*, the condition reduces to:\n",
    "\n",
    "\\begin{equation}\n",
    "    \\varphi_c(m_C,k_{RC},T_R,T_C,D_R) = \\epsilon_1 \\alpha_{1_0} m_C^{p_v+2(D_R-1)p_d -1 }  v_{0,C} e^{-E_C/k T_C} \\sqrt{ 1+ (\\frac{v_{0,R}}{v_{0,C}}) k_{RC}^{2p_v} \\Delta_{RC}^2} k_{RC}^{(D_R-1)p_d} \\Phi(k_{RC})k_0 (k_{RC} m_C)^{-w+1}e^{E_K/k T_R}  -  q_{1_0} m_C^{w-1}e^{-E_{q_1}/k T_C} >0\n",
    "\\end{equation}"
   ]
  },
  {
   "cell_type": "markdown",
   "metadata": {},
   "source": [
    "###Grazing"
   ]
  },
  {
   "cell_type": "markdown",
   "metadata": {},
   "source": [
    "Define\n",
    "\\begin{equation}\n",
    "    \\begin{aligned}\n",
    "        a_0 &= \\alpha_{1,0} v_{0,C} e^{-E_C/kT_C} \\\\\n",
    "        b_0 &= k_0 e^{E_K/kT_R}\\\\\n",
    "        d_0 &= q_{1,0} e^{-E_{q_1}/kT_C} \\\\\n",
    "        g_0 &= \\frac{d_0}{\\epsilon_1 a_0 b_0}\\\\\n",
    "        h &= p_v + 2(D_R -1)p_d \\\\\n",
    "        u &= 2(D_R -1)p_d\n",
    "    \\end{aligned}\n",
    "\\end{equation}\n",
    "Then the condition for invasibility is :\n",
    "\\begin{equation}\n",
    "    k_{CP} = (\\frac{g_0 m_P^{2w - 1 -h} (1 + k_{RC}^b)}{k_{RC}^{1+u-w}})^{(\\frac{1}{1+h -2w})}\n",
    "\\end{equation}"
   ]
  },
  {
   "cell_type": "markdown",
   "metadata": {},
   "source": [
    "###Sit and Wait"
   ]
  },
  {
   "cell_type": "markdown",
   "metadata": {},
   "source": [
    "Using the above definitions and with:\n",
    "\\begin{equation}\n",
    "    \\begin{aligned}\n",
    "        a_{0,2} &= \\alpha_{1,0}v_{0,R}e^{-E_R/kT_R}\\\\\n",
    "        g_{0,2} &= \\frac{d_0}{\\epsilon_1 a_{0,2} b0} \n",
    "    \\end{aligned}\n",
    "\\end{equation}\n",
    "The condition for invasibility is :\n",
    "\\begin{equation}\n",
    "    k_{CP} = (\\frac{g_{0,2} m_P^{2w - 1 -h} (1 + k_{RC}^b)}{k_{RC}^{1+u-w+p_v}})^{(\\frac{1}{1+h -2w})}\n",
    "\\end{equation}"
   ]
  },
  {
   "cell_type": "markdown",
   "metadata": {},
   "source": [
    "###Active"
   ]
  },
  {
   "cell_type": "markdown",
   "metadata": {},
   "source": [
    "The condition for invasibility is :\n",
    "\\begin{equation}\n",
    "    k_{CP} = (\\frac{g_0 m_P^{2w - 1 -h} (1 + k_{RC}^b)}{k_{RC}^{1+u-w}\\sqrt{1+f_0 k_{RC}^{2p_v}}})^{(\\frac{1}{1+h -2w})}\n",
    "\\end{equation}"
   ]
  },
  {
   "cell_type": "markdown",
   "metadata": {},
   "source": [
    "where:\n",
    "\\begin{equation}\n",
    "    f_0 = \\frac{v_{0,R}}{v_{0,C}} \\Delta_{RC}^2\n",
    "\\end{equation}"
   ]
  },
  {
   "cell_type": "markdown",
   "metadata": {},
   "source": [
    "###Rosenzweig-MacArthur"
   ]
  },
  {
   "cell_type": "markdown",
   "metadata": {},
   "source": [
    "Let :\n",
    "\\begin{equation}\n",
    "    \\begin{aligned}\n",
    "        \\varphi_c &= \\epsilon_1 \\alpha_1 R - q_1 (1+ t_{h,c} m_C \\alpha_1 R) \\\\\n",
    "                  &= \\alpha_1 R(\\epsilon_1 - q_1 t_{h,c} m_C) - q_1 \\\\ \n",
    "    \\end{aligned}\n",
    "\\end{equation}\n",
    "The condition now is:\n",
    "\n",
    "\\begin{equation}\n",
    "    \\varphi_c (\\hat{R}_1) >0\n",
    "\\end{equation}\n",
    "\n",
    "Where again $\\hat{R}_1 = K$ and translating it using our [parametrization](Parametrization.ipynb) we have :"
   ]
  },
  {
   "cell_type": "markdown",
   "metadata": {},
   "source": [
    "\\begin{equation}\n",
    "    \\varphi(\\hat{R}_1) = \\varphi_c(m_C,k_{RC},T_R,T_C,f_C,D_R,\\vartheta_R,\\vartheta_C) = \\epsilon_1 \\alpha_{1_0} m_C^{p_v+2(D_R-1)p_d -1 } g_1(k_{RC},T_R,T_C,f_C,D_R,\\vartheta_R,\\vartheta_C) \\Phi(k_{RC})k_0 (k_{RC} m_C)^{-w+1}e^{E_K/k T_R}(1 - h_{0,c}q_{1_0} e^{(E_C-E_{q_1})/kT_C}) -  q_{1_0} m_C^{w-1}e^{-E_{q_1}/k T_C}\n",
    "\\end{equation}\n",
    "For the same particular example as above we have:  \n",
    "\n",
    "\\begin{equation}\n",
    "\\varphi(\\hat{R}_1) = \\varphi_c(m_C,k_{RC},T_R,T_C,D_R) = \\epsilon_1 \\alpha_{1_0} m_C^{p_v+2(D_R-1)p_d -1 }  v_{0,C} e^{-E_C/k T_C} \\sqrt{ 1+ (\\frac{v_{0,R}}{v_{0,C}}) k_{RC}^{2p_v} \\Delta_{RC}^2} k_{RC}^{(D_R-1)p_d} \\Phi(k_{RC})k_0 (k_{RC} m_C)^{-w+1}e^{E_K/k T_R}(1 - h_{0,c}q_{1_0} e^{(E_C-E_{q_1})/kT_C}) m_C^{w-1}e^{-E_{q_1}/k T_C}\n",
    "\\end{equation}"
   ]
  },
  {
   "cell_type": "markdown",
   "metadata": {},
   "source": [
    "The conditions for **scenario 3** are similar, albeit replacing *C* for *R* in the above derivations"
   ]
  },
  {
   "cell_type": "markdown",
   "metadata": {},
   "source": [
    "#Scenario 4"
   ]
  },
  {
   "cell_type": "markdown",
   "metadata": {},
   "source": [
    "##Unstructured models"
   ]
  },
  {
   "cell_type": "markdown",
   "metadata": {},
   "source": [
    "###General model"
   ]
  },
  {
   "cell_type": "markdown",
   "metadata": {
    "collapsed": true
   },
   "source": [
    "Let:\n",
    "\\begin{equation}\n",
    "    \\Psi(R,C) := \\epsilon_2 G_p(R,C) + \\epsilon_3 H_p(R,C) - q_2\n",
    "\\end{equation}\n",
    "\n",
    "The invasibility condition now is:\n",
    "\n",
    "\\begin{equation}\n",
    "    \\begin{aligned}\n",
    "        &\\frac{dP}{dt}(\\hat{R}_2,\\hat{C}_2,P)  = P \\Psi(\\hat{R}_2,\\hat{C}_2) >0 \\iff \\\\\n",
    "        &\\Psi(\\hat{R}_2,\\hat{C}_2) > 0 \n",
    "    \\end{aligned}\n",
    "\\end{equation}"
   ]
  },
  {
   "cell_type": "markdown",
   "metadata": {},
   "source": [
    "Where we have that :   \n",
    "\\begin{equation}\n",
    "\\mathbf{N}:= (\\frac{dR}{dt},\\frac{dC}{dt},\\frac{dP}{dt}) , \\mathbf{N}(\\hat{R}_2,\\hat{C}_2,0) = 0 \n",
    "\\end{equation}"
   ]
  },
  {
   "cell_type": "markdown",
   "metadata": {},
   "source": [
    "More specifically :  \n",
    "\\begin{equation}\n",
    "    \\begin{aligned}\n",
    "        &F(\\hat{R}_2) - G_c(\\hat{R}_2)\\hat{C}_2 = 0 \\\\\n",
    "        &G_c(\\hat{R}_2) = \\frac{q_1}{\\epsilon_1}\n",
    "    \\end{aligned}\n",
    "\\end{equation}"
   ]
  },
  {
   "cell_type": "markdown",
   "metadata": {},
   "source": [
    "### Lotka-Volterra"
   ]
  },
  {
   "cell_type": "markdown",
   "metadata": {},
   "source": [
    "The condition is :\n",
    "\\begin{equation}\n",
    "    \\vartheta_p = \\epsilon_2 \\alpha_2 \\hat{R}_2 + \\epsilon_3 \\alpha_3 \\hat{C}_2 - q_2 >0 \n",
    "\\end{equation}\n"
   ]
  },
  {
   "cell_type": "markdown",
   "metadata": {},
   "source": [
    "Where : \n",
    "\\begin{equation}\n",
    "    \\begin{aligned}\n",
    "        \\hat{R}_2 &= \\frac{q_1}{\\epsilon_1 \\alpha_1} \\\\\n",
    "        \\hat{C}_2 &= \\frac{r}{\\alpha_1}(1-\\frac{\\hat{R}_2}{K})\n",
    "    \\end{aligned}\n",
    "\\end{equation}\n",
    "       "
   ]
  },
  {
   "cell_type": "markdown",
   "metadata": {},
   "source": [
    "As before we could use our parametrization to convert both of the above expressions in relationships involving *size ratios* and *top predator body mass* , this won't be shown due to its length and because they involve simple replacements"
   ]
  },
  {
   "cell_type": "markdown",
   "metadata": {},
   "source": [
    "###Rosenzweig-MacArhtur"
   ]
  },
  {
   "cell_type": "markdown",
   "metadata": {},
   "source": [
    "Define\n",
    "\\begin{equation}\n",
    "    \\begin{aligned}\n",
    "        \\vartheta_p(R,C) &:= \\epsilon_2 \\alpha_2 R + \\epsilon_3 \\alpha_3 C - q_2 (1+t_{h,p}m_P(\\alpha_2 R + \\alpha_3 C)) \\\\\n",
    "                    &= \\alpha_2 R( \\epsilon_2 - q_2 t_{h,p} m_P) + \\alpha_3 C (\\epsilon_3 - q_2 t_{h,p}m_P) - q_2\n",
    "    \\end{aligned}\n",
    "\\end{equation}\n",
    "The condition in this case is :\n",
    "\\begin{equation}\n",
    "    \\vartheta_p(\\hat{R}_2,\\hat{C}_2) > 0 \n",
    "\\end{equation}"
   ]
  },
  {
   "cell_type": "markdown",
   "metadata": {},
   "source": [
    "Where:\n",
    "\\begin{equation}\n",
    "    \\begin{aligned}\n",
    "        \\hat{R}_2 &= \\frac{q_1}{\\alpha_1 (\\epsilon_1 - t_{h,c} m_C q_1)} \\\\\n",
    "        \\hat{C}_2 &= \\frac{\\epsilon_1 r \\hat{R}_2}{q_1}(1-\\frac{\\hat{R}_2}{K})\n",
    "    \\end{aligned}\n",
    "\\end{equation}"
   ]
  },
  {
   "cell_type": "markdown",
   "metadata": {},
   "source": [
    "We also show [here](Proofs.ipynb#Proposion-2) that the condition for $\\hat{R}_2$ to become $\\infty$ is not dependent on any of the parameters that we are interested( $k_{RC},k_{CP},m_P$) therefore $\\vartheta_p$ is *continuous* with respect to them in the domain of variation we are focused(e.g $k_{RC} > 0,m_P >0$)."
   ]
  },
  {
   "cell_type": "markdown",
   "metadata": {},
   "source": [
    "#Scenario 5"
   ]
  },
  {
   "cell_type": "markdown",
   "metadata": {},
   "source": [
    "##Unstructured models"
   ]
  },
  {
   "cell_type": "markdown",
   "metadata": {},
   "source": [
    "###General model"
   ]
  },
  {
   "cell_type": "markdown",
   "metadata": {},
   "source": [
    "Define:\n",
    "\\begin{equation}\n",
    "    \\vartheta_c := \\epsilon_1 G_c(R)  - T(R) P - q_1\n",
    "\\end{equation}\n",
    "Assuming \n",
    "\\begin{equation}\n",
    "    \\begin{aligned}\n",
    "        H_p(R,C) &= C J_p(R,C) \\\\\n",
    "        J_p(R,C) &\\ continuous \\\\\n",
    "        J_p(R,0) &= T(R) , exists \\\\\n",
    "        J_p(R,C) &\\approx T(R) ,if \\ C \\approx 0\n",
    "    \\end{aligned}\n",
    "\\end{equation}\n",
    "\n",
    "The condition becomes:\n",
    "\n",
    "\\begin{equation}\n",
    "    \\vartheta_c(\\hat{R}_3,\\hat{P}_3) > 0\n",
    "\\end{equation}\n",
    "Where:\n",
    "\n",
    "\\begin{equation}\n",
    "    \\begin{aligned}\n",
    "        &G_p(\\hat{R}_3) = \\frac{q_2}{\\epsilon_2} \\\\\n",
    "        &\\hat{P}_3 = \\frac{F(\\hat{R}_3)}{G_p(\\hat{R}_3,0)}\n",
    "    \\end{aligned}\n",
    "\\end{equation}\n",
    "\n"
   ]
  },
  {
   "cell_type": "markdown",
   "metadata": {},
   "source": [
    "###Lotka-Volterra"
   ]
  },
  {
   "cell_type": "markdown",
   "metadata": {},
   "source": [
    "Define :\n",
    "\\begin{equation}\n",
    "    \\vartheta_c := \\epsilon_1 \\alpha_1 R - \\alpha_3 P - q_1\n",
    "\\end{equation}\n",
    "The condition is :\n",
    "\\begin{equation}\n",
    "    \\vartheta_c(\\hat{R}_3,\\hat{P}_3) >0\n",
    "\\end{equation}"
   ]
  },
  {
   "cell_type": "markdown",
   "metadata": {},
   "source": [
    "where:\n",
    "\\begin{equation}\n",
    "    \\begin{aligned}\n",
    "        \\hat{R}_3 &= \\frac{q_2}{\\epsilon_2 \\alpha_2} \\\\\n",
    "        \\hat{P}_3 &= \\frac{r}{\\alpha_2}(1-\\frac{\\hat{R}_2}{K})\n",
    "    \\end{aligned}\n",
    "\\end{equation}"
   ]
  },
  {
   "cell_type": "markdown",
   "metadata": {},
   "source": [
    "###Rosenzweig-MacArthur"
   ]
  },
  {
   "cell_type": "markdown",
   "metadata": {},
   "source": [
    "Define :\n",
    "\\begin{equation}\n",
    "    \\begin{aligned}\n",
    "        \\vartheta_c(R,P) &= \\epsilon_1 \\alpha_1 R (1 + t_{h,p}m_P \\alpha_2 R) - (\\alpha_3 P (1+t_{h,c}m_C\\alpha_1 R) +\n",
    "                            q_1(1+t_{h,c}m_C\\alpha_1 R)(1 + t_{h,p}m_P \\alpha_2 R)) \\\\\n",
    "                        &=  (1 + \\alpha_2 t_{h,p}R)(\\alpha_1 R (\\epsilon_1 - q_1 t_{h,c}m_C) - q_1) - \\alpha_3 P(1+ t_{h,c}m_C\n",
    "                            \\alpha_1 R) \\\\\n",
    "                        &= \\alpha_1 R(\\epsilon_1 - q_1 t_{h,c}m_C)(1+\\alpha_2 t_{h,p}R) - \\alpha_3 P(1+ t_{h,c}m_C\n",
    "                            \\alpha_1 R) - q_1 ( 1 + \\alpha_1 t_{h,p}R) \n",
    "    \\end{aligned}\n",
    "\\end{equation}\n",
    "\n",
    "The condition now is:\n",
    "\\begin{equation}\n",
    "    \\vartheta_c(\\hat{R}_3,\\hat{P}_3) >0 \n",
    "\\end{equation}\n",
    "    "
   ]
  },
  {
   "cell_type": "markdown",
   "metadata": {},
   "source": [
    "where:\n",
    "\\begin{equation}\n",
    "    \\begin{aligned}\n",
    "        \\hat{R}_3 &= \\frac{q_2}{\\alpha_2(\\epsilon_2  - t_{h,p}m_P q_2)}\\\\\n",
    "        \\hat{P}_3 &= \\frac{\\epsilon_2 r \\hat{R}_3}{q_2} (1 - \\frac{\\hat{R}_3}{K})\n",
    "    \\end{aligned}\n",
    "\\end{equation}"
   ]
  },
  {
   "cell_type": "markdown",
   "metadata": {},
   "source": [
    "Replacing the equilibrium conditions we get : \n",
    "\n",
    "\\begin{equation}\n",
    "    \\vartheta(\\hat{R}_3 , \\hat{P}_3) = \\alpha_1 \\hat{R}_3(\\epsilon_1 - q_1 t_{h,c}m_C)(\\frac{\\epsilon_2}{\\epsilon_2 - q_2t_{h,p}m_P}) - \\alpha_3 P(1+t_{h,c}m_C\\alpha_1 \\hat{R}_3) - q_1 ( \\frac{\\epsilon_2}{\\epsilon_2 - q_2 t_{h,p}m_P})\n",
    "\\end{equation}"
   ]
  },
  {
   "cell_type": "code",
   "execution_count": 69,
   "metadata": {
    "collapsed": false
   },
   "outputs": [
    {
     "name": "stderr",
     "output_type": "stream",
     "text": [
      "C:\\Python27\\Lib\\site-packages\\IPython\\kernel\\__main__.py:29: RuntimeWarning: invalid value encountered in power\n"
     ]
    }
   ],
   "source": [
    "import numpy as np\n",
    "import matplotlib.pyplot as plt\n",
    "\n",
    "\n",
    "def InvaC2Active(mP,KRC,k0,e1,alfa0,q10,pv,pd,w,D_R,b):\n",
    "    b1 = e1*alfa0*k0\n",
    "    \n",
    "    return (q10*mP**(2*w- pv-2*(D_R-1)*pd -1 )*(1+KRC**b)/(b1*(1+KRC**(2*pv))**(0.5) *KRC**((D_R-1)*pd -w +1)))**(1./(pv+2*(D_R-1)*pd - 2*w +1))\n",
    "\n",
    "\n",
    "def InvaP4AGrGr(KRC,KCP,e1,e2,e3,alfa0,pv,pd,k0,r0,q10,q20,b,D_R,w):\n",
    "    p1 = pv + 2*(D_R-1)*pd -1\n",
    "    n1 = (D_R-1)*pd\n",
    "    n2 = w-1\n",
    "    p2 = 2*p1 - n1\n",
    "    b1 = e3*e1*r0*k0\n",
    "    b2 = e3*r0*q10\n",
    "    b3 = e2*q10*k0\n",
    "    b4 = q20*k0*e1\n",
    "    h = np.sqrt(1+KCP**(2*pv)) \n",
    "    \n",
    "    KRP = KRC*KCP\n",
    "    \n",
    "    w1 = alfa0*b3*KCP**p1*KRC**(2*n1)*(1+KRC**b)*(1+KCP**b)\n",
    "    w2 = alfa0*b1*KCP**p1*KRC**n1*h*(1+KRC**b)*(1+KRP**b)\n",
    "    w3 = b2*h*KCP**(2*n2)*KRC**n2 *(1+KRC**b)**2*(1+KRP**b)\n",
    "    w4 = alfa0*b4*KCP**p2*KRC**(2*n1)*KRP**(-n2)*(1+KRP**b)*(1+KCP**b)\n",
    "    \n",
    "    return (w3/(w1+w2 - w4))**(1/(p1-2*n2))\n",
    "\n",
    "\n",
    "\n",
    "KCP = 10**np.arange(-13,7,0.005)\n",
    "w = 0.75\n",
    "pd = 0.21\n",
    "pv = 0.26\n",
    "e1 = 0.3\n",
    "e2 = 0.1\n",
    "e3 = 0.5\n",
    "k0 = 0.01\n",
    "alfa0 = 10**(-3.08)\n",
    "b = 2.\n",
    "KRC =10**(np.arange(-13,7,0.005))\n",
    "D_R = 2\n",
    "q10 = 4.15e-8\n",
    "q20 = 4.15e-8\n",
    "r0 = 1.71e-6\n",
    "\n",
    "\n",
    "KCP,KRC = np.meshgrid(KCP,KRC)\n",
    "\n",
    "D_R2 = 3.\n",
    "k02 = 3.\n",
    "alfa02 = 10**(-1.77)\n",
    "\n",
    "#I1 =InvaC2Active(mP,KRC,k0,e1,alfa0,q10,pv,pd,w,D_R,b)\n",
    "#I2 = InvaC2Active(mP,KRC,k02,e1,alfa02,q10,pv,0.2,w,D_R2,b)\n",
    "I = InvaP4AGrGr(KRC,KCP,e1,e2,e3,alfa0,pv,pd,k0,r0,q10,q20,b,D_R,w)\n",
    "\n",
    "\n"
   ]
  },
  {
   "cell_type": "code",
   "execution_count": 79,
   "metadata": {
    "collapsed": false
   },
   "outputs": [],
   "source": [
    "fig,axes = plt.subplots()\n",
    "levs = [-10,-8,-7,-6,-5,-3,0,3,5,6,7]\n",
    "axes.contourf(np.log10(KCP),np.log10(KRC),np.log10(I),levs)\n",
    "axes.set_xlim([-13,6])\n",
    "plt.show()"
   ]
  },
  {
   "cell_type": "code",
   "execution_count": 55,
   "metadata": {
    "collapsed": false
   },
   "outputs": [
    {
     "data": {
      "text/plain": [
       "array([[             nan,              nan,              nan, ...,\n",
       "          1.32788037e-26,   1.03809211e-26,   8.11553956e-27],\n",
       "       [             nan,              nan,              nan, ...,\n",
       "          1.21858308e-26,   9.52650380e-27,   7.44760249e-27],\n",
       "       [             nan,              nan,              nan, ...,\n",
       "          1.11828322e-26,   8.74241991e-27,   6.83464610e-27],\n",
       "       ..., \n",
       "       [  6.57572315e+61,   6.42604090e+61,   6.27976586e+61, ...,\n",
       "          6.00457753e+42,   5.86789666e+42,   5.73432702e+42],\n",
       "       [  7.93888282e+61,   7.75817120e+61,   7.58157310e+61, ...,\n",
       "          7.31203080e+42,   7.14558866e+42,   6.98293520e+42],\n",
       "       [  9.58435675e+61,   9.36618948e+61,   9.15298833e+61, ...,\n",
       "          8.90417255e+42,   8.70148884e+42,   8.50341877e+42]])"
      ]
     },
     "execution_count": 55,
     "metadata": {},
     "output_type": "execute_result"
    }
   ],
   "source": [
    "I"
   ]
  }
 ],
 "metadata": {
  "kernelspec": {
   "display_name": "IPython (Python 2)",
   "name": "python2"
  },
  "language_info": {
   "codemirror_mode": {
    "name": "ipython",
    "version": 2
   },
   "file_extension": ".py",
   "mimetype": "text/x-python",
   "name": "python",
   "nbconvert_exporter": "python",
   "pygments_lexer": "ipython2",
   "version": "2.7.9"
  }
 },
 "nbformat": 4,
 "nbformat_minor": 0
}