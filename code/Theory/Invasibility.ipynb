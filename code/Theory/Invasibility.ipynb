{
 "cells": [
  {
   "cell_type": "markdown",
   "metadata": {},
   "source": [
    "#Invasibility Analysis"
   ]
  },
  {
   "cell_type": "markdown",
   "metadata": {},
   "source": [
    "In what follows we will derive invasibility criteria of a species for the diverse scenarios(different recipient subsystems) that could arise in the different [models](Models.ipynb), that is conditions for $\\frac{dJ}{dt} > 0 $ when $J \\approx 0$ for the species $J$ in the given scenario.  \n",
    "There exists 5 scenarios :\n",
    "\n",
    "* **Scenario 1** : R alone \n",
    "* **Scenario 2** : C to R\n",
    "* **Scenario 3** : P to R\n",
    "* **Scenario 4** : P to C-R\n",
    "* **Scenario 5** : C to P-R\n",
    "\n",
    "\n",
    "Assumptions<sup>1:\n",
    "\n",
    "* The recipient system has a point attractor **X** which is stable\n",
    "* The recipient system state is **X** at the moment of the invasion , this could arise because :  \n",
    "    * The recipient system initial state before the invasion is in the *bassin of attraction* of **X**  \n",
    "      \n",
    "         \n",
    "Let $\\hat{J}_i$ denote the equilibrium value of species $J$ in the system composed for the species present in the scenario $i$ (e.g scenario $\\hat{C}_2$ denotes the biomass density of $C$ at the equilibrium of the $C-R$ system.\n",
    "\n",
    "<sup>1</sup>:<sub>This assumptions always hold in the *Lotka-Volterra* model, but we need to check its validity for the *Rozenweigh-MacArthur* model, and devise a strategy for invasibility in the case of other types of attractors , such as *limit-cycles*\n",
    "\n"
   ]
  },
  {
   "cell_type": "markdown",
   "metadata": {},
   "source": [
    "#Invasibility Conditions"
   ]
  },
  {
   "cell_type": "markdown",
   "metadata": {},
   "source": [
    "# Scenario 1"
   ]
  },
  {
   "cell_type": "markdown",
   "metadata": {},
   "source": [
    "##Unstructured models"
   ]
  },
  {
   "cell_type": "markdown",
   "metadata": {},
   "source": [
    "###General model\n",
    "\\begin{equation}\n",
    "\\frac{dR}{dt}= F(R)\n",
    "\\end{equation}\n",
    "\n",
    "**Condition for Invasion ** is  \n",
    "\\begin{equation} F(R) > 0 \\end{equation}"
   ]
  },
  {
   "cell_type": "markdown",
   "metadata": {},
   "source": [
    "###Lotka-Volterra"
   ]
  },
  {
   "cell_type": "markdown",
   "metadata": {},
   "source": [
    "In this case we have :  \n",
    "$F(R)  = rR(1-\\frac{R}{K})$\n",
    "\n",
    "Therefore the condition for invasion is(recall $R \\approx 0$ ):\n",
    "\\begin{equation} r >0 \\end{equation}\n",
    "\n",
    "Furthermore if $ r > 0 $ we also have a nontrivial stable(global) point attractor. Following our [parameterization](Parametrization.ipynb#Intra-population-parameters) this condition will always be satified if we assume $r_0 > 0 $<sup>1\n",
    "\n",
    "<sup>1</sup> : <sub>We will always assume that the resource could persist alone therefore $r_0 > 0$, since otherwise we could not have a bigger set of species in the habitat(following the specified dynamics).<sub>"
   ]
  },
  {
   "cell_type": "markdown",
   "metadata": {},
   "source": [
    "###Rosenzweig-MacArthur"
   ]
  },
  {
   "cell_type": "markdown",
   "metadata": {},
   "source": [
    "The condition is the same as the above one"
   ]
  },
  {
   "cell_type": "markdown",
   "metadata": {},
   "source": [
    "#Scenario 2"
   ]
  },
  {
   "cell_type": "markdown",
   "metadata": {},
   "source": [
    "##Unstructured models"
   ]
  },
  {
   "cell_type": "markdown",
   "metadata": {},
   "source": [
    "### General Model"
   ]
  },
  {
   "cell_type": "markdown",
   "metadata": {},
   "source": [
    "Let :  \n",
    "\\begin{equation}\n",
    "\\varphi(R) = \\epsilon_1 G(R)- q_1\n",
    "\\end{equation}\n",
    "\n",
    "The condition for invasibility is :  \n",
    "\\begin{equation}\n",
    "    \\begin{aligned}\n",
    "        &\\frac{dC}{dt}(C,\\hat{R}_1) = C \\varphi(\\hat{R}_1) > 0 \\iff \\\\\n",
    "        &\\varphi(\\hat{R}_1) > 0\n",
    "    \\end{aligned}\n",
    "\\end{equation}\n",
    "\n",
    "Where $F(\\hat{R}_1) = 0$ \n",
    "\n",
    "It is easly [shown](Proofs.ipynb#Proposition-1) that $\\varphi(\\hat{R}_1) >0  $ is a necessary and suficient condition for the system to have a positive equilibrium, under some general assumptions."
   ]
  },
  {
   "cell_type": "markdown",
   "metadata": {},
   "source": [
    "###Lotka-Volterra"
   ]
  },
  {
   "cell_type": "markdown",
   "metadata": {},
   "source": [
    "The condition for invasibility in this case is :  \n",
    "\n",
    "\\begin{equation}\n",
    "    \\varphi_c = \\epsilon_1 \\alpha_1 \\hat{R_1} - q_1 >0 \n",
    "\\end{equation}\n",
    "\n",
    "where $\\hat{R_1} = K $  \n",
    "Using our [paremeterization](Parametrization.ipynb) we have:"
   ]
  },
  {
   "cell_type": "markdown",
   "metadata": {},
   "source": [
    "\\begin{equation}\n",
    "    \\varphi_c(m_C,k_{RC},T_R,T_C,f_C,D_R,\\vartheta_R,\\vartheta_C) = \\epsilon_1 \\alpha_{1_0} m_C^{p_v+2(D_R-1)p_d -1 } g_1(k_{RC},T_R,T_C,f_C,D_R,\\vartheta_R,\\vartheta_C) \\Phi(k_{RC})k_0 (k_{RC} m_C)^{-w+1}e^{E_K/k T_R} -  q_{1_0} m_C^{w-1}e^{-E_{q_1}/k T_C} > 0\n",
    "\\end{equation} "
   ]
  },
  {
   "cell_type": "markdown",
   "metadata": {},
   "source": [
    "To show the final form of a particular example we set the foraging mode to *Active-Capture* and the thermy to *Ectothermic consumer-Ectothermic resource*, the condition reduces to:\n",
    "\n",
    "\\begin{equation}\n",
    "    \\varphi_c(m_C,k_{RC},T_R,T_C,D_R) = \\epsilon_1 \\alpha_{1_0} m_C^{p_v+2(D_R-1)p_d -1 }  v_{0,C} e^{-E_C/k T_C} \\sqrt{ 1+ (\\frac{v_{0,R}}{v_{0,C}}) k_{RC}^{2p_v} \\Delta_{RC}^2} k_{RC}^{(D_R-1)p_d} \\Phi(k_{RC})k_0 (k_{RC} m_C)^{-w+1}e^{E_K/k T_R}  -  q_{1_0} m_C^{w-1}e^{-E_{q_1}/k T_C} >0\n",
    "\\end{equation}"
   ]
  },
  {
   "cell_type": "markdown",
   "metadata": {},
   "source": [
    "###Grazing"
   ]
  },
  {
   "cell_type": "markdown",
   "metadata": {},
   "source": [
    "Define\n",
    "\\begin{equation}\n",
    "    \\begin{aligned}\n",
    "        a_0 &= \\alpha_{1,0} v_{0,C} e^{-E_C/kT_C} \\\\\n",
    "        b_0 &= k_0 e^{E_K/kT_R}\\\\\n",
    "        d_0 &= q_{1,0} e^{-E_{q_1}/kT_C} \\\\\n",
    "        g_0 &= \\frac{d_0}{\\epsilon_1 a_0 b_0}\\\\\n",
    "        h &= p_v + 2(D_R -1)p_d \\\\\n",
    "        u &= 2(D_R -1)p_d\n",
    "    \\end{aligned}\n",
    "\\end{equation}\n",
    "Then the condition for invasibility is :\n",
    "\\begin{equation}\n",
    "    k_{CP} = (\\frac{g_0 m_P^{2w - 1 -h} (1 + k_{RC}^b)}{k_{RC}^{1+u-w}})^{(\\frac{1}{1+h -2w})}\n",
    "\\end{equation}"
   ]
  },
  {
   "cell_type": "markdown",
   "metadata": {},
   "source": [
    "###Sit and Wait"
   ]
  },
  {
   "cell_type": "markdown",
   "metadata": {},
   "source": [
    "Using the above definitions and with:\n",
    "\\begin{equation}\n",
    "    \\begin{aligned}\n",
    "        a_{0,2} &= \\alpha_{1,0}v_{0,R}e^{-E_R/kT_R}\\\\\n",
    "        g_{0,2} &= \\frac{d_0}{\\epsilon_1 a_{0,2} b0} \n",
    "    \\end{aligned}\n",
    "\\end{equation}\n",
    "The condition for invasibility is :\n",
    "\\begin{equation}\n",
    "    k_{CP} = (\\frac{g_{0,2} m_P^{2w - 1 -h} (1 + k_{RC}^b)}{k_{RC}^{1+u-w+p_v}})^{(\\frac{1}{1+h -2w})}\n",
    "\\end{equation}"
   ]
  },
  {
   "cell_type": "markdown",
   "metadata": {},
   "source": [
    "###Active"
   ]
  },
  {
   "cell_type": "markdown",
   "metadata": {},
   "source": [
    "The condition for invasibility is :\n",
    "\\begin{equation}\n",
    "    k_{CP} = (\\frac{g_0 m_P^{2w - 1 -h} (1 + k_{RC}^b)}{k_{RC}^{1+u-w}\\sqrt{1+f_0 k_{RC}^{2p_v}}})^{(\\frac{1}{1+h -2w})}\n",
    "\\end{equation}"
   ]
  },
  {
   "cell_type": "markdown",
   "metadata": {},
   "source": [
    "where:\n",
    "\\begin{equation}\n",
    "    f_0 = \\frac{v_{0,R}}{v_{0,C}} \\Delta_{RC}^2\n",
    "\\end{equation}"
   ]
  },
  {
   "cell_type": "markdown",
   "metadata": {},
   "source": [
    "###Rosenzweig-MacArthur"
   ]
  },
  {
   "cell_type": "markdown",
   "metadata": {},
   "source": [
    "Let :\n",
    "\\begin{equation}\n",
    "    \\begin{aligned}\n",
    "        \\varphi_c &= \\epsilon_1 \\alpha_1 R - q_1 (1+ t_{h,c} m_C \\alpha_1 R) \\\\\n",
    "                  &= \\alpha_1 R(\\epsilon_1 - q_1 t_{h,c} m_C) - q_1 \\\\ \n",
    "    \\end{aligned}\n",
    "\\end{equation}\n",
    "The condition now is:\n",
    "\n",
    "\\begin{equation}\n",
    "    \\varphi_c (\\hat{R}_1) >0\n",
    "\\end{equation}\n",
    "\n",
    "Where again $\\hat{R}_1 = K$ and translating it using our [parametrization](Parametrization.ipynb) we have :"
   ]
  },
  {
   "cell_type": "markdown",
   "metadata": {},
   "source": [
    "\\begin{equation}\n",
    "    \\varphi(\\hat{R}_1) = \\varphi_c(m_C,k_{RC},T_R,T_C,f_C,D_R,\\vartheta_R,\\vartheta_C) = \\epsilon_1 \\alpha_{1_0} m_C^{p_v+2(D_R-1)p_d -1 } g_1(k_{RC},T_R,T_C,f_C,D_R,\\vartheta_R,\\vartheta_C) \\Phi(k_{RC})k_0 (k_{RC} m_C)^{-w+1}e^{E_K/k T_R}(1 - h_{0,c}q_{1_0} e^{(E_C-E_{q_1})/kT_C}) -  q_{1_0} m_C^{w-1}e^{-E_{q_1}/k T_C}\n",
    "\\end{equation}\n",
    "For the same particular example as above we have:  \n",
    "\n",
    "\\begin{equation}\n",
    "\\varphi(\\hat{R}_1) = \\varphi_c(m_C,k_{RC},T_R,T_C,D_R) = \\epsilon_1 \\alpha_{1_0} m_C^{p_v+2(D_R-1)p_d -1 }  v_{0,C} e^{-E_C/k T_C} \\sqrt{ 1+ (\\frac{v_{0,R}}{v_{0,C}}) k_{RC}^{2p_v} \\Delta_{RC}^2} k_{RC}^{(D_R-1)p_d} \\Phi(k_{RC})k_0 (k_{RC} m_C)^{-w+1}e^{E_K/k T_R}(1 - h_{0,c}q_{1_0} e^{(E_C-E_{q_1})/kT_C}) m_C^{w-1}e^{-E_{q_1}/k T_C}\n",
    "\\end{equation}"
   ]
  },
  {
   "cell_type": "markdown",
   "metadata": {},
   "source": [
    "The conditions for **scenario 3** are similar, albeit replacing *C* for *R* in the above derivations"
   ]
  },
  {
   "cell_type": "markdown",
   "metadata": {},
   "source": [
    "#Scenario 4"
   ]
  },
  {
   "cell_type": "markdown",
   "metadata": {},
   "source": [
    "##Unstructured models"
   ]
  },
  {
   "cell_type": "markdown",
   "metadata": {},
   "source": [
    "###General model"
   ]
  },
  {
   "cell_type": "markdown",
   "metadata": {
    "collapsed": true
   },
   "source": [
    "Let:\n",
    "\\begin{equation}\n",
    "    \\Psi(R,C) := \\epsilon_2 G_p(R,C) + \\epsilon_3 H_p(R,C) - q_2\n",
    "\\end{equation}\n",
    "\n",
    "The invasibility condition now is:\n",
    "\n",
    "\\begin{equation}\n",
    "    \\begin{aligned}\n",
    "        &\\frac{dP}{dt}(\\hat{R}_2,\\hat{C}_2,P)  = P \\Psi(\\hat{R}_2,\\hat{C}_2) >0 \\iff \\\\\n",
    "        &\\Psi(\\hat{R}_2,\\hat{C}_2) > 0 \n",
    "    \\end{aligned}\n",
    "\\end{equation}"
   ]
  },
  {
   "cell_type": "markdown",
   "metadata": {},
   "source": [
    "Where we have that :   \n",
    "\\begin{equation}\n",
    "\\mathbf{N}:= (\\frac{dR}{dt},\\frac{dC}{dt},\\frac{dP}{dt}) , \\mathbf{N}(\\hat{R}_2,\\hat{C}_2,0) = 0 \n",
    "\\end{equation}"
   ]
  },
  {
   "cell_type": "markdown",
   "metadata": {},
   "source": [
    "More specifically :  \n",
    "\\begin{equation}\n",
    "    \\begin{aligned}\n",
    "        &F(\\hat{R}_2) - G_c(\\hat{R}_2)\\hat{C}_2 = 0 \\\\\n",
    "        &G_c(\\hat{R}_2) = \\frac{q_1}{\\epsilon_1}\n",
    "    \\end{aligned}\n",
    "\\end{equation}"
   ]
  },
  {
   "cell_type": "markdown",
   "metadata": {},
   "source": [
    "### Lotka-Volterra"
   ]
  },
  {
   "cell_type": "markdown",
   "metadata": {},
   "source": [
    "The condition is :\n",
    "\\begin{equation}\n",
    "    \\vartheta_p = \\epsilon_2 \\alpha_2 \\hat{R}_2 + \\epsilon_3 \\alpha_3 \\hat{C}_2 - q_2 >0 \n",
    "\\end{equation}\n"
   ]
  },
  {
   "cell_type": "markdown",
   "metadata": {},
   "source": [
    "Where : \n",
    "\\begin{equation}\n",
    "    \\begin{aligned}\n",
    "        \\hat{R}_2 &= \\frac{q_1}{\\epsilon_1 \\alpha_1} \\\\\n",
    "        \\hat{C}_2 &= \\frac{r}{\\alpha_1}(1-\\frac{\\hat{R}_2}{K})\n",
    "    \\end{aligned}\n",
    "\\end{equation}\n",
    "       "
   ]
  },
  {
   "cell_type": "markdown",
   "metadata": {},
   "source": [
    "As before we could use our parametrization to convert both of the above expressions in relationships involving *size ratios* and *top predator body mass* , this won't be shown due to its length and because they involve simple replacements"
   ]
  },
  {
   "cell_type": "markdown",
   "metadata": {},
   "source": [
    "###Rosenzweig-MacArhtur"
   ]
  },
  {
   "cell_type": "markdown",
   "metadata": {},
   "source": [
    "Define\n",
    "\\begin{equation}\n",
    "    \\begin{aligned}\n",
    "        \\vartheta_p(R,C) &:= \\epsilon_2 \\alpha_2 R + \\epsilon_3 \\alpha_3 C - q_2 (1+t_{h,p}m_P(\\alpha_2 R + \\alpha_3 C)) \\\\\n",
    "                    &= \\alpha_2 R( \\epsilon_2 - q_2 t_{h,p} m_P) + \\alpha_3 C (\\epsilon_3 - q_2 t_{h,p}m_P) - q_2\n",
    "    \\end{aligned}\n",
    "\\end{equation}\n",
    "The condition in this case is :\n",
    "\\begin{equation}\n",
    "    \\vartheta_p(\\hat{R}_2,\\hat{C}_2) > 0 \n",
    "\\end{equation}"
   ]
  },
  {
   "cell_type": "markdown",
   "metadata": {},
   "source": [
    "Where:\n",
    "\\begin{equation}\n",
    "    \\begin{aligned}\n",
    "        \\hat{R}_2 &= \\frac{q_1}{\\alpha_1 (\\epsilon_1 - t_{h,c} m_C q_1)} \\\\\n",
    "        \\hat{C}_2 &= \\frac{\\epsilon_1 r \\hat{R}_2}{q_1}(1-\\frac{\\hat{R}_2}{K})\n",
    "    \\end{aligned}\n",
    "\\end{equation}"
   ]
  },
  {
   "cell_type": "markdown",
   "metadata": {},
   "source": [
    "We also show [here](Proofs.ipynb#Proposion-2) that the condition for $\\hat{R}_2$ to become $\\infty$ is not dependent on any of the parameters that we are interested( $k_{RC},k_{CP},m_P$) therefore $\\vartheta_p$ is *continuous* with respect to them in the domain of variation we are focused(e.g $k_{RC} > 0,m_P >0$)."
   ]
  },
  {
   "cell_type": "markdown",
   "metadata": {},
   "source": [
    "#Scenario 5"
   ]
  },
  {
   "cell_type": "markdown",
   "metadata": {},
   "source": [
    "##Unstructured models"
   ]
  },
  {
   "cell_type": "markdown",
   "metadata": {},
   "source": [
    "###General model"
   ]
  },
  {
   "cell_type": "markdown",
   "metadata": {},
   "source": [
    "Define:\n",
    "\\begin{equation}\n",
    "    \\vartheta_c := \\epsilon_1 G_c(R)  - T(R) P - q_1\n",
    "\\end{equation}\n",
    "Assuming \n",
    "\\begin{equation}\n",
    "    \\begin{aligned}\n",
    "        H_p(R,C) &= C J_p(R,C) \\\\\n",
    "        J_p(R,C) &\\ continuous \\\\\n",
    "        J_p(R,0) &= T(R) , exists \\\\\n",
    "        J_p(R,C) &\\approx T(R) ,if \\ C \\approx 0\n",
    "    \\end{aligned}\n",
    "\\end{equation}\n",
    "\n",
    "The condition becomes:\n",
    "\n",
    "\\begin{equation}\n",
    "    \\vartheta_c(\\hat{R}_3,\\hat{P}_3) > 0\n",
    "\\end{equation}\n",
    "Where:\n",
    "\n",
    "\\begin{equation}\n",
    "    \\begin{aligned}\n",
    "        &G_p(\\hat{R}_3) = \\frac{q_2}{\\epsilon_2} \\\\\n",
    "        &\\hat{P}_3 = \\frac{F(\\hat{R}_3)}{G_p(\\hat{R}_3,0)}\n",
    "    \\end{aligned}\n",
    "\\end{equation}\n",
    "\n"
   ]
  },
  {
   "cell_type": "markdown",
   "metadata": {},
   "source": [
    "###Lotka-Volterra"
   ]
  },
  {
   "cell_type": "markdown",
   "metadata": {},
   "source": [
    "Define :\n",
    "\\begin{equation}\n",
    "    \\vartheta_c := \\epsilon_1 \\alpha_1 R - \\alpha_3 P - q_1\n",
    "\\end{equation}\n",
    "The condition is :\n",
    "\\begin{equation}\n",
    "    \\vartheta_c(\\hat{R}_3,\\hat{P}_3) >0\n",
    "\\end{equation}"
   ]
  },
  {
   "cell_type": "markdown",
   "metadata": {},
   "source": [
    "where:\n",
    "\\begin{equation}\n",
    "    \\begin{aligned}\n",
    "        \\hat{R}_3 &= \\frac{q_2}{\\epsilon_2 \\alpha_2} \\\\\n",
    "        \\hat{P}_3 &= \\frac{r}{\\alpha_2}(1-\\frac{\\hat{R}_2}{K})\n",
    "    \\end{aligned}\n",
    "\\end{equation}"
   ]
  },
  {
   "cell_type": "markdown",
   "metadata": {},
   "source": [
    "###Rosenzweig-MacArthur"
   ]
  },
  {
   "cell_type": "markdown",
   "metadata": {},
   "source": [
    "Define :\n",
    "\\begin{equation}\n",
    "    \\begin{aligned}\n",
    "        \\vartheta_c(R,P) &= \\epsilon_1 \\alpha_1 R (1 + t_{h,p}m_P \\alpha_2 R) - (\\alpha_3 P (1+t_{h,c}m_C\\alpha_1 R) +\n",
    "                            q_1(1+t_{h,c}m_C\\alpha_1 R)(1 + t_{h,p}m_P \\alpha_2 R)) \\\\\n",
    "                        &=  (1 + \\alpha_2 t_{h,p}R)(\\alpha_1 R (\\epsilon_1 - q_1 t_{h,c}m_C) - q_1) - \\alpha_3 P(1+ t_{h,c}m_C\n",
    "                            \\alpha_1 R) \\\\\n",
    "                        &= \\alpha_1 R(\\epsilon_1 - q_1 t_{h,c}m_C)(1+\\alpha_2 t_{h,p}R) - \\alpha_3 P(1+ t_{h,c}m_C\n",
    "                            \\alpha_1 R) - q_1 ( 1 + \\alpha_1 t_{h,p}R) \n",
    "    \\end{aligned}\n",
    "\\end{equation}\n",
    "\n",
    "The condition now is:\n",
    "\\begin{equation}\n",
    "    \\vartheta_c(\\hat{R}_3,\\hat{P}_3) >0 \n",
    "\\end{equation}\n",
    "    "
   ]
  },
  {
   "cell_type": "markdown",
   "metadata": {},
   "source": [
    "where:\n",
    "\\begin{equation}\n",
    "    \\begin{aligned}\n",
    "        \\hat{R}_3 &= \\frac{q_2}{\\alpha_2(\\epsilon_2  - t_{h,p}m_P q_2)}\\\\\n",
    "        \\hat{P}_3 &= \\frac{\\epsilon_2 r \\hat{R}_3}{q_2} (1 - \\frac{\\hat{R}_3}{K})\n",
    "    \\end{aligned}\n",
    "\\end{equation}"
   ]
  },
  {
   "cell_type": "markdown",
   "metadata": {},
   "source": [
    "Replacing the equilibrium conditions we get : \n",
    "\n",
    "\\begin{equation}\n",
    "    \\vartheta(\\hat{R}_3 , \\hat{P}_3) = \\alpha_1 \\hat{R}_3(\\epsilon_1 - q_1 t_{h,c}m_C)(\\frac{\\epsilon_2}{\\epsilon_2 - q_2t_{h,p}m_P}) - \\alpha_3 P(1+t_{h,c}m_C\\alpha_1 \\hat{R}_3) - q_1 ( \\frac{\\epsilon_2}{\\epsilon_2 - q_2 t_{h,p}m_P})\n",
    "\\end{equation}"
   ]
  },
  {
   "cell_type": "code",
   "execution_count": 1,
   "metadata": {
    "collapsed": false
   },
   "outputs": [
    {
     "ename": "NameError",
     "evalue": "name 'e' is not defined",
     "output_type": "error",
     "traceback": [
      "\u001b[1;31m---------------------------------------------------------------------------\u001b[0m",
      "\u001b[1;31mNameError\u001b[0m                                 Traceback (most recent call last)",
      "\u001b[1;32m<ipython-input-1-2543f9cf1d02>\u001b[0m in \u001b[0;36m<module>\u001b[1;34m()\u001b[0m\n\u001b[1;32m----> 1\u001b[1;33m \u001b[0me\u001b[0m\u001b[1;33m**\u001b[0m\u001b[1;36m2\u001b[0m\u001b[1;33m\u001b[0m\u001b[0m\n\u001b[0m",
      "\u001b[1;31mNameError\u001b[0m: name 'e' is not defined"
     ]
    }
   ],
   "source": [
    "e**2"
   ]
  },
  {
   "cell_type": "code",
   "execution_count": 29,
   "metadata": {
    "collapsed": false
   },
   "outputs": [
    {
     "name": "stdout",
     "output_type": "stream",
     "text": [
      "Automatic pdb calling has been turned ON\n"
     ]
    }
   ],
   "source": [
    "%pdb"
   ]
  },
  {
   "cell_type": "code",
   "execution_count": null,
   "metadata": {
    "collapsed": true
   },
   "outputs": [],
   "source": []
  },
  {
   "cell_type": "code",
   "execution_count": 1,
   "metadata": {
    "collapsed": true
   },
   "outputs": [],
   "source": [
    "import numpy as np\n",
    "import matplotlib.pyplot as plt\n",
    "def g(k_,pv,pd,T1,T2,E1,E2,D,v01,v02,fm,thermy1,thermy2,k):\n",
    "    if thermy1==\"Ecto\" and thermy2==\"Ecto\":\n",
    "        if fm==\"Active\":\n",
    "            delta=np.exp(-(1./k)*(E1/T1 - E2/T2))\n",
    "            return v02*np.exp(-E2/(k*T2))*(1+(v01/v02)*k_**(2*pv)*delta**2)**0.5*k_**((D-1)*pd)\n",
    "        elif fm==\"Sit\":\n",
    "            return v01*k_**(pv+(D-1)*pd)*np.exp(-E1/(k*T1))\n",
    "        elif fm==\"Grazing\":\n",
    "            return v02*k_**((D-1)*pd)*np.exp(-E2/(k*T2))\n",
    "    elif thermy1==\"Endo\" and thermy2==\"Ecto\":\n",
    "        if fm==\"Active\":\n",
    "            return v02*(1+(v01/v02)*k_**(2*pv)*np.exp(-2*E1/(k*T1)))**0.5*k_**((D-1)*pd)\n",
    "        elif fm==\"Sit\":\n",
    "            return v01*k_**(pv+(D-1)*pd)*np.exp(-E1/(k*T1))\n",
    "        elif fm==\"Grazing\":\n",
    "            return v02*k_**((D-1)*pd)\n",
    "    elif thermy1==\"Ecto\" and thermy2==\"Endo\":\n",
    "        if fm==\"Active\":\n",
    "            return v02*(1+(v01/v02)*k_**(2*pv)*np.exp(2*E2/(k*T2)))**0.5*k_**((D-1)*pd)\n",
    "        elif fm==\"Sit\":\n",
    "            return v01*k_**(pv+(D-1)*pd)\n",
    "        elif fm==\"Grazing\":\n",
    "            return v02*k_**((D-1)*pd)*np.exp(-E2/(k*T2))\n",
    "\n",
    "def f(k_,form,a,b,c):\n",
    "    if form == 1:\n",
    "        return a\n",
    "    elif form == 2:\n",
    "        return a/(1+k_**b)\n",
    "    elif form == 3 :\n",
    "        return a*exp(-(log(k_)-b)**2/(2*c))"
   ]
  },
  {
   "cell_type": "code",
   "execution_count": 7,
   "metadata": {
    "collapsed": false
   },
   "outputs": [],
   "source": []
  },
  {
   "cell_type": "code",
   "execution_count": 5,
   "metadata": {
    "collapsed": true
   },
   "outputs": [],
   "source": [
    "plt.show()"
   ]
  },
  {
   "cell_type": "code",
   "execution_count": 24,
   "metadata": {
    "collapsed": false
   },
   "outputs": [],
   "source": [
    "w = 0.75\n",
    "pd = 0.21\n",
    "pv = 0.26\n",
    "e1 = 0.3\n",
    "e2 = 0.1\n",
    "e3 = 0.5\n",
    "k0 = 0.1\n",
    "k02 = 30\n",
    "alfa0 = 10**(-3.08)\n",
    "alfa02 = 10**(-1.77)\n",
    "b = 0.01\n",
    "KRC =10**(np.arange(-13,6,0.01))\n",
    "q10 = 4.15e-8\n",
    "q20 = 4.15e-8\n",
    "r0 = 1.71e-6\n",
    "\n",
    "fc = 'Grazing'\n",
    "\n",
    "\n",
    "p1 = pv + 2*pd + 1 - 1.5\n",
    "p2 = pv + 4*0.2 +  1 - 1.5\n",
    "\n",
    "\n",
    "fig,axes = plt.subplots(ncols=3)\n",
    "axes[0].plot(np.log10(KRC),np.log10((q10/(k0*e1*alfa0*KRC**(0.25)*g(KRC,pv,pd,1.,1.,0.,0.,2,1.,1.,fc,'Ecto','Ecto',1.)*f(KRC,2,1,b,0)))**(1/p1)))\n",
    "axes[0].plot(np.log10(KRC),np.log10((q10/(k02*e1*alfa02*KRC**(0.25)*g(KRC,pv,0.2,1.,1.,0.,0.,3,1.,1.,fc,'Ecto','Ecto',1.)*f(KRC,2,1,b,0)))**(1/p2)))\n",
    "\n",
    "axes[1].plot(np.log10(q10/(k0*e1*alfa0*KRC**(0.25)*g(KRC,pv,pd,1.,1.,0.,0.,2,1.,1.,fc,'Ecto','Ecto',1.)*f(KRC,2,1,b,0))),np.log10((q10/(k0*e1*alfa0*KRC**(0.25)*g(KRC,pv,pd,1.,1.,0.,0.,2,1.,1.,fc,'Ecto','Ecto',1.)*f(KRC,2,1,b,0)))**(1/p1)))\n",
    "axes[1].plot(np.log10(q10/(k02*e1*alfa02*KRC**(0.25)*g(KRC,pv,0.2,1.,1.,0.,0.,3,1.,1.,fc,'Ecto','Ecto',1.)*f(KRC,2,1,b,0))),np.log10((q10/(k02*e1*alfa02*KRC**(0.25)*g(KRC,pv,0.2,1.,1.,0.,0.,3,1.,1.,fc,'Ecto','Ecto',1.)*f(KRC,2,1,b,0)))**(1/p2)))\n",
    "\n",
    "axes[2].plot(np.log10(KRC),np.log10(q10/(k0*e1*alfa0*KRC**(0.25)*g(KRC,pv,pd,1.,1.,0.,0.,2,1.,1.,fc,'Ecto','Ecto',1.)*f(KRC,2,1,b,0))))\n",
    "axes[2].plot(np.log10(KRC),np.log10(q10/(k02*e1*alfa02*KRC**(0.25)*g(KRC,pv,0.2,1.,1.,0.,0.,3,1.,1.,fc,'Ecto','Ecto',1.)*f(KRC,2,1,b,0))))\n",
    "plt.show()\n"
   ]
  },
  {
   "cell_type": "code",
   "execution_count": 11,
   "metadata": {
    "collapsed": false
   },
   "outputs": [
    {
     "data": {
      "text/plain": [
       "True"
      ]
     },
     "execution_count": 11,
     "metadata": {},
     "output_type": "execute_result"
    }
   ],
   "source": [
    " -10 > np.log10(1e-10*(q10/(k02*e1*alfa02*1e5**(0.25)*g(1e5,pv,0.2,1.,1.,0.,0.,3,1.,1.,fc,'Ecto','Ecto',1.)*f(1e5,2,1,b,0)))**(1/p2))"
   ]
  },
  {
   "cell_type": "code",
   "execution_count": 29,
   "metadata": {
    "collapsed": false
   },
   "outputs": [],
   "source": [
    "def F(p,h):\n",
    "    return ( h/(p - h))**(1/p)\n",
    "p1 = np.arange(0.5,10,0.01)\n",
    "p2 = np.arange(0.3,10,0.01)\n",
    "\n",
    "fig,axes = plt.subplots(ncols=1)\n",
    "\n",
    "axes.plot(p2,F(p2,pd))\n",
    "axes.plot(p1,F(p1,2*pd))\n",
    "axes.set_ylim([0,10])\n",
    "axes.set_y\n",
    "plt.show()"
   ]
  },
  {
   "cell_type": "code",
   "execution_count": 55,
   "metadata": {
    "collapsed": false
   },
   "outputs": [
    {
     "name": "stderr",
     "output_type": "stream",
     "text": [
      "C:\\Python27\\Lib\\site-packages\\IPython\\kernel\\__main__.py:61: RuntimeWarning: invalid value encountered in log10\n",
      "C:\\Python27\\Lib\\site-packages\\IPython\\kernel\\__main__.py:46: RuntimeWarning: invalid value encountered in log10\n"
     ]
    }
   ],
   "source": [
    "def InvaC2Active(mP,KRC,k0,e1,alfa0,q10,pv,pd,w,D_R,b):\n",
    "    \n",
    "    b1 = e1*alfa0*k0\n",
    "    \n",
    "    return (q10*mP**(2*w- pv-2*(D_R-1)*pd -1 )*(1+KRC**b)/(b1*(1+KRC**(2*pv))**(0.5) *KRC**((D_R-1)*pd -w +1)))**(1./(pv+2*(D_R-1)*pd - 2*w +1))\n",
    "\n",
    "def InvaC2Gr(KCP,KRC,k0,e1,alfa0,q10,pv,pd,w,D_R,b):\n",
    "    \n",
    "    b1 = e1*alfa0*k0\n",
    "    \n",
    "    return (q10*KCP**(2*w- pv-2*(D_R-1)*pd -1 )*(1+KRC**b)/(b1*KRC**((D_R-1)*pd -w +1)))**(1./(pv+2*(D_R-1)*pd - 2*w +1))\n",
    "\n",
    "\n",
    "def InvP3(KRC,KCP,e1,e2,e3,alfa0,pv,pd,k0,r0,q10,q20,b,D,w,fpr,fpc,fc):\n",
    "    KRP = KRC*KCP\n",
    "    f2 = g(KRP,pv,pd,1.,1.,0.,0.,D,1.,1.,fc,'Ecto','Ecto',1.)*f(KRP,2,1,b,0)\n",
    "    n0 = e2*k0*alfa0*f2*KRP**(1-w)\n",
    "    h = pv + 2*(D-1)*pd \n",
    "    v = h + 1 - 2*w\n",
    "    return (1./v)*np.log10(q20/n0)\n",
    "\n",
    "def InvC2(KRC,KCP,e1,e2,e3,alfa0,pv,pd,k0,r0,q10,q20,b,D,w,fpr,fpc,fc):\n",
    "    h = pv + 2*(D-1)*pd \n",
    "    KRP = KRC*KCP\n",
    "    f1 = g(KRC,pv,pd,1.,1.,0.,0.,D,1.,1.,fc,'Ecto','Ecto',1.)*f(KRC,2,1,b,0)\n",
    "    x0 = e1*k0*alfa0*f1*KCP**(h-1)*KRP**(1-w)\n",
    "    x1 = q10*KCP**(w-1)\n",
    "    v = h + 1 - 2*w\n",
    "    return (1./v)*np.log10(x1/x0)\n",
    "\n",
    "def InvP5(KRC,KCP,e1,e2,e3,alfa0,pv,pd,k0,r0,q10,q20,b,D,w,fpr,fpc,fc):\n",
    "    KRP = KCP*KRC\n",
    "    g_C = g(KRC,pv,pd,1.,1.,0.,0.,D,1.,1.,fc,'Ecto','Ecto',1.)*f(KRC,2,1,b,0)\n",
    "    g_R = g(KRP,pv,pd,1.,1.,0.,0.,D,1.,1.,fpr,'Ecto','Ecto',1.)*f(KRP,2,1,b,0)\n",
    "    g_P = g(KCP,pv,pd,1.,1.,0.,0.,D,1.,1.,fpc,'Ecto','Ecto',1.)*f(KCP,2,1,b,0)\n",
    "    h = pv+2*(D-1)*pd\n",
    "    R0 = q20/(e2*alfa0*g_R)\n",
    "    C0 = e1*alfa0*g_C*KCP**(h-1)*R0\n",
    "    P_1 = r0*KRP**(2*(w-1))/(e2*k0*(alfa0*g_R)**2)\n",
    "    P_2 = e2*alfa0*g_R*k0*KRP**(1-w)\n",
    "    C1 = alfa0*g_P*P_1*P_2 \n",
    "    C2 = alfa0*g_P*P_1*q20\n",
    "    C3 = q20*KCP**(w-1)\n",
    "    \n",
    "    #print ((C1 + C3 - C0)/C2)\n",
    "    return (1./(2*w -(h +1)))*np.log10(( C3 + C1 - C0)/C2)\n",
    "\n",
    "\n",
    "def InvP4(KRC,KCP,e1,e2,e3,alfa0,pv,pd,k0,r0,q10,q20,b,D,w,fpr,fpc,fc):\n",
    "    KRP = KCP*KRC\n",
    "    f1 = g(KRC,pv,pd,1.,1.,0.,0.,D,1.,1.,fc,'Ecto','Ecto',1.)*f(KRC,2,1,b,0)\n",
    "    f2 = g(KRP,pv,pd,1.,1.,0.,0.,D,1.,1.,fpr,'Ecto','Ecto',1.)*f(KRP,2,1,b,0)\n",
    "    f3 = g(KCP,pv,pd,1.,1.,0.,0.,D,1.,1.,fpc,'Ecto','Ecto',1.)*f(KCP,2,1,b,0)\n",
    "    h = pv+2*(D-1)*pd\n",
    "    t0 = q10*KCP**(w-h)/(e1*alfa0*f1)\n",
    "    t1 = r0*KRP**(w-1)/(alfa0*f1*KCP**(h-1))\n",
    "    t2 = t0/(k0*KRP**(1-w))\n",
    "    t3 = e2*alfa0*f2*t0\n",
    "    t4 = e3*alfa0*f3*t1\n",
    "    #print ((C1 + C3 - C0)/C2)\n",
    "    return (1./(h +1 - 2*w))*np.log10((t4*t2)/(t3 + t4 - q20))\n",
    "\n",
    "\n",
    "def InvP4B(KRC,KCP,e1,e2,e3,alfa0,pv,pd,k0,r0,q10,q20,b,D,w,fpr,fpc,fc):\n",
    "    KRP = KCP*KRC\n",
    "    f1 = g(KRC,pv,pd,1.,1.,0.,0.,D,1.,1.,fc,'Ecto','Ecto',1.)*f(KRC,2,1,b,0)\n",
    "    f2 = g(KRP,pv,pd,1.,1.,0.,0.,D,1.,1.,fpr,'Ecto','Ecto',1.)*f(KRP,2,1,b,0)\n",
    "    f3 = g(KCP,pv,pd,1.,1.,0.,0.,D,1.,1.,fpc,'Ecto','Ecto',1.)*f(KCP,2,1,b,0)\n",
    "    h = pv+2*(D-1)*pd\n",
    "    t0 = q10*KCP**(w-h)/(e1*alfa0*f1)\n",
    "    t1 = r0*KRP**(w-1)/(alfa0*f1*KCP**(h-1))\n",
    "    t2 = t0/(k0*KRP**(1-w))\n",
    "    t3 = e2*alfa0*f2*t0\n",
    "    t4 = e3*alfa0*f3*t1\n",
    "    #print ((C1 + C3 - C0)/C2)\n",
    "    return t3 + t4 - q20\n",
    "\n",
    "\n",
    "\n",
    "\n",
    "    \n",
    "    \n",
    "def Kij(mj,a,b):\n",
    "    return a*mj**(b-1)\n",
    "\n",
    "b = 1.46\n",
    "a = 10**(-2.96)\n",
    "\n",
    "\n",
    "\n",
    "def SetInt(I1,I2):\n",
    "    (n,m) = I1.shape\n",
    "    Z =np.zeros(shape=(n,m))\n",
    "    for i in range(n):\n",
    "        for j in range(m):\n",
    "            Z[i,j] = max([I1[i,j],I2[i,j]])\n",
    "            \n",
    "    return Z\n",
    "\n",
    "    \n",
    "        \n",
    "    \n",
    "\n",
    "\n",
    "KCP = 10**np.arange(-13,10,0.01)\n",
    "w = 0.75\n",
    "pd = 0.2\n",
    "pv = 0.26\n",
    "e1 = 0.3\n",
    "e2 = 0.1\n",
    "e3 = 0.5\n",
    "k0 = 3.\n",
    "alfa0 = 10**(-1.77)\n",
    "b = 2.\n",
    "KRC =10**(np.arange(-13,10,0.01))\n",
    "D_R = 3.\n",
    "q10 = 4.15e-8\n",
    "q20 = 4.15e-8\n",
    "r0 = 1.71e-6\n",
    "\n",
    "\n",
    "\n",
    "a1 = 10**(-3.17)\n",
    "b1 = 0.92\n",
    "\n",
    "a2 = 10**(-2.76)\n",
    "b2 = 0.73\n",
    "mP = 10**np.arange(-13,10,0.01)\n",
    "#KCP,KRC = np.meshgrid(KCP,KRC)\n",
    "KCP2 =  Kij(mP,a2,b2)\n",
    "mC2 = mP*KCP2\n",
    "KRC2 = Kij(mC,a2,b2)\n",
    "\n",
    "KCP =  Kij(mP,a1,b1)\n",
    "mC = mP*KCP\n",
    "KRC = Kij(mC,a1,b1)\n",
    "\n",
    "\n",
    "KCP = 10**np.arange(-13,10,0.01)\n",
    "KRC = 10**(-0.79)*KCP**(-0.14)\n",
    "\n",
    "D_R2 = 2.\n",
    "k02 = 0.01\n",
    "alfa02 = 10**(-3.08)\n",
    "pd2 = 0.21\n",
    "#I1 =InvaC2Active(mP,KRC,k0,e1,alfa0,q10,pv,pd,w,D_R,b)\n",
    "#I2 = InvaC2Active(mP,KRC,k02,e1,alfa02,q10,pv,0.2,w,D_R2,b)\n",
    "\n",
    "#I5 = InvaC2Gr(KCP,KRC,k0,e1,alfa0,q10,pv,pd,w,D_R,b)\n",
    "I12 = InvP4(KRC2,KCP2,e1,e2,e3,alfa02,pv,pd2,k02,r0,q10,q20,b,D_R2,w,'Grazing','Active','Grazing')\n",
    "I22 = InvP5(KRC2,KCP2,e1,e2,e3,alfa02,pv,pd2,k02,r0,q10,q20,b,D_R2,w,'Grazing','Active','Grazing')\n",
    "#I3 = InvP3(KRC,KCP,e1,e2,e3,alfa0,pv,pd,k0,r0,q10,q20,b,D_R,w,'Grazing','Active','Grazing')\n",
    "#I4 = InvC2(KRC,KCP,e1,e2,e3,alfa0,pv,pd,k0,r0,q10,q20,b,D_R,w,'Grazing','Active','Grazing')\n",
    "I5 = InvP4B(KRC,KCP,e1,e2,e3,alfa0,pv,pd,k0,r0,q10,q20,b,D_R,w,'Grazing','Active','Grazing')\n",
    "#I3 = SetInt(I2,I1)\n",
    "\n",
    "I1 = InvP4(KRC,KCP,e1,e2,e3,alfa0,pv,pd,k0,r0,q10,q20,b,D_R,w,'Grazing','Active','Grazing')\n",
    "I2 = InvP5(KRC,KCP,e1,e2,e3,alfa0,pv,pd,k0,r0,q10,q20,b,D_R,w,'Grazing','Active','Grazing')\n",
    "\n",
    "def GetCoe(I1,Sign):\n",
    "    (n,m) = I1.shape\n",
    "    Z =np.zeros(shape=(n,m))\n",
    "    for i in range(n):\n",
    "        for j in range(m):\n",
    "            Z[i,j] = getP(I1[i,j],Sign[i,j])\n",
    "            \n",
    "    return Z\n",
    "    \n",
    "    \n",
    "def GetCoe(I1,I2,Sign):\n",
    "    (n,m) = I1.shape\n",
    "    Z1 =np.zeros(shape=(n,m))\n",
    "    Z2 =np.zeros(shape=(n,m))\n",
    "    for i in range(n):\n",
    "        for j in range(m):\n",
    "            t =getP(I1[i,j],I2[i,j],Sign[i,j])\n",
    "            if type(t)== tuple:\n",
    "                Z1[i,j] = t[0] ; Z2[i,j]= t[1]\n",
    "            else:\n",
    "                Z1[i,j] = t ; Z2[i,j]= t\n",
    "            \n",
    "    return Z1,Z2\n",
    "    \n",
    "    \n",
    "def getP(a,b,c):\n",
    "    if c >=0 or np.isnan(c):\n",
    "        return a,b\n",
    "    else:\n",
    "        return np.nan\n",
    "\n",
    "#I4 = GetCoe(I1,I2-I1)\n"
   ]
  },
  {
   "cell_type": "code",
   "execution_count": 52,
   "metadata": {
    "collapsed": false
   },
   "outputs": [],
   "source": [
    "fig,axes = plt.subplots(ncols=2)\n",
    "axes[0].plot(np.log10(mP),I1)\n",
    "axes[0].plot(np.log10(mP),I2)\n",
    "axes[0].plot(np.log10(mP),np.log10(mP))\n",
    "axes[1].plot(np.log10(mP),I12)\n",
    "axes[1].plot(np.log10(mP),I22)\n",
    "axes[1].plot(np.log10(mP),np.log10(mP))\n",
    "plt.show()"
   ]
  },
  {
   "cell_type": "code",
   "execution_count": 30,
   "metadata": {
    "collapsed": true
   },
   "outputs": [],
   "source": [
    "I1 = InvP4(KRC,KCP,e1,e2,e3,alfa0,pv,pd,0.1,r0,q10,q20,0.2,D_R,w,'Grazing','Active','Grazing')\n",
    "I2 = InvP5(KRC,KCP,e1,e2,e3,alfa0,pv,pd,0.1,r0,q10,q20,0.2,D_R,w,'Grazing','Active','Grazing')\n"
   ]
  },
  {
   "cell_type": "code",
   "execution_count": 3,
   "metadata": {
    "collapsed": true
   },
   "outputs": [],
   "source": [
    "from TestProgram import *\n",
    "params1={'w':0.75,'pd':0.21,'pv':0.26,'Er':0.,'Ek':0.,'ER':0.,\n",
    "        'EC':0.,'EP':0.,'Eq1':0.,'Eq2':0.,'TR':300.,'TC':300,\n",
    "        'TP':300.,'D_R':2.,'D_C':2.,'fmC':'Grazing','thermyR':'Ecto',\n",
    "        'thermyC':'Ecto','thermyP':'Ecto','fmPC':'Active','fmPR':'Grazing','k0':0.1,'r0':1.71e-6,'a012':10**(-3.08),\n",
    "        'a03':10**(-3.08),'d0':3.,'q10':4.15e-8,'q20':4.15e-8,'v0R':1.,'v0C':1,'v0P':1,'k':b_k,'e1':0.3,'e2':0.1,'e3':0.5,\n",
    "         'hC0':1.,'hP0':1.,'formPC':2,'formPR':2,'formC':2,'a':1.,'b':2.,'c':0}\n",
    "\n",
    "Prueba = BSR(params1,'LV',[-13,6],False)\n",
    "Prueba.setfDict()"
   ]
  },
  {
   "cell_type": "code",
   "execution_count": 38,
   "metadata": {
    "collapsed": false
   },
   "outputs": [],
   "source": [
    "#I1 = InvaP4AGrGr(1e-2,1e-3,e1,e2,e3,alfa0,pv,pd,k0,r0,q10,q20,b,D_R,w)\n",
    "I2 = InvP3(1e0,1e0,e1,e2,e3,alfa0,pv,pd,k0,r0,q10,q20,b,D_R,w,'Grazing','Active','Grazing')\n"
   ]
  },
  {
   "cell_type": "code",
   "execution_count": 60,
   "metadata": {
    "collapsed": false
   },
   "outputs": [],
   "source": [
    "e11 = 0.6\n",
    "e21 = 0.4\n",
    "\n",
    "KCP =10**(np.arange(-13,10,0.05)) \n",
    "KRC =10**(np.arange(-13,10,0.05))\n",
    "\n",
    "\n",
    "KCP,KRC = np.meshgrid(KCP,KRC)\n",
    "\n",
    "I51 = InvP4B(KRC,KCP,e1,e2,e3,alfa0,pv,pd,k0,r0,q10,q20,0.02,D_R,w,'Grazing','Active','Grazing')\n",
    "I61 = InvP4B(KRC,KCP,e11,e21,e3,alfa0,pv,pd,k0,r0,q10,q20,0.02,D_R,w,'Sit','Sit','Active')\n",
    "I71 = InvP4B(KRC,KCP,e11,e21,e3,alfa0,pv,pd,k0,r0,q10,q20,0.02,D_R,w,'Active','Active','Active')\n",
    "\n",
    "\n",
    "I52 = InvP4B(KRC,KCP,e1,e2,e3,alfa0,pv,pd,k0,r0,q10,q20,0.2,D_R,w,'Grazing','Active','Grazing')\n",
    "I62 = InvP4B(KRC,KCP,e11,e21,e3,alfa0,pv,pd,k0,r0,q10,q20,0.2,D_R,w,'Sit','Sit','Active')\n",
    "I72 = InvP4B(KRC,KCP,e11,e21,e3,alfa0,pv,pd,k0,r0,q10,q20,0.2,D_R,w,'Active','Active','Active')\n",
    "\n",
    "I53 = InvP4B(KRC,KCP,e1,e2,e3,alfa0,pv,pd,k0,r0,q10,q20,2,D_R,w,'Grazing','Active','Grazing')\n",
    "I63 = InvP4B(KRC,KCP,e11,e21,e3,alfa0,pv,pd,k0,r0,q10,q20,2,D_R,w,'Sit','Sit','Active')\n",
    "I73 = InvP4B(KRC,KCP,e11,e21,e3,alfa0,pv,pd,k0,r0,q10,q20,2,D_R,w,'Active','Active','Active')\n"
   ]
  },
  {
   "cell_type": "code",
   "execution_count": 61,
   "metadata": {
    "collapsed": true
   },
   "outputs": [],
   "source": [
    "\n",
    "I512 = InvP4B(KRC,KCP,e1,e2,e3,alfa02,pv,pd2,k02,r0,q10,q20,0.02,D_R2,w,'Grazing','Active','Grazing')\n",
    "I612 = InvP4B(KRC,KCP,e11,e21,e3,alfa02,pv,pd2,k02,r0,q10,q20,0.02,D_R2,w,'Sit','Sit','Active')\n",
    "I712 = InvP4B(KRC,KCP,e11,e21,e3,alfa02,pv,pd2,k02,r0,q10,q20,0.02,D_R2,w,'Active','Active','Active')\n",
    "\n",
    "\n",
    "I522 = InvP4B(KRC,KCP,e1,e2,e3,alfa02,pv,pd2,k02,r0,q10,q20,0.2,D_R2,w,'Grazing','Active','Grazing')\n",
    "I622 = InvP4B(KRC,KCP,e11,e21,e3,alfa02,pv,pd2,k02,r0,q10,q20,0.2,D_R2,w,'Sit','Sit','Active')\n",
    "I722 = InvP4B(KRC,KCP,e11,e21,e3,alfa02,pv,pd2,k02,r0,q10,q20,0.2,D_R2,w,'Active','Active','Active')\n",
    "\n",
    "I532 = InvP4B(KRC,KCP,e1,e2,e3,alfa02,pv,pd2,k02,r0,q10,q20,2,D_R2,w,'Grazing','Active','Grazing')\n",
    "I632 = InvP4B(KRC,KCP,e11,e21,e3,alfa02,pv,pd2,k02,r0,q10,q20,2,D_R2,w,'Sit','Sit','Active')\n",
    "I732 = InvP4B(KRC,KCP,e11,e21,e3,alfa02,pv,pd2,k02,r0,q10,q20,2,D_R2,w,'Active','Active','Active')\n"
   ]
  },
  {
   "cell_type": "code",
   "execution_count": 7,
   "metadata": {
    "collapsed": true
   },
   "outputs": [],
   "source": []
  },
  {
   "cell_type": "code",
   "execution_count": null,
   "metadata": {
    "collapsed": false
   },
   "outputs": [],
   "source": [
    "from matplotlib import cm\n",
    "fig,axes = plt.subplots(ncols=3,nrows=2)\n",
    "levs= [-1,0]\n",
    "levs2= [0,1]\n",
    "\n",
    "\n",
    "\n",
    "axes[0,0].contour(np.log10(KCP),np.log10(KRC),I512,levels=levs,cmap = cm.Greens)\n",
    "axes[0,0].contour(np.log10(KCP),np.log10(KRC),I612,levels=levs,cmap = cm.Reds)\n",
    "axes[0,0].contour(np.log10(KCP),np.log10(KRC),I712,levels=levs,cmap =cm.Blues)\n",
    "\n",
    "axes[0,1].contour(np.log10(KCP),np.log10(KRC),I522,levels=levs,cmap = cm.Greens)\n",
    "axes[0,1].contour(np.log10(KCP),np.log10(KRC),I622,levels=levs,cmap = cm.Reds)\n",
    "axes[0,1].contour(np.log10(KCP),np.log10(KRC),I722,levels=levs,cmap =cm.Blues)\n",
    "\n",
    "axes[0,2].contour(np.log10(KCP),np.log10(KRC),I532,levels=levs,cmap = cm.Greens)\n",
    "axes[0,2].contour(np.log10(KCP),np.log10(KRC),I632,levels=levs,cmap = cm.Reds)\n",
    "axes[0,2].contour(np.log10(KCP),np.log10(KRC),I732,levels=levs,cmap =cm.Blues)\n",
    "\n",
    "\n",
    "axes[1,0].contour(np.log10(KCP),np.log10(KRC),I51,levels=levs,cmap = cm.Greens)\n",
    "axes[1,0].contour(np.log10(KCP),np.log10(KRC),I61,levels=levs,cmap = cm.Reds)\n",
    "axes[1,0].contour(np.log10(KCP),np.log10(KRC),I71,levels=levs,cmap =cm.Blues)\n",
    "\n",
    "axes[1,1].contour(np.log10(KCP),np.log10(KRC),I52,levels=levs,cmap = cm.Greens)\n",
    "axes[1,1].contour(np.log10(KCP),np.log10(KRC),I62,levels=levs,cmap = cm.Reds)\n",
    "axes[1,1].contour(np.log10(KCP),np.log10(KRC),I72,levels=levs,cmap =cm.Blues)\n",
    "\n",
    "axes[1,2].contour(np.log10(KCP),np.log10(KRC),I53,levels=levs,cmap = cm.Greens)\n",
    "axes[1,2].contour(np.log10(KCP),np.log10(KRC),I63,levels=levs,cmap = cm.Reds)\n",
    "axes[1,2].contour(np.log10(KCP),np.log10(KRC),I73,levels=levs,cmap =cm.Blues)\n",
    "\n",
    "\n",
    "\n",
    "\n",
    "#axes.set_xlim([-13,10])\n",
    "#fig.colorbar(cs, ax=axes, format=\"%.2f\")\n",
    "#plt.savefig('Queda.pdf')\n",
    "plt.show()\n"
   ]
  },
  {
   "cell_type": "code",
   "execution_count": 108,
   "metadata": {
    "collapsed": false
   },
   "outputs": [
    {
     "name": "stderr",
     "output_type": "stream",
     "text": [
      "C:\\Python27\\Lib\\site-packages\\IPython\\kernel\\__main__.py:4: RuntimeWarning: invalid value encountered in sqrt\n",
      "C:\\Python27\\Lib\\site-packages\\IPython\\kernel\\__main__.py:5: RuntimeWarning: invalid value encountered in sqrt\n"
     ]
    }
   ],
   "source": [
    "X = np.arange(-2,2,0.01)\n",
    "Y = np.arange(-2,2,0.01)\n",
    "X,Y = np.meshgrid(X,Y)\n",
    "Z1 = np.sqrt(1-(X**2+ Y**2))\n",
    "Z2 = -np.sqrt(1-(X**2+ Y**2))\n",
    "\n",
    "\n"
   ]
  },
  {
   "cell_type": "code",
   "execution_count": 105,
   "metadata": {
    "collapsed": false
   },
   "outputs": [],
   "source": [
    "U = Z1**2 + X**2 + Y**2"
   ]
  },
  {
   "cell_type": "code",
   "execution_count": 102,
   "metadata": {
    "collapsed": false
   },
   "outputs": [],
   "source": [
    "X2 = np.concatenate([X,X])\n",
    "Y2 = np.concatenate([Y,Y])\n",
    "Z = np.concatenate([Z1,Z2])\n",
    "\n"
   ]
  },
  {
   "cell_type": "code",
   "execution_count": 9,
   "metadata": {
    "collapsed": false
   },
   "outputs": [
    {
     "name": "stderr",
     "output_type": "stream",
     "text": [
      "C:\\Python27\\Lib\\site-packages\\IPython\\kernel\\__main__.py:61: RuntimeWarning: invalid value encountered in log10\n",
      "C:\\Python27\\Lib\\site-packages\\IPython\\kernel\\__main__.py:46: RuntimeWarning: invalid value encountered in log10\n"
     ]
    }
   ],
   "source": [
    "I1k2 = InvP4(KRC,KCP,e1,e2,e3,alfa0,pv,pd,5.,r0,q10,q20,b,D_R,w,'Grazing','Active','Grazing')\n",
    "I2k2 = InvP5(KRC,KCP,e1,e2,e3,alfa0,pv,pd,5.,r0,q10,q20,b,D_R,w,'Grazing','Active','Grazing')"
   ]
  },
  {
   "cell_type": "code",
   "execution_count": null,
   "metadata": {
    "collapsed": true
   },
   "outputs": [],
   "source": [
    "I1k = InvP4(KRC,KCP,e1,e2,e3,alfa0,pv,pd,1.,r0,q10,q20,b,D_R,w,'Grazing','Active','Grazing')\n",
    "I2k = InvP5(KRC,KCP,e1,e2,e3,alfa0,pv,pd,1.,r0,q10,q20,b,D_R,w,'Grazing','Active','Grazing')"
   ]
  },
  {
   "cell_type": "code",
   "execution_count": 109,
   "metadata": {
    "collapsed": false
   },
   "outputs": [],
   "source": [
    "from matplotlib import cm\n",
    "fig  = plt.figure()\n",
    "from mpl_toolkits.mplot3d import Axes3D\n",
    "\n",
    "ax = fig.gca(projection='3d')\n",
    "b2 = ax.plot_surface(X,Y,Z1,cmap=cm.hot_r,rstride=100,cstride=100)\n",
    "#b1 = ax.plot_surface(np.log10(KRC),np.log10(KCP),np.log10(),cmap=cm.hot_r,rstride=100,cstride=100)\n",
    "fig.colorbar(b2, shrink=0.5, aspect=5)\n",
    "plt.show()"
   ]
  },
  {
   "cell_type": "code",
   "execution_count": 91,
   "metadata": {
    "collapsed": false
   },
   "outputs": [],
   "source": [
    "fig,axes = plt.subplots(ncols=1)\n",
    "levs= [0,0.2]\n",
    "cs = axes.contour(X2,Y2, Z,levels=levs)\n",
    "#axes.set_xlim([-13,6])\n",
    "fig.colorbar(cs, ax=axes, format=\"%.2f\")\n",
    "#plt.savefig('Queda.pdf')\n",
    "plt.show()"
   ]
  },
  {
   "cell_type": "code",
   "execution_count": 42,
   "metadata": {
    "collapsed": false
   },
   "outputs": [
    {
     "data": {
      "text/plain": [
       "-3.049318610115481e-20"
      ]
     },
     "execution_count": 42,
     "metadata": {},
     "output_type": "execute_result"
    }
   ],
   "source": [
    "Prueba.fDict['I_P_s3'](1e0,1e0,7.651862896222192e-12)"
   ]
  },
  {
   "cell_type": "code",
   "execution_count": 25,
   "metadata": {
    "collapsed": false
   },
   "outputs": [
    {
     "data": {
      "text/plain": [
       "1.354250322238444"
      ]
     },
     "execution_count": 25,
     "metadata": {},
     "output_type": "execute_result"
    }
   ],
   "source": [
    "K1 = 1e0\n",
    "K2 = 1e5\n",
    "b = 0.1\n",
    "(1 + K1**b)*K2**(w - (pv + 4*0.2) + 2*0.2)/(1 + (K2*K1)**b)"
   ]
  },
  {
   "cell_type": "code",
   "execution_count": 32,
   "metadata": {
    "collapsed": false
   },
   "outputs": [],
   "source": [
    "Z = np.zeros(shape=(20,20))"
   ]
  },
  {
   "cell_type": "code",
   "execution_count": 174,
   "metadata": {
    "collapsed": false
   },
   "outputs": [],
   "source": [
    "I = GetCoe(I1,I2,I2-I3)"
   ]
  },
  {
   "cell_type": "code",
   "execution_count": 10,
   "metadata": {
    "collapsed": true
   },
   "outputs": [],
   "source": [
    "Coex3=GetCoe(I1k2,I2k2,I2k2-I1k2)"
   ]
  },
  {
   "cell_type": "code",
   "execution_count": 6,
   "metadata": {
    "collapsed": true
   },
   "outputs": [],
   "source": [
    "Coex2=GetCoe(I1k,I2k,I2k-I1k)"
   ]
  },
  {
   "cell_type": "code",
   "execution_count": 3,
   "metadata": {
    "collapsed": true
   },
   "outputs": [],
   "source": [
    "Coex = GetCoe(I1,I2,I2-I1)"
   ]
  },
  {
   "cell_type": "code",
   "execution_count": 127,
   "metadata": {
    "collapsed": false
   },
   "outputs": [],
   "source": [
    "newKRC = np.concatenate([KRC,KRC])\n",
    "newKCP = np.concatenate([KCP,KCP])\n"
   ]
  },
  {
   "cell_type": "code",
   "execution_count": 130,
   "metadata": {
    "collapsed": false
   },
   "outputs": [],
   "source": [
    "newI= np.concatenate([I[0],I[1]])"
   ]
  },
  {
   "cell_type": "code",
   "execution_count": 168,
   "metadata": {
    "collapsed": false
   },
   "outputs": [
    {
     "data": {
      "text/plain": [
       "True"
      ]
     },
     "execution_count": 168,
     "metadata": {},
     "output_type": "execute_result"
    }
   ],
   "source": [
    "np.isnan(I[0][0][-1])"
   ]
  },
  {
   "cell_type": "code",
   "execution_count": 15,
   "metadata": {
    "collapsed": false
   },
   "outputs": [],
   "source": [
    "fig,axes = plt.subplots(ncols=1)\n",
    "levs= [-10,-5,0,5]\n",
    "cs = axes.contour(np.log10(KCP),np.log10(KRC),Coex3[1],levels=levs)\n",
    "axes.contour(np.log10(KCP),np.log10(KRC),Coex3[0],levels=levs)\n",
    "axes.set_xlim([-13,6])\n",
    "fig.colorbar(cs, ax=axes, format=\"%.2f\")\n",
    "#plt.savefig('Queda.pdf')\n",
    "plt.show()\n"
   ]
  },
  {
   "cell_type": "code",
   "execution_count": 62,
   "metadata": {
    "collapsed": false
   },
   "outputs": [
    {
     "data": {
      "text/plain": [
       "<matplotlib.contour.QuadContourSet instance at 0x0000000029484D08>"
      ]
     },
     "execution_count": 62,
     "metadata": {},
     "output_type": "execute_result"
    }
   ],
   "source": [
    "data = np.loadtxt('raw.txt')\n",
    "plt.contour(data)"
   ]
  },
  {
   "cell_type": "code",
   "execution_count": 55,
   "metadata": {
    "collapsed": true
   },
   "outputs": [],
   "source": [
    "import scipy.ndimage\n",
    "I4= scipy.ndimage.zoom(I3, 3)"
   ]
  },
  {
   "cell_type": "code",
   "execution_count": 181,
   "metadata": {
    "collapsed": false
   },
   "outputs": [],
   "source": [
    "fig,axes = plt.subplots(ncols=1)\n",
    "levs= [-15,-10,-5,0,5,10,20]\n",
    "cs = axes.contour(np.log10(KCP),np.log10(KRC),np.log10(I1),levels=levs)\n",
    "axes.contour(np.log10(KCP),np.log10(KRC),I2,levels=levs)\n",
    "axes.set_xlim([-13,6])\n",
    "fig.colorbar(cs, ax=axes, format=\"%.2f\")\n",
    "#plt.savefig('Queda.pdf')\n",
    "plt.show()\n"
   ]
  },
  {
   "cell_type": "code",
   "execution_count": 45,
   "metadata": {
    "collapsed": false
   },
   "outputs": [
    {
     "ename": "TypeError",
     "evalue": "unsupported operand type(s) for ** or pow(): 'float' and 'Poly3DCollection'",
     "output_type": "error",
     "traceback": [
      "\u001b[1;31m---------------------------------------------------------------------------\u001b[0m",
      "\u001b[1;31mTypeError\u001b[0m                                 Traceback (most recent call last)",
      "\u001b[1;32m<ipython-input-45-f44b7a271db7>\u001b[0m in \u001b[0;36m<module>\u001b[1;34m()\u001b[0m\n\u001b[1;32m----> 1\u001b[1;33m \u001b[0mI2\u001b[0m \u001b[1;33m=\u001b[0m \u001b[0mInvP5\u001b[0m\u001b[1;33m(\u001b[0m\u001b[0mKRC\u001b[0m\u001b[1;33m,\u001b[0m\u001b[0mKCP\u001b[0m\u001b[1;33m,\u001b[0m\u001b[0me1\u001b[0m\u001b[1;33m,\u001b[0m\u001b[0me2\u001b[0m\u001b[1;33m,\u001b[0m\u001b[0me3\u001b[0m\u001b[1;33m,\u001b[0m\u001b[0malfa0\u001b[0m\u001b[1;33m,\u001b[0m\u001b[0mpv\u001b[0m\u001b[1;33m,\u001b[0m\u001b[0mpd\u001b[0m\u001b[1;33m,\u001b[0m\u001b[0mk0\u001b[0m\u001b[1;33m,\u001b[0m\u001b[0mr0\u001b[0m\u001b[1;33m,\u001b[0m\u001b[0mq10\u001b[0m\u001b[1;33m,\u001b[0m\u001b[0mq20\u001b[0m\u001b[1;33m,\u001b[0m\u001b[0mb\u001b[0m\u001b[1;33m,\u001b[0m\u001b[0mD_R\u001b[0m\u001b[1;33m,\u001b[0m\u001b[0mw\u001b[0m\u001b[1;33m,\u001b[0m\u001b[1;34m'Grazing'\u001b[0m\u001b[1;33m,\u001b[0m\u001b[1;34m'Active'\u001b[0m\u001b[1;33m,\u001b[0m\u001b[1;34m'Grazing'\u001b[0m\u001b[1;33m)\u001b[0m\u001b[1;33m\u001b[0m\u001b[0m\n\u001b[0m",
      "\u001b[1;32m<ipython-input-32-cc452645705d>\u001b[0m in \u001b[0;36mInvP5\u001b[1;34m(KRC, KCP, e1, e2, e3, alfa0, pv, pd, k0, r0, q10, q20, b, D, w, fpr, fpc, fc)\u001b[0m\n\u001b[0;32m     31\u001b[0m \u001b[1;32mdef\u001b[0m \u001b[0mInvP5\u001b[0m\u001b[1;33m(\u001b[0m\u001b[0mKRC\u001b[0m\u001b[1;33m,\u001b[0m\u001b[0mKCP\u001b[0m\u001b[1;33m,\u001b[0m\u001b[0me1\u001b[0m\u001b[1;33m,\u001b[0m\u001b[0me2\u001b[0m\u001b[1;33m,\u001b[0m\u001b[0me3\u001b[0m\u001b[1;33m,\u001b[0m\u001b[0malfa0\u001b[0m\u001b[1;33m,\u001b[0m\u001b[0mpv\u001b[0m\u001b[1;33m,\u001b[0m\u001b[0mpd\u001b[0m\u001b[1;33m,\u001b[0m\u001b[0mk0\u001b[0m\u001b[1;33m,\u001b[0m\u001b[0mr0\u001b[0m\u001b[1;33m,\u001b[0m\u001b[0mq10\u001b[0m\u001b[1;33m,\u001b[0m\u001b[0mq20\u001b[0m\u001b[1;33m,\u001b[0m\u001b[0mb\u001b[0m\u001b[1;33m,\u001b[0m\u001b[0mD\u001b[0m\u001b[1;33m,\u001b[0m\u001b[0mw\u001b[0m\u001b[1;33m,\u001b[0m\u001b[0mfpr\u001b[0m\u001b[1;33m,\u001b[0m\u001b[0mfpc\u001b[0m\u001b[1;33m,\u001b[0m\u001b[0mfc\u001b[0m\u001b[1;33m)\u001b[0m\u001b[1;33m:\u001b[0m\u001b[1;33m\u001b[0m\u001b[0m\n\u001b[0;32m     32\u001b[0m     \u001b[0mKRP\u001b[0m \u001b[1;33m=\u001b[0m \u001b[0mKCP\u001b[0m\u001b[1;33m*\u001b[0m\u001b[0mKRC\u001b[0m\u001b[1;33m\u001b[0m\u001b[0m\n\u001b[1;32m---> 33\u001b[1;33m     \u001b[0mg_C\u001b[0m \u001b[1;33m=\u001b[0m \u001b[0mg\u001b[0m\u001b[1;33m(\u001b[0m\u001b[0mKRC\u001b[0m\u001b[1;33m,\u001b[0m\u001b[0mpv\u001b[0m\u001b[1;33m,\u001b[0m\u001b[0mpd\u001b[0m\u001b[1;33m,\u001b[0m\u001b[1;36m1.\u001b[0m\u001b[1;33m,\u001b[0m\u001b[1;36m1.\u001b[0m\u001b[1;33m,\u001b[0m\u001b[1;36m0.\u001b[0m\u001b[1;33m,\u001b[0m\u001b[1;36m0.\u001b[0m\u001b[1;33m,\u001b[0m\u001b[0mD\u001b[0m\u001b[1;33m,\u001b[0m\u001b[1;36m1.\u001b[0m\u001b[1;33m,\u001b[0m\u001b[1;36m1.\u001b[0m\u001b[1;33m,\u001b[0m\u001b[0mfc\u001b[0m\u001b[1;33m,\u001b[0m\u001b[1;34m'Ecto'\u001b[0m\u001b[1;33m,\u001b[0m\u001b[1;34m'Ecto'\u001b[0m\u001b[1;33m,\u001b[0m\u001b[1;36m1.\u001b[0m\u001b[1;33m)\u001b[0m\u001b[1;33m*\u001b[0m\u001b[0mf\u001b[0m\u001b[1;33m(\u001b[0m\u001b[0mKRC\u001b[0m\u001b[1;33m,\u001b[0m\u001b[1;36m2\u001b[0m\u001b[1;33m,\u001b[0m\u001b[1;36m1\u001b[0m\u001b[1;33m,\u001b[0m\u001b[0mb\u001b[0m\u001b[1;33m,\u001b[0m\u001b[1;36m0\u001b[0m\u001b[1;33m)\u001b[0m\u001b[1;33m\u001b[0m\u001b[0m\n\u001b[0m\u001b[0;32m     34\u001b[0m     \u001b[0mg_R\u001b[0m \u001b[1;33m=\u001b[0m \u001b[0mg\u001b[0m\u001b[1;33m(\u001b[0m\u001b[0mKRP\u001b[0m\u001b[1;33m,\u001b[0m\u001b[0mpv\u001b[0m\u001b[1;33m,\u001b[0m\u001b[0mpd\u001b[0m\u001b[1;33m,\u001b[0m\u001b[1;36m1.\u001b[0m\u001b[1;33m,\u001b[0m\u001b[1;36m1.\u001b[0m\u001b[1;33m,\u001b[0m\u001b[1;36m0.\u001b[0m\u001b[1;33m,\u001b[0m\u001b[1;36m0.\u001b[0m\u001b[1;33m,\u001b[0m\u001b[0mD\u001b[0m\u001b[1;33m,\u001b[0m\u001b[1;36m1.\u001b[0m\u001b[1;33m,\u001b[0m\u001b[1;36m1.\u001b[0m\u001b[1;33m,\u001b[0m\u001b[0mfpr\u001b[0m\u001b[1;33m,\u001b[0m\u001b[1;34m'Ecto'\u001b[0m\u001b[1;33m,\u001b[0m\u001b[1;34m'Ecto'\u001b[0m\u001b[1;33m,\u001b[0m\u001b[1;36m1.\u001b[0m\u001b[1;33m)\u001b[0m\u001b[1;33m*\u001b[0m\u001b[0mf\u001b[0m\u001b[1;33m(\u001b[0m\u001b[0mKRP\u001b[0m\u001b[1;33m,\u001b[0m\u001b[1;36m2\u001b[0m\u001b[1;33m,\u001b[0m\u001b[1;36m1\u001b[0m\u001b[1;33m,\u001b[0m\u001b[0mb\u001b[0m\u001b[1;33m,\u001b[0m\u001b[1;36m0\u001b[0m\u001b[1;33m)\u001b[0m\u001b[1;33m\u001b[0m\u001b[0m\n\u001b[0;32m     35\u001b[0m     \u001b[0mg_P\u001b[0m \u001b[1;33m=\u001b[0m \u001b[0mg\u001b[0m\u001b[1;33m(\u001b[0m\u001b[0mKCP\u001b[0m\u001b[1;33m,\u001b[0m\u001b[0mpv\u001b[0m\u001b[1;33m,\u001b[0m\u001b[0mpd\u001b[0m\u001b[1;33m,\u001b[0m\u001b[1;36m1.\u001b[0m\u001b[1;33m,\u001b[0m\u001b[1;36m1.\u001b[0m\u001b[1;33m,\u001b[0m\u001b[1;36m0.\u001b[0m\u001b[1;33m,\u001b[0m\u001b[1;36m0.\u001b[0m\u001b[1;33m,\u001b[0m\u001b[0mD\u001b[0m\u001b[1;33m,\u001b[0m\u001b[1;36m1.\u001b[0m\u001b[1;33m,\u001b[0m\u001b[1;36m1.\u001b[0m\u001b[1;33m,\u001b[0m\u001b[0mfpc\u001b[0m\u001b[1;33m,\u001b[0m\u001b[1;34m'Ecto'\u001b[0m\u001b[1;33m,\u001b[0m\u001b[1;34m'Ecto'\u001b[0m\u001b[1;33m,\u001b[0m\u001b[1;36m1.\u001b[0m\u001b[1;33m)\u001b[0m\u001b[1;33m*\u001b[0m\u001b[0mf\u001b[0m\u001b[1;33m(\u001b[0m\u001b[0mKCP\u001b[0m\u001b[1;33m,\u001b[0m\u001b[1;36m2\u001b[0m\u001b[1;33m,\u001b[0m\u001b[1;36m1\u001b[0m\u001b[1;33m,\u001b[0m\u001b[0mb\u001b[0m\u001b[1;33m,\u001b[0m\u001b[1;36m0\u001b[0m\u001b[1;33m)\u001b[0m\u001b[1;33m\u001b[0m\u001b[0m\n",
      "\u001b[1;32m<ipython-input-22-43ab4bec71bc>\u001b[0m in \u001b[0;36mf\u001b[1;34m(k_, form, a, b, c)\u001b[0m\n\u001b[0;32m     29\u001b[0m         \u001b[1;32mreturn\u001b[0m \u001b[0ma\u001b[0m\u001b[1;33m\u001b[0m\u001b[0m\n\u001b[0;32m     30\u001b[0m     \u001b[1;32melif\u001b[0m \u001b[0mform\u001b[0m \u001b[1;33m==\u001b[0m \u001b[1;36m2\u001b[0m\u001b[1;33m:\u001b[0m\u001b[1;33m\u001b[0m\u001b[0m\n\u001b[1;32m---> 31\u001b[1;33m         \u001b[1;32mreturn\u001b[0m \u001b[0ma\u001b[0m\u001b[1;33m/\u001b[0m\u001b[1;33m(\u001b[0m\u001b[1;36m1\u001b[0m\u001b[1;33m+\u001b[0m\u001b[0mk_\u001b[0m\u001b[1;33m**\u001b[0m\u001b[0mb\u001b[0m\u001b[1;33m)\u001b[0m\u001b[1;33m\u001b[0m\u001b[0m\n\u001b[0m\u001b[0;32m     32\u001b[0m     \u001b[1;32melif\u001b[0m \u001b[0mform\u001b[0m \u001b[1;33m==\u001b[0m \u001b[1;36m3\u001b[0m \u001b[1;33m:\u001b[0m\u001b[1;33m\u001b[0m\u001b[0m\n\u001b[0;32m     33\u001b[0m         \u001b[1;32mreturn\u001b[0m \u001b[0ma\u001b[0m\u001b[1;33m*\u001b[0m\u001b[0mexp\u001b[0m\u001b[1;33m(\u001b[0m\u001b[1;33m-\u001b[0m\u001b[1;33m(\u001b[0m\u001b[0mlog\u001b[0m\u001b[1;33m(\u001b[0m\u001b[0mk_\u001b[0m\u001b[1;33m)\u001b[0m\u001b[1;33m-\u001b[0m\u001b[0mb\u001b[0m\u001b[1;33m)\u001b[0m\u001b[1;33m**\u001b[0m\u001b[1;36m2\u001b[0m\u001b[1;33m/\u001b[0m\u001b[1;33m(\u001b[0m\u001b[1;36m2\u001b[0m\u001b[1;33m*\u001b[0m\u001b[0mc\u001b[0m\u001b[1;33m)\u001b[0m\u001b[1;33m)\u001b[0m\u001b[1;33m\u001b[0m\u001b[0m\n",
      "\u001b[1;31mTypeError\u001b[0m: unsupported operand type(s) for ** or pow(): 'float' and 'Poly3DCollection'"
     ]
    }
   ],
   "source": [
    "I2 = InvP5(KRC,KCP,e1,e2,e3,alfa0,pv,pd,k0,r0,q10,q20,b,D_R,w,'Grazing','Active','Grazing')"
   ]
  },
  {
   "cell_type": "code",
   "execution_count": 54,
   "metadata": {
    "collapsed": false
   },
   "outputs": [],
   "source": [
    "from matplotlib import cm\n",
    "fig  = plt.figure()\n",
    "from mpl_toolkits.mplot3d import Axes3D\n",
    "\n",
    "ax = fig.gca(projection='3d')\n",
    "b2 = ax.plot_surface(np.log10(KRC),np.log10(KCP),np.log10(I2)-np.log10(I3),cmap=cm.hot_r,rstride=100,cstride=100)\n",
    "#b1 = ax.plot_surface(np.log10(KRC),np.log10(KCP),np.log10(),cmap=cm.hot_r,rstride=100,cstride=100)\n",
    "fig.colorbar(b2, shrink=0.5, aspect=5)\n",
    "plt.show()"
   ]
  },
  {
   "cell_type": "code",
   "execution_count": 26,
   "metadata": {
    "collapsed": false
   },
   "outputs": [
    {
     "data": {
      "text/plain": [
       "3"
      ]
     },
     "execution_count": 26,
     "metadata": {},
     "output_type": "execute_result"
    }
   ],
   "source": [
    "max(2,3)"
   ]
  }
 ],
 "metadata": {
  "kernelspec": {
   "display_name": "IPython (Python 2)",
   "name": "python2"
  },
  "language_info": {
   "codemirror_mode": {
    "name": "ipython",
    "version": 2
   },
   "file_extension": ".py",
   "mimetype": "text/x-python",
   "name": "python",
   "nbconvert_exporter": "python",
   "pygments_lexer": "ipython2",
   "version": "2.7.9"
  }
 },
 "nbformat": 4,
 "nbformat_minor": 0
}