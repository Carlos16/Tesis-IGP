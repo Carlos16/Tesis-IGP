{
 "cells": [
  {
   "cell_type": "markdown",
   "metadata": {},
   "source": [
    "#Invasibility Analysis"
   ]
  },
  {
   "cell_type": "markdown",
   "metadata": {},
   "source": [
    "In what follows we will derive invasibility criteria of a species for the diverse scenarios(different recipient subsystems) that could arise in the different [models](Models.ipynb), that is conditions for $\\frac{dJ}{dt} > 0 $ when $J \\approx 0$ for the species $J$ in the given scenario.  \n",
    "There exists 5 scenarios :\n",
    "\n",
    "* **Scenario 1** : R alone \n",
    "* **Scenario 2** : C to R\n",
    "* **Scenario 3** : P to R\n",
    "* **Scenario 4** : P to C-R\n",
    "* **Scenario 5** : C to P-R\n",
    "\n",
    "\n",
    "Assumptions<sup>1:\n",
    "\n",
    "* The recipient system has a point attractor **X** which is stable\n",
    "* The recipient system state is **X** at the moment of the invasion , this could arise because :  \n",
    "    * The recipient system initial state before the invasion is in the *bassin of attraction* of **X**  \n",
    "      \n",
    "         \n",
    "Let $\\hat{J}_i$ denote the equilibrium value of species $J$ in the system composed for the species present in the scenario $i$ (e.g scenario $\\hat{C}_2$ denotes the biomass density of $C$ at the equilibrium of the $C-R$ system.\n",
    "\n",
    "<sup>1</sup>:<sub>This assumptions always hold in the *Lotka-Volterra* model, but we need to check its validity for the *Rozenweigh-MacArthur* model, and devise a strategy for invasibility in the case of other types of attractors , such as *limit-cycles*\n",
    "\n"
   ]
  },
  {
   "cell_type": "markdown",
   "metadata": {},
   "source": [
    "#Invasibility Conditions"
   ]
  },
  {
   "cell_type": "markdown",
   "metadata": {},
   "source": [
    "# Scenario 1"
   ]
  },
  {
   "cell_type": "markdown",
   "metadata": {},
   "source": [
    "##Unstructured models"
   ]
  },
  {
   "cell_type": "markdown",
   "metadata": {},
   "source": [
    "###General model\n",
    "\\begin{equation}\n",
    "\\frac{dR}{dt}= F(R)\n",
    "\\end{equation}\n",
    "\n",
    "**Condition for Invasion ** is  \n",
    "\\begin{equation} F(R) > 0 \\end{equation}"
   ]
  },
  {
   "cell_type": "markdown",
   "metadata": {},
   "source": [
    "###Lotka-Volterra"
   ]
  },
  {
   "cell_type": "markdown",
   "metadata": {},
   "source": [
    "In this case we have :  \n",
    "$F(R)  = rR(1-\\frac{R}{K})$\n",
    "\n",
    "Therefore the condition for invasion is(recall $R \\approx 0$ ):\n",
    "\\begin{equation} r >0 \\end{equation}\n",
    "\n",
    "Furthermore if $ r > 0 $ we also have a nontrivial stable(global) point attractor. Following our [parameterization](Parametrization.ipynb#Intra-population-parameters) this condition will always be satified if we assume $r_0 > 0 $<sup>1\n",
    "\n",
    "<sup>1</sup> : <sub>We will always assume that the resource could persist alone therefore $r_0 > 0$, since otherwise we could not have a bigger set of species in the habitat(following the specified dynamics).<sub>"
   ]
  },
  {
   "cell_type": "markdown",
   "metadata": {},
   "source": [
    "###Rosenzweig-MacArthur"
   ]
  },
  {
   "cell_type": "markdown",
   "metadata": {},
   "source": [
    "The condition is the same as the above one"
   ]
  },
  {
   "cell_type": "markdown",
   "metadata": {},
   "source": [
    "#Scenario 2"
   ]
  },
  {
   "cell_type": "markdown",
   "metadata": {},
   "source": [
    "##Unstructured models"
   ]
  },
  {
   "cell_type": "markdown",
   "metadata": {},
   "source": [
    "### General Model"
   ]
  },
  {
   "cell_type": "markdown",
   "metadata": {},
   "source": [
    "Let :  \n",
    "\\begin{equation}\n",
    "\\varphi(R) = \\epsilon_1 G(R)- q_1\n",
    "\\end{equation}\n",
    "\n",
    "The condition for invasibility is :  \n",
    "\\begin{equation}\n",
    "    \\begin{aligned}\n",
    "        &\\frac{dC}{dt}(C,\\hat{R}_1) = C \\varphi(\\hat{R}_1) > 0 \\iff \\\\\n",
    "        &\\varphi(\\hat{R}_1) > 0\n",
    "    \\end{aligned}\n",
    "\\end{equation}\n",
    "\n",
    "Where $F(\\hat{R}_1) = 0$ \n",
    "\n",
    "It is easly [shown](Proofs.ipynb#Proposition-1) that $\\varphi(\\hat{R}_1) >0  $ is a necessary and suficient condition for the system to have a positive equilibrium, under some general assumptions."
   ]
  },
  {
   "cell_type": "markdown",
   "metadata": {},
   "source": [
    "###Lotka-Volterra"
   ]
  },
  {
   "cell_type": "markdown",
   "metadata": {},
   "source": [
    "The condition for invasibility in this case is :  \n",
    "\n",
    "\\begin{equation}\n",
    "    \\varphi_c = \\epsilon_1 \\alpha_1 \\hat{R_1} - q_1 >0 \n",
    "\\end{equation}\n",
    "\n",
    "where $\\hat{R_1} = K $  \n",
    "Using our [paremeterization](Parametrization.ipynb) we have:"
   ]
  },
  {
   "cell_type": "markdown",
   "metadata": {},
   "source": [
    "\\begin{equation}\n",
    "    \\varphi_c(m_C,k_{RC},T_R,T_C,f_C,D_R,\\vartheta_R,\\vartheta_C) = \\epsilon_1 \\alpha_{1_0} m_C^{p_v+2(D_R-1)p_d -1 } g_1(k_{RC},T_R,T_C,f_C,D_R,\\vartheta_R,\\vartheta_C) \\Phi(k_{RC})k_0 (k_{RC} m_C)^{-w+1}e^{E_K/k T_R} -  q_{1_0} m_C^{w-1}e^{-E_{q_1}/k T_C} > 0\n",
    "\\end{equation} "
   ]
  },
  {
   "cell_type": "markdown",
   "metadata": {},
   "source": [
    "To show the final form of a particular example we set the foraging mode to *Active-Capture* and the thermy to *Ectothermic consumer-Ectothermic resource*, the condition reduces to:\n",
    "\n",
    "\\begin{equation}\n",
    "    \\varphi_c(m_C,k_{RC},T_R,T_C,D_R) = \\epsilon_1 \\alpha_{1_0} m_C^{p_v+2(D_R-1)p_d -1 }  v_{0,C} e^{-E_C/k T_C} \\sqrt{ 1+ (\\frac{v_{0,R}}{v_{0,C}}) k_{RC}^{2p_v} \\Delta_{RC}^2} k_{RC}^{(D_R-1)p_d} \\Phi(k_{RC})k_0 (k_{RC} m_C)^{-w+1}e^{E_K/k T_R}  -  q_{1_0} m_C^{w-1}e^{-E_{q_1}/k T_C} >0\n",
    "\\end{equation}"
   ]
  },
  {
   "cell_type": "markdown",
   "metadata": {},
   "source": [
    "###Rosenzweig-MacArthur"
   ]
  },
  {
   "cell_type": "markdown",
   "metadata": {},
   "source": [
    "Let :\n",
    "\\begin{equation}\n",
    "    \\varphi_c = \\frac{\\epsilon_1 \\alpha_1 R }{1+ t_{h,c} m_C \\alpha_1 R} - q_1\n",
    "\\end{equation}\n",
    "The condition now is:\n",
    "\n",
    "\\begin{equation}\n",
    "    \\varphi_c (\\hat{R}_1) >0\n",
    "\\end{equation}\n",
    "\n",
    "Where again $\\hat{R}_1 = K$ and translating it using our [parametrization](Parametrization.ipynb) we have :"
   ]
  },
  {
   "cell_type": "markdown",
   "metadata": {},
   "source": [
    "\\begin{equation}\n",
    "\\varphi_c(m_C,k_{RC},T_R,T_C,f_C,D_R,\\vartheta_R,\\vartheta_C) = \\frac{\\epsilon_1 \\alpha_{1_0} m_C^{p_v+2(D_R-1)p_d -1 } g_1(k_{RC},T_R,T_C,f_C,D_R,\\vartheta_R,\\vartheta_C) \\Phi(k_{RC})k_0 (k_{RC} m_C)^{-w+1}e^{E_K/k T_R}}{1 + h_{0,c}e^{E_C/kT_C}\\alpha_{1_0}m_C^{p_v+2(D_R-1)p_d -w} g_1(k_{RC},T_R,T_C,f_C,D_R,\\vartheta_R,\\vartheta_C) \\Phi(k_{RC})k_0 (k_{RC} m_C)^{-w+1}e^{E_K/k T_R}} -  q_{1_0} m_C^{w-1}e^{-E_{q_1}/k T_C} >0\n",
    "\\end{equation}\n",
    "\n",
    "For the same particular example as above we have:  \n",
    "\n",
    "\\begin{equation}\n",
    "\\varphi_c(m_C,k_{RC},T_R,T_C,D_R) = \\frac{\\epsilon_1 \\alpha_{1_0} m_C^{p_v+2(D_R-1)p_d -1 }  v_{0,C} e^{-E_C/k T_C} \\sqrt{ 1+ (\\frac{v_{0,R}}{v_{0,C}}) k_{RC}^{2p_v} \\Delta_{RC}^2} k_{RC}^{(D_R-1)p_d} \\Phi(k_{RC})k_0 (k_{RC} m_C)^{-w+1}e^{E_K/k T_R}}{1 + h_{0,c}e^{E_C/kT_C} \\alpha_{1_0} m_C^{p_v+2(D_R-1)p_d -w}  v_{0,C} e^{-E_C/k T_C} \\sqrt{ 1+ (\\frac{v_{0,R}}{v_{0,C}}) k_{RC}^{2p_v} \\Delta_{RC}^2} k_{RC}^{(D_R-1)p_d} \\Phi(k_{RC})k_0 (k_{RC} m_C)^{-w+1}e^{E_K/k T_R}}-  q_{1_0} m_C^{w-1}e^{-E_{q_1}/k T_C} >0\n",
    "\\end{equation}"
   ]
  },
  {
   "cell_type": "markdown",
   "metadata": {},
   "source": [
    "The conditions for **scenario 3** are similar, albeit replacing *C* for *R* in the above derivations"
   ]
  },
  {
   "cell_type": "markdown",
   "metadata": {},
   "source": [
    "#Scenario 4"
   ]
  },
  {
   "cell_type": "markdown",
   "metadata": {},
   "source": [
    "##Unstructured models"
   ]
  },
  {
   "cell_type": "markdown",
   "metadata": {},
   "source": [
    "###General model"
   ]
  },
  {
   "cell_type": "markdown",
   "metadata": {
    "collapsed": true
   },
   "source": [
    "Let:\n",
    "\\begin{equation}\n",
    "    \\Psi(R,C) := \\epsilon_2 G_p(R,C) + \\epsilon_3 H_p(R,C) - q_2\n",
    "\\end{equation}\n",
    "\n",
    "The invasibility condition now is:\n",
    "\n",
    "\\begin{equation}\n",
    "    \\begin{aligned}\n",
    "        &\\frac{dP}{dt}(\\hat{R}_2,\\hat{C}_2,P)  = P \\Psi(\\hat{R}_2,\\hat{C}_2) >0 \\iff \\\\\n",
    "        &\\Psi(\\hat{R}_2,\\hat{C}_2) > 0 \n",
    "    \\end{aligned}\n",
    "\\end{equation}"
   ]
  },
  {
   "cell_type": "markdown",
   "metadata": {},
   "source": [
    "Where we have that :   \n",
    "\\begin{equation}\n",
    "\\mathbf{N}:= (\\frac{dR}{dt},\\frac{dC}{dt},\\frac{dP}{dt}) , \\mathbf{N}(\\hat{R}_2,\\hat{C}_2,0) = 0 \n",
    "\\end{equation}"
   ]
  },
  {
   "cell_type": "markdown",
   "metadata": {},
   "source": [
    "More specifically :  \n",
    "\\begin{equation}\n",
    "    \\begin{aligned}\n",
    "        &F(\\hat{R}_2) - G_c(\\hat{R}_2)\\hat{C}_2 = 0 \\\\\n",
    "        &G_c(\\hat{R}_2) = \\frac{q_1}{\\epsilon_1}\n",
    "    \\end{aligned}\n",
    "\\end{equation}"
   ]
  },
  {
   "cell_type": "markdown",
   "metadata": {},
   "source": [
    "### Lotka-Volterra"
   ]
  },
  {
   "cell_type": "markdown",
   "metadata": {},
   "source": [
    "The condition is :\n",
    "\\begin{equation}\n",
    "    \\vartheta_p = \\epsilon_2 \\alpha_2 \\hat{R}_2 + \\epsilon_3 \\alpha_3 \\hat{C}_2 - q_2 >0 \n",
    "\\end{equation}\n"
   ]
  },
  {
   "cell_type": "markdown",
   "metadata": {},
   "source": [
    "Where : \n",
    "\\begin{equation}\n",
    "    \\begin{aligned}\n",
    "        \\hat{R}_2 &= \\frac{q_1}{e_1 \\alpha_1} \\\\\n",
    "        \\hat{C}_2 &= \\frac{r}{\\alpha_1}(1-\\frac{\\hat{R}_2}{K})\n",
    "    \\end{aligned}\n",
    "\\end{equation}\n",
    "       "
   ]
  },
  {
   "cell_type": "markdown",
   "metadata": {},
   "source": [
    "As before we could use our parametrization to convert both of the above expressions in relationships involving *size ratios* and *top predator body mass* , this won't be shown due to its length and because they involve simple replacements"
   ]
  },
  {
   "cell_type": "markdown",
   "metadata": {},
   "source": [
    "###Rosenzweig-MacArhtur"
   ]
  },
  {
   "cell_type": "markdown",
   "metadata": {},
   "source": [
    "Define\n",
    "\\begin{equation}\n",
    "    \\vartheta_p := \\epsilon_2 \\alpha_2 R_2 + \\epsilon_3 \\alpha_3 C_2 - q_2 (1+t_{h,p}m_P(\\alpha_2 R_2 + \\alpha_3 C_2))\n",
    "\\end{equation}\n",
    "The condition in this case is :\n",
    "\\begin{equation}\n",
    "    \\vartheta_p(\\hat{R}_2,\\hat{C}_2) > 0 \n",
    "\\end{equation}"
   ]
  },
  {
   "cell_type": "markdown",
   "metadata": {},
   "source": [
    "Where:\n",
    "\\begin{equation}\n",
    "    \\begin{aligned}\n",
    "        \\hat{R}_2 &= \\frac{q_1}{\\alpha_1 (\\epsilon_1 - t_{h,c} m_C q_1)} \\\\\n",
    "        \\hat{C}_2 &= \\frac{\\epsilon_1 r \\hat{R}_2}{q_1}(1-\\frac{\\hat{R}_2}{K})\n",
    "    \\end{aligned}\n",
    "\\end{equation}"
   ]
  },
  {
   "cell_type": "markdown",
   "metadata": {},
   "source": [
    "We also show [here](Proofs.ipynb#Proposion-2) that the condition for $\\hat{R}_2$ to become $\\infty$ is not dependent on any of the parameters that we are interested( $k_{RC},k_{CP},m_P$) therefore $\\vartheta_p$ is *continuous* with respect to them in the domain of variation we are focused(e.g $k_{RC} > 0,m_P >0$)."
   ]
  },
  {
   "cell_type": "markdown",
   "metadata": {},
   "source": [
    "#Scenario 5"
   ]
  },
  {
   "cell_type": "markdown",
   "metadata": {},
   "source": [
    "##Unstructured models"
   ]
  },
  {
   "cell_type": "markdown",
   "metadata": {},
   "source": [
    "###General model"
   ]
  },
  {
   "cell_type": "markdown",
   "metadata": {},
   "source": [
    "Define:\n",
    "\\begin{equation}\n",
    "    \\vartheta_c := \\epsilon_1 G_c(R)  - T(R) P - q_1\n",
    "\\end{equation}\n",
    "Assuming \n",
    "\\begin{equation}\n",
    "    \\begin{aligned}\n",
    "        H_p(R,C) &= C J_p(R,C) \\\\\n",
    "        J_p(R,C) &\\ continuous \\\\\n",
    "        J_p(R,0) &= T(R) , exists \\\\\n",
    "        J_p(R,C) &\\approx T(R) ,if \\ C \\approx 0\n",
    "    \\end{aligned}\n",
    "\\end{equation}\n",
    "\n",
    "The condition becomes:\n",
    "\n",
    "\\begin{equation}\n",
    "    \\vartheta_c(\\hat{R}_3,\\hat{P}_3) > 0\n",
    "\\end{equation}\n",
    "Where:\n",
    "\n",
    "\\begin{equation}\n",
    "    \\begin{aligned}\n",
    "        &G_p(\\hat{R}_3) = \\frac{q_2}{\\epsilon_2} \\\\\n",
    "        &\\hat{P}_3 = \\frac{F(\\hat{R}_3)}{G_p(\\hat{R}_3,0)}\n",
    "    \\end{aligned}\n",
    "\\end{equation}\n",
    "\n"
   ]
  },
  {
   "cell_type": "markdown",
   "metadata": {},
   "source": [
    "###Lotka-Volterra"
   ]
  },
  {
   "cell_type": "markdown",
   "metadata": {},
   "source": [
    "Define :\n",
    "\\begin{equation}\n",
    "    \\vartheta_c := \\epsilon_1 \\alpha_1 R - \\alpha_3 P - q_1\n",
    "\\end{equation}\n",
    "The condition is :\n",
    "\\begin{equation}\n",
    "    \\vartheta_c(\\hat{R}_3,\\hat{P}_3) >0\n",
    "\\end{equation}"
   ]
  },
  {
   "cell_type": "markdown",
   "metadata": {},
   "source": [
    "where:\n",
    "\\begin{equation}\n",
    "    \\begin{aligned}\n",
    "        \\hat{R}_3 &= \\frac{q_2}{\\epsilon_2 \\alpha_2} \\\\\n",
    "        \\hat{P}_3 &= \\frac{r}{\\alpha_2}(1-\\frac{\\hat{R}_2}{K})\n",
    "    \\end{aligned}\n",
    "\\end{equation}"
   ]
  },
  {
   "cell_type": "markdown",
   "metadata": {},
   "source": [
    "###Rosenzweig-MacArthur"
   ]
  },
  {
   "cell_type": "markdown",
   "metadata": {},
   "source": [
    "Define :\n",
    "\\begin{equation}\n",
    "    \\vartheta_c := \\epsilon_1 \\alpha_1 R (1 + t_{h,p}m_P \\alpha_2 R) - (\\alpha_3 P (1+t_{h,c}m_C\\alpha_1 R) + q_1(1+t_{h,c}m_C\\alpha_1 R)(1 + t_{h,p}m_P \\alpha_2 R))\n",
    "\\end{equation}\n",
    "\n",
    "The condition now is:\n",
    "\\begin{equation}\n",
    "    \\vartheta_c(\\hat{R}_3,\\hat{P}_3) >0 \n",
    "\\end{equation}\n",
    "    "
   ]
  },
  {
   "cell_type": "markdown",
   "metadata": {},
   "source": [
    "where:\n",
    "\\begin{equation}\n",
    "    \\begin{aligned}\n",
    "        \\hat{R}_3 &= \\frac{q_2}{\\alpha_2(\\epsilon_2  - t_{h,p}m_P q_2)}\\\\\n",
    "        \\hat{P}_3 &= \\frac{\\epsilon_2 r \\hat{R}_3}{q_2} (1 - \\frac{\\hat{R}_3}{K})\n",
    "    \\end{aligned}\n",
    "\\end{equation}"
   ]
  }
 ],
 "metadata": {
  "kernelspec": {
   "display_name": "IPython (Python 2)",
   "name": "python2"
  },
  "language_info": {
   "codemirror_mode": {
    "name": "ipython",
    "version": 2
   },
   "file_extension": ".py",
   "mimetype": "text/x-python",
   "name": "python",
   "nbconvert_exporter": "python",
   "pygments_lexer": "ipython2",
   "version": "2.7.9"
  }
 },
 "nbformat": 4,
 "nbformat_minor": 0
}