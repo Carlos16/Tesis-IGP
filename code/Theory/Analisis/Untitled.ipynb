{
 "cells": [
  {
   "cell_type": "code",
   "execution_count": 1,
   "metadata": {
    "collapsed": true
   },
   "outputs": [],
   "source": [
    "import matplotlib.pyplot as plt\n",
    "%matplotlib inline"
   ]
  },
  {
   "cell_type": "code",
   "execution_count": 4,
   "metadata": {
    "collapsed": false
   },
   "outputs": [
    {
     "data": {
      "text/plain": [
       "([[3, 2], [5, 4.5]], [[2, 1], [4, 4]], [[1, 2], [1, 2]])"
      ]
     },
     "execution_count": 4,
     "metadata": {},
     "output_type": "execute_result"
    }
   ],
   "source": [
    "A  = [[(2,3),(4,5)],[(1,2),(4,4.5)]]\n",
    "A  = [[(2,3),(4,5)],[(1,2),(4,4.5)]]\n",
    "RME.ExtractPoints((1,2),GetUnion(A,A,0,10))"
   ]
  },
  {
   "cell_type": "code",
   "execution_count": 2,
   "metadata": {
    "collapsed": false
   },
   "outputs": [],
   "source": [
    "from ExploreParamsProgram import *"
   ]
  },
  {
   "cell_type": "code",
   "execution_count": 2,
   "metadata": {
    "collapsed": false
   },
   "outputs": [
    {
     "name": "stdout",
     "output_type": "stream",
     "text": [
      "Automatic pdb calling has been turned ON\n"
     ]
    }
   ],
   "source": [
    "%pdb"
   ]
  },
  {
   "cell_type": "code",
   "execution_count": 10,
   "metadata": {
    "collapsed": false
   },
   "outputs": [
    {
     "data": {
      "image/png": "[encoded data removed]",
      "text/plain": [
       "<matplotlib.figure.Figure at 0xbcf3358>"
      ]
     },
     "metadata": {},
     "output_type": "display_data"
    }
   ],
   "source": [
    "import numpy as np\n",
    "\n",
    "def Pi(k,phi):\n",
    "    return 1/(1+ k**phi)\n",
    "a = np.arange(-13,6,0.01)\n",
    "\n",
    "fig,axes = plt.subplots()\n",
    "\n",
    "axes.plot(a,Pi(10**a,0.02))\n",
    "axes.plot(a,Pi(10**a,0.2))\n",
    "axes.plot(a,Pi(10**a,2))\n",
    "\n",
    "axes.set_ylim([0,1])\n",
    "axes.set_xlim([-13,6])\n",
    "axes.set_yticks([0,1])\n",
    "axes.set_ylabel(r'$\\Pi$')\n",
    "axes.set_xlabel(r'$\\log_{10}(k_{ij})$')\n",
    "\n",
    "plt.savefig('CaptureEfficiency.pdf')"
   ]
  },
  {
   "cell_type": "code",
   "execution_count": 3,
   "metadata": {
    "collapsed": false
   },
   "outputs": [],
   "source": [
    "from ReadData import *"
   ]
  },
  {
   "cell_type": "code",
   "execution_count": 4,
   "metadata": {
    "collapsed": false
   },
   "outputs": [],
   "source": [
    "P2 = InputWidthData('C:/Users/Carlos/Documents/Tesis-IGP/Data/VariantSR/WidthsLVfmPCActiveb2e-01D_R3DfmPRGrazingk03e+02D_C3De13e-01fmCGrazinge35e-01e21e-01massP1e-10.csv')\n",
    "P2 = P2.Read(',')\n",
    "P2.formatData()"
   ]
  },
  {
   "cell_type": "code",
   "execution_count": 52,
   "metadata": {
    "collapsed": false
   },
   "outputs": [],
   "source": [
    "B = np.linspace(P2.xFocus[0],P2.xFocus[1],301)"
   ]
  },
  {
   "cell_type": "code",
   "execution_count": 51,
   "metadata": {
    "collapsed": false
   },
   "outputs": [
    {
     "data": {
      "text/plain": [
       "10"
      ]
     },
     "execution_count": 51,
     "metadata": {},
     "output_type": "execute_result"
    }
   ],
   "source": [
    "len(np.arange(1,3,2./10))"
   ]
  },
  {
   "cell_type": "code",
   "execution_count": 29,
   "metadata": {
    "collapsed": false
   },
   "outputs": [],
   "source": [
    "A = setXRange([-13,7],P2.xFocus,P2.xFSep,0.005)"
   ]
  },
  {
   "cell_type": "code",
   "execution_count": 46,
   "metadata": {
    "collapsed": false
   },
   "outputs": [],
   "source": [
    "A1 = np.arange(-13,P2.xFocus[0],0.005)\n",
    "A3 = np.arange(P2.xFocus[1]+0.005,7,0.005)"
   ]
  },
  {
   "cell_type": "code",
   "execution_count": 47,
   "metadata": {
    "collapsed": false
   },
   "outputs": [
    {
     "data": {
      "text/plain": [
       "4001"
      ]
     },
     "execution_count": 47,
     "metadata": {},
     "output_type": "execute_result"
    }
   ],
   "source": [
    "len(A1) +len(A3)"
   ]
  },
  {
   "cell_type": "code",
   "execution_count": null,
   "metadata": {
    "collapsed": true
   },
   "outputs": [],
   "source": []
  },
  {
   "cell_type": "code",
   "execution_count": 6,
   "metadata": {
    "collapsed": false
   },
   "outputs": [
    {
     "data": {
      "image/png": "[encoded data removed]",
      "text/plain": [
       "<matplotlib.figure.Figure at 0xb450320>"
      ]
     },
     "metadata": {},
     "output_type": "display_data"
    }
   ],
   "source": [
    "fig,axes = plt.subplots()\n",
    "P2.PlotScenario(axes,'PotentialStableCoexistence',[-13,7],0.005,'--','r','')\n",
    "P2.PlotScenario(axes,'StableCoexistence',[-13,7],0.005,'--','b','')"
   ]
  },
  {
   "cell_type": "code",
   "execution_count": 35,
   "metadata": {
    "collapsed": false
   },
   "outputs": [
    {
     "ename": "IndexError",
     "evalue": "list index out of range",
     "output_type": "error",
     "traceback": [
      "\u001b[1;31m---------------------------------------------------------------------------\u001b[0m",
      "\u001b[1;31mIndexError\u001b[0m                                Traceback (most recent call last)",
      "\u001b[1;32m<ipython-input-35-e00eec62aca3>\u001b[0m in \u001b[0;36m<module>\u001b[1;34m()\u001b[0m\n\u001b[0;32m     12\u001b[0m     \u001b[1;32mreturn\u001b[0m \u001b[0mS\u001b[0m\u001b[1;33m\u001b[0m\u001b[0m\n\u001b[0;32m     13\u001b[0m \u001b[1;33m\u001b[0m\u001b[0m\n\u001b[1;32m---> 14\u001b[1;33m \u001b[0mG\u001b[0m \u001b[1;33m=\u001b[0m \u001b[0mGetWidths\u001b[0m\u001b[1;33m(\u001b[0m\u001b[0mP2\u001b[0m\u001b[1;33m.\u001b[0m\u001b[0mformated_data\u001b[0m\u001b[1;33m[\u001b[0m\u001b[1;34m'Z(IC5)'\u001b[0m\u001b[1;33m]\u001b[0m\u001b[1;33m[\u001b[0m\u001b[1;34m'y'\u001b[0m\u001b[1;33m]\u001b[0m\u001b[1;33m)\u001b[0m\u001b[1;33m\u001b[0m\u001b[0m\n\u001b[0m\u001b[0;32m     15\u001b[0m \u001b[1;33m\u001b[0m\u001b[0m\n",
      "\u001b[1;32m<ipython-input-35-e00eec62aca3>\u001b[0m in \u001b[0;36mGetWidths\u001b[1;34m(BoundaryPoints)\u001b[0m\n\u001b[0;32m      2\u001b[0m     \u001b[0mW\u001b[0m \u001b[1;33m=\u001b[0m \u001b[1;33m[\u001b[0m\u001b[1;33m]\u001b[0m\u001b[1;33m\u001b[0m\u001b[0m\n\u001b[0;32m      3\u001b[0m     \u001b[1;32mfor\u001b[0m \u001b[0mi\u001b[0m \u001b[1;32min\u001b[0m \u001b[0mrange\u001b[0m\u001b[1;33m(\u001b[0m\u001b[0mlen\u001b[0m\u001b[1;33m(\u001b[0m\u001b[0mBoundaryPoints\u001b[0m\u001b[1;33m[\u001b[0m\u001b[1;36m0\u001b[0m\u001b[1;33m]\u001b[0m\u001b[1;33m)\u001b[0m\u001b[1;33m)\u001b[0m\u001b[1;33m:\u001b[0m\u001b[1;33m\u001b[0m\u001b[0m\n\u001b[1;32m----> 4\u001b[1;33m         \u001b[0mW\u001b[0m\u001b[1;33m.\u001b[0m\u001b[0mappend\u001b[0m\u001b[1;33m(\u001b[0m\u001b[0mSumWidth\u001b[0m\u001b[1;33m(\u001b[0m\u001b[0mBoundaryPoints\u001b[0m\u001b[1;33m,\u001b[0m\u001b[0mi\u001b[0m\u001b[1;33m)\u001b[0m\u001b[1;33m)\u001b[0m\u001b[1;33m\u001b[0m\u001b[0m\n\u001b[0m\u001b[0;32m      5\u001b[0m     \u001b[1;32mreturn\u001b[0m \u001b[0mW\u001b[0m\u001b[1;33m\u001b[0m\u001b[0m\n\u001b[0;32m      6\u001b[0m \u001b[1;33m\u001b[0m\u001b[0m\n",
      "\u001b[1;32m<ipython-input-35-e00eec62aca3>\u001b[0m in \u001b[0;36mSumWidth\u001b[1;34m(BoundaryPoints, i)\u001b[0m\n\u001b[0;32m      8\u001b[0m     \u001b[0mS\u001b[0m \u001b[1;33m=\u001b[0m \u001b[1;36m0\u001b[0m\u001b[1;33m\u001b[0m\u001b[0m\n\u001b[0;32m      9\u001b[0m     \u001b[1;32mfor\u001b[0m \u001b[0mj\u001b[0m \u001b[1;32min\u001b[0m \u001b[0mrange\u001b[0m\u001b[1;33m(\u001b[0m\u001b[1;36m0\u001b[0m\u001b[1;33m,\u001b[0m\u001b[0mlen\u001b[0m\u001b[1;33m(\u001b[0m\u001b[0mBoundaryPoints\u001b[0m\u001b[1;33m)\u001b[0m\u001b[1;33m,\u001b[0m\u001b[1;36m2\u001b[0m\u001b[1;33m)\u001b[0m\u001b[1;33m:\u001b[0m\u001b[1;33m\u001b[0m\u001b[0m\n\u001b[1;32m---> 10\u001b[1;33m         \u001b[0mS\u001b[0m \u001b[1;33m+=\u001b[0m \u001b[1;33m(\u001b[0m\u001b[0mBoundaryPoints\u001b[0m\u001b[1;33m[\u001b[0m\u001b[0mj\u001b[0m\u001b[1;33m+\u001b[0m\u001b[1;36m1\u001b[0m\u001b[1;33m]\u001b[0m\u001b[1;33m[\u001b[0m\u001b[0mi\u001b[0m\u001b[1;33m]\u001b[0m   \u001b[1;33m-\u001b[0m \u001b[0mBoundaryPoints\u001b[0m\u001b[1;33m[\u001b[0m\u001b[0mj\u001b[0m\u001b[1;33m]\u001b[0m\u001b[1;33m[\u001b[0m\u001b[0mi\u001b[0m\u001b[1;33m]\u001b[0m \u001b[1;33m)\u001b[0m\u001b[1;33m\u001b[0m\u001b[0m\n\u001b[0m\u001b[0;32m     11\u001b[0m \u001b[1;33m\u001b[0m\u001b[0m\n\u001b[0;32m     12\u001b[0m     \u001b[1;32mreturn\u001b[0m \u001b[0mS\u001b[0m\u001b[1;33m\u001b[0m\u001b[0m\n",
      "\u001b[1;31mIndexError\u001b[0m: list index out of range"
     ]
    }
   ],
   "source": [
    "def GetWidths(BoundaryPoints):\n",
    "    W = []\n",
    "    for i in range(len(BoundaryPoints[0])):\n",
    "        W.append(SumWidth(BoundaryPoints,i))\n",
    "    return W\n",
    "\n",
    "def SumWidth(BoundaryPoints,i):\n",
    "    S = 0\n",
    "    for j in range(0,len(BoundaryPoints),2):\n",
    "        S += (BoundaryPoints[j+1][i]   - BoundaryPoints[j][i] )\n",
    "        \n",
    "    return S\n",
    "\n",
    "G = GetWidths(P2.formated_data['Z(IC5)']['y'])\n",
    "        "
   ]
  },
  {
   "cell_type": "code",
   "execution_count": 42,
   "metadata": {
    "collapsed": false
   },
   "outputs": [
    {
     "data": {
      "text/plain": [
       "10.000000000050392"
      ]
     },
     "execution_count": 42,
     "metadata": {},
     "output_type": "execute_result"
    }
   ],
   "source": [
    "P2.formated_data['Z(IC5)']['x'][3][0]"
   ]
  },
  {
   "cell_type": "code",
   "execution_count": 30,
   "metadata": {
    "collapsed": false
   },
   "outputs": [
    {
     "data": {
      "text/plain": [
       "14.417822211436988"
      ]
     },
     "execution_count": 30,
     "metadata": {},
     "output_type": "execute_result"
    }
   ],
   "source": [
    "G[6]"
   ]
  },
  {
   "cell_type": "code",
   "execution_count": 34,
   "metadata": {
    "collapsed": false
   },
   "outputs": [
    {
     "data": {
      "text/plain": [
       "[<matplotlib.lines.Line2D at 0x46ccf98>]"
      ]
     },
     "execution_count": 34,
     "metadata": {},
     "output_type": "execute_result"
    },
    {
     "data": {
      "image/png": "[encoded data removed]",
      "text/plain": [
       "<matplotlib.figure.Figure at 0xc565630>"
      ]
     },
     "metadata": {},
     "output_type": "display_data"
    }
   ],
   "source": [
    "plt.plot(np.log10(P2.formated_data['Z(IC5)']['x'][0]),G)"
   ]
  },
  {
   "cell_type": "code",
   "execution_count": 37,
   "metadata": {
    "collapsed": false
   },
   "outputs": [],
   "source": [
    "\n",
    "def F(x):\n",
    "    if x<=1.5:\n",
    "        return (x,x)\n",
    "    elif x>1.5 and x <=1.6:\n",
    "        return (-10*(x-1.5) + 1.5 ,10*(0.3)*(x-1.5) + 1.5)\n",
    "    elif x>1.6 and x<=2:\n",
    "        return (1.25*(x-1.6) + 0.5,0.5*(x-1.6) + 1.8)\n",
    "    else:\n",
    "        return (1.5-(1./x),1.5+(1./x))\n",
    "\n",
    "    \n",
    "A = np.arange(0+1e-5,1.51,0.01)\n",
    "B = np.arange(1.5+1e-5,1.601,0.001)\n",
    "C = np.arange(1.6+1e-5,2.001,0.001)\n",
    "D = np.arange(2+1e-5,1e3,0.1)\n",
    "\n",
    "\n",
    "FA = [F(x) for x in A]\n",
    "FB = [F(x) for x in B]\n",
    "FC = [F(x) for x in C]\n",
    "FD = [F(x) for x in D]\n",
    "\n",
    "\n",
    "#plt.plot(FA,'r')\n",
    "#plt.plot(FB,'r')\n",
    "#plt.plot(FC,'b')\n"
   ]
  },
  {
   "cell_type": "code",
   "execution_count": 46,
   "metadata": {
    "collapsed": false
   },
   "outputs": [
    {
     "data": {
      "image/png": "[encoded data removed]",
      "text/plain": [
       "<matplotlib.figure.Figure at 0x51101470>"
      ]
     },
     "metadata": {},
     "output_type": "display_data"
    }
   ],
   "source": [
    "XA = [x[0] for x in FA]\n",
    "YA = [x[1] for x in FA]\n",
    "XB = [x[0] for x in FB]\n",
    "YB = [x[1] for x in FB]\n",
    "XC = [x[0] for x in FC]\n",
    "YC = [x[1] for x in FC]\n",
    "XD = [x[0] for x in FD]\n",
    "YD = [x[1] for x in FD]\n",
    "\n",
    "fig,axes = plt.subplots()\n",
    "\n",
    "axes.plot(XA,YA,'b')\n",
    "axes.plot(F(2)[0],F(2)[1],'o')\n",
    "axes.plot(F(1.5)[0],F(1.5)[1],'o')\n",
    "axes.plot(F(1.6)[0],F(1.6)[1],'o')\n",
    "\n",
    "axes.plot(XB,YB,'y')\n",
    "axes.plot(XC,YC,'g')\n",
    "axes.plot(XD,YD,'r')\n",
    "#plt.plot(XC,YC,'r')\n",
    "axes.set_ylim([0.,2.1])\n",
    "\n",
    "axes.set_ylabel('y')\n",
    "axes.set_xlabel('x')\n",
    "\n",
    "plt.savefig('C:/Users/Carlos/Documents/Mathematics/Universidad/Analysis/RealII/Practica4/PlotCounterExample.pdf')"
   ]
  },
  {
   "cell_type": "code",
   "execution_count": 3,
   "metadata": {
    "collapsed": true
   },
   "outputs": [],
   "source": [
    "DirInv = 'c:/Users/Carlos/Documents/Thesis/Tesis/modules/InvPrueba.csv'\n",
    "DirZB = 'c:/Users/Carlos/Documents/Thesis/Tesis/modules/ZBPrueba.csv'\n",
    "DirW = 'c:/Users/Carlos/Documents/Thesis/Tesis/modules/WidthsPrueba.csv'\n"
   ]
  },
  {
   "cell_type": "code",
   "execution_count": 4,
   "metadata": {
    "collapsed": false
   },
   "outputs": [
    {
     "name": "stdout",
     "output_type": "stream",
     "text": [
      "Automatic pdb calling has been turned ON\n"
     ]
    }
   ],
   "source": [
    "%pdb"
   ]
  },
  {
   "cell_type": "code",
   "execution_count": 7,
   "metadata": {
    "collapsed": false
   },
   "outputs": [],
   "source": [
    "params2['massP'] = 1e05\n",
    "Prueba = BSR(params2,'LV',[-13,7],False)\n",
    "Prueba.getandSetxFocus(300,5e-4)\n",
    "Prueba.setfDict()\n",
    "HeaderInv = ['Inv C2','Inv P3','Inv P4','Inv C5']\n",
    "Inv  = InvBoundaries(Prueba)\n",
    "Inv.setUpGuess(13)\n",
    "Inv.setAndWriteInvBoundaries(HeaderInv,DirInv) \n",
    "Inv.setPositiveBoundaries()\n",
    "Inv.setAndWriteWidthsZones(DirW,DirZB)\n"
   ]
  },
  {
   "cell_type": "code",
   "execution_count": 6,
   "metadata": {
    "collapsed": true
   },
   "outputs": [],
   "source": [
    "params2={'w':0.75,'pd':0.2,'pv':0.26,'Er':0.,'Ek':0.,'ER':0.,\n",
    "        'EC':0.,'EP':0.,'Eq1':0.,'Eq2':0.,'TR':300.,'TC':300,\n",
    "        'TP':300.,'D_R':3.,'D_C':3.,'fmC':'Grazing','thermyR':'Ecto',\n",
    "         'thermyC':'Ecto','thermyP':'Ecto','fmPC':'Active','fmPR':'Grazing','k0':3.,'r0':1.71e-6,'a012':10**(-1.77),\n",
    "         'a03':10**(-1.77),'d0':3.,'q10':4.15e-8,'q20':4.15e-8,'v0R':1.,'v0C':1,'v0P':1,'k':b_k,'e1':0.3,'e2':0.1,'e3':0.5,\n",
    "        'hC0':1.,'hP0':1.,'formPC':2,'formPR':2,'formC':2,'a':1.,'b':0.2,'c':0}\n"
   ]
  },
  {
   "cell_type": "code",
   "execution_count": 8,
   "metadata": {
    "collapsed": false
   },
   "outputs": [],
   "source": [
    "Comb2= Comb[-26:]"
   ]
  },
  {
   "cell_type": "code",
   "execution_count": 9,
   "metadata": {
    "collapsed": false
   },
   "outputs": [
    {
     "data": {
      "text/plain": [
       "26"
      ]
     },
     "execution_count": 9,
     "metadata": {},
     "output_type": "execute_result"
    }
   ],
   "source": []
  },
  {
   "cell_type": "code",
   "execution_count": 19,
   "metadata": {
    "collapsed": true
   },
   "outputs": [],
   "source": [
    "L=Inv.Intersections['UnstableCoexistence'][550]+Inv.Intersections['PotentialStableCoexistence'][550]"
   ]
  },
  {
   "cell_type": "code",
   "execution_count": 22,
   "metadata": {
    "collapsed": false
   },
   "outputs": [],
   "source": [
    "def FindUnion(BP1,BP2,Min,Max):\n",
    "    if len(BP1[0])==1 and len(BP2[0]) == 1:\n",
    "        return [(0,)]\n",
    "    else:\n",
    "        if len(BP1[0]) >1 :\n",
    "            Int = FindIntersection(BP1,BP2)\n",
    "        else:\n",
    "            Int = [(0,)]\n",
    "\n",
    "        if len(Int[0])>1:\n",
    "\n",
    "            CompInt = getCompPoints(Int,Min,Max)\n",
    "            A1 = FindIntersection(CompInt,BP1)\n",
    "            A2 = FindIntersection(CompInt,BP2)\n",
    "            \n",
    "            U = FormatUnionSet(sorted(A1+A2+Int))\n",
    "                \n",
    "        else:\n",
    "            if len(BP1[0])>1 and len(BP2[0])>1:\n",
    "                U = FormatUnionSet(sorted(BP1+BP2))\n",
    "            elif len(BP1[0])==1:\n",
    "                U = BP2\n",
    "            else:\n",
    "                U = BP1\n",
    "                        \n",
    "        return U"
   ]
  },
  {
   "cell_type": "code",
   "execution_count": 17,
   "metadata": {
    "collapsed": false
   },
   "outputs": [
    {
     "data": {
      "text/plain": [
       "[(0,)]"
      ]
     },
     "execution_count": 17,
     "metadata": {},
     "output_type": "execute_result"
    }
   ],
   "source": [
    "Inv.Intersections['UnstableCoexistence'][550]"
   ]
  },
  {
   "cell_type": "code",
   "execution_count": 15,
   "metadata": {
    "collapsed": false
   },
   "outputs": [
    {
     "data": {
      "text/plain": [
       "[(-3.5226037651906168, -1.732485156016079),\n",
       " (0.62516580753868511, 1.1944293315099046)]"
      ]
     },
     "execution_count": 15,
     "metadata": {},
     "output_type": "execute_result"
    }
   ],
   "source": [
    "Inv.Intersections['PotentialStableCoexistence'][550]"
   ]
  },
  {
   "cell_type": "code",
   "execution_count": 23,
   "metadata": {
    "collapsed": false
   },
   "outputs": [
    {
     "data": {
      "text/plain": [
       "[(-3.5226037651906168, -1.732485156016079),\n",
       " (0.62516580753868511, 1.1944293315099046)]"
      ]
     },
     "execution_count": 23,
     "metadata": {},
     "output_type": "execute_result"
    }
   ],
   "source": [
    "FindUnion(Inv.Intersections['UnstableCoexistence'][550],Inv.Intersections['PotentialStableCoexistence'][550],-13,8)"
   ]
  },
  {
   "cell_type": "code",
   "execution_count": null,
   "metadata": {
    "collapsed": true
   },
   "outputs": [],
   "source": []
  },
  {
   "cell_type": "code",
   "execution_count": 2,
   "metadata": {
    "collapsed": false
   },
   "outputs": [],
   "source": [
    "def ConstructSearchRange(GuessRangePoints,sep):\n",
    "    A =[]\n",
    "    if len(GuessRangePoints[0]) > 1:\n",
    "        for i in range(0,len(GuessRangePoints)):\n",
    "            A.append(np.arange(GuessRangePoints[i][0],GuessRangePoints[i][1]+sep,sep))\n",
    "    \n",
    "        return np.concatenate(A)\n",
    "    else:\n",
    "        return A\n",
    "A = ConstructSearchRange([(1,3),(4,5)],0.05)"
   ]
  },
  {
   "cell_type": "code",
   "execution_count": null,
   "metadata": {
    "collapsed": true
   },
   "outputs": [],
   "source": [
    "yrange = np.arange(0,1.5,0.01)\n",
    "zrange = np.arange(0,1.5,0.01)\n",
    "Y,Z = np.meshgrid(yrange,zrange)\n",
    "R,C,P= Assembly.getIsoclines(Y,Z)"
   ]
  },
  {
   "cell_type": "code",
   "execution_count": 52,
   "metadata": {
    "collapsed": false
   },
   "outputs": [
    {
     "name": "stdout",
     "output_type": "stream",
     "text": [
      "Using matplotlib backend: TkAgg\n"
     ]
    }
   ],
   "source": [
    "%matplotlib"
   ]
  },
  {
   "cell_type": "code",
   "execution_count": 56,
   "metadata": {
    "collapsed": false
   },
   "outputs": [
    {
     "name": "stdout",
     "output_type": "stream",
     "text": [
      "Warning: Cannot change to a different GUI toolkit: qt. Using tk instead.\n",
      "Populating the interactive namespace from numpy and matplotlib\n"
     ]
    },
    {
     "name": "stderr",
     "output_type": "stream",
     "text": [
      "WARNING: pylab import has clobbered these variables: ['axes']\n",
      "`%matplotlib` prevents importing * from pylab and numpy\n"
     ]
    }
   ],
   "source": [
    "%pylab qt\n",
    "from mpl_toolkits.mplot3d import Axes3D\n",
    "import matplotlib.pyplot as plt\n",
    "fig = plt.figure()\n",
    "axes = fig.add_subplot(111, projection='3d')\n",
    "\n",
    "#axes.plot_wireframe(R,Y,Z,rstride=50,cstride=50,color='red')\n",
    "#axes.plot_wireframe(C,Y,Z,rstride=50,cstride=50,color='green')\n",
    "#axes.plot_wireframe(P,Y,Z,rstride =50,cstride=50)\n",
    "\n",
    "axes.plot(x,y,z,color='k',linewidth=1)\n",
    "\n",
    "axes.set_xlabel('x')\n",
    "axes.set_ylabel('y')\n",
    "axes.set_zlabel('z')\n",
    "\n",
    "plt.show()"
   ]
  },
  {
   "cell_type": "code",
   "execution_count": null,
   "metadata": {
    "collapsed": true
   },
   "outputs": [],
   "source": []
  },
  {
   "cell_type": "code",
   "execution_count": 35,
   "metadata": {
    "collapsed": false
   },
   "outputs": [],
   "source": [
    "K = Assembly.getEqScenario(2)+np.array([0.,0.,1e-6])\n",
    "Assembly.setinitCondition(K)\n",
    "F,r = Assembly.Simulate2(integrator='dopri5',N=1000000)"
   ]
  },
  {
   "cell_type": "code",
   "execution_count": 21,
   "metadata": {
    "collapsed": false
   },
   "outputs": [
    {
     "data": {
      "text/plain": [
       "True"
      ]
     },
     "execution_count": 21,
     "metadata": {},
     "output_type": "execute_result"
    }
   ],
   "source": [
    "r.successful()"
   ]
  },
  {
   "cell_type": "code",
   "execution_count": 43,
   "metadata": {
    "collapsed": false
   },
   "outputs": [
    {
     "data": {
      "text/plain": [
       "array([  1.43693548e-97,   9.39433517e-35,   6.27661168e-09])"
      ]
     },
     "execution_count": 43,
     "metadata": {},
     "output_type": "execute_result"
    }
   ],
   "source": []
  },
  {
   "cell_type": "code",
   "execution_count": 41,
   "metadata": {
    "collapsed": false
   },
   "outputs": [
    {
     "data": {
      "image/png": "[encoded data removed]",
      "text/plain": [
       "<matplotlib.figure.Figure at 0x280a1198>"
      ]
     },
     "metadata": {},
     "output_type": "display_data"
    }
   ],
   "source": [
    "t = np.arange(0,1e4,0.1)\n",
    "plt.plot(t,F[:len(t)])\n",
    "plt.show()"
   ]
  },
  {
   "cell_type": "code",
   "execution_count": 44,
   "metadata": {
    "collapsed": false
   },
   "outputs": [],
   "source": [
    "x = np.array([U[0] for U in F])\n",
    "y = np.array([U[1] for U in F])\n",
    "z = np.array([U[2] for U in F])"
   ]
  },
  {
   "cell_type": "code",
   "execution_count": 7,
   "metadata": {
    "collapsed": true
   },
   "outputs": [],
   "source": [
    "params2['b']=0.02"
   ]
  },
  {
   "cell_type": "code",
   "execution_count": 13,
   "metadata": {
    "collapsed": false
   },
   "outputs": [
    {
     "data": {
      "text/plain": [
       "{'D_C': 2.0,\n",
       " 'D_R': 2.0,\n",
       " 'EC': 0.0,\n",
       " 'EP': 0.0,\n",
       " 'ER': 0.0,\n",
       " 'Ek': 0.0,\n",
       " 'Eq1': 0.0,\n",
       " 'Eq2': 0.0,\n",
       " 'Er': 0.0,\n",
       " 'TC': 300,\n",
       " 'TP': 300.0,\n",
       " 'TR': 300.0,\n",
       " 'a': 1.0,\n",
       " 'a012': 0.0008317637711026709,\n",
       " 'a03': 0.0008317637711026709,\n",
       " 'b': 0.02,\n",
       " 'c': 0,\n",
       " 'd0': 3.0,\n",
       " 'e1': 0.3,\n",
       " 'e2': 0.1,\n",
       " 'e3': 0.5,\n",
       " 'fmC': 'Grazing',\n",
       " 'fmPC': 'Active',\n",
       " 'fmPR': 'Grazing',\n",
       " 'formC': 2,\n",
       " 'formPC': 2,\n",
       " 'formPR': 2,\n",
       " 'hC0': 1.0,\n",
       " 'hP0': 1.0,\n",
       " 'k': 8.617332400000001e-05,\n",
       " 'k0': 1.0,\n",
       " 'pd': 0.21,\n",
       " 'pv': 0.26,\n",
       " 'q10': 4.15e-08,\n",
       " 'q20': 4.15e-08,\n",
       " 'r0': 1.71e-06,\n",
       " 'thermyC': 'Ecto',\n",
       " 'thermyP': 'Ecto',\n",
       " 'thermyR': 'Ecto',\n",
       " 'v0C': 1,\n",
       " 'v0P': 1,\n",
       " 'v0R': 1.0,\n",
       " 'w': 0.75}"
      ]
     },
     "execution_count": 13,
     "metadata": {},
     "output_type": "execute_result"
    }
   ],
   "source": [
    "params1"
   ]
  },
  {
   "cell_type": "code",
   "execution_count": 3,
   "metadata": {
    "collapsed": false
   },
   "outputs": [],
   "source": [
    "Prueba = BSR(params2,'LV',[-10,5],False)\n",
    "Prueba.setfDict()"
   ]
  },
  {
   "cell_type": "code",
   "execution_count": 4,
   "metadata": {
    "collapsed": false
   },
   "outputs": [],
   "source": [
    "Assembly = Dynamics(Prueba,0,1e5,0.1,10**(2.5),10**(0.2),1e-10,initMass = 1e-5)\n",
    "#F = Assembly.BifurcationLV('K_CP',10**np.arange(-13,6,0.1),'Cfirst',N=10)"
   ]
  },
  {
   "cell_type": "code",
   "execution_count": 6,
   "metadata": {
    "collapsed": false
   },
   "outputs": [],
   "source": [
    "run2,r = Assembly.Simulate2(N=5)"
   ]
  },
  {
   "cell_type": "code",
   "execution_count": 14,
   "metadata": {
    "collapsed": true
   },
   "outputs": [],
   "source": [
    "from scipy.integrate import ode"
   ]
  },
  {
   "cell_type": "code",
   "execution_count": 17,
   "metadata": {
    "collapsed": false
   },
   "outputs": [
    {
     "data": {
      "text/plain": [
       "<scipy.integrate._ode.ode at 0x1921bcf8>"
      ]
     },
     "execution_count": 17,
     "metadata": {},
     "output_type": "execute_result"
    }
   ],
   "source": [
    "r = ode(Assembly.DynamicFunction2,jac=Assembly.JacobianFunction).set_integrator('vode',method = 'bdf')\n",
    "t0 = 0\n",
    "r.set_initial_value(Assembly.getEqScenario(2)+np.array([0.,0.,1e-6]),t0)"
   ]
  },
  {
   "cell_type": "code",
   "execution_count": null,
   "metadata": {
    "collapsed": false
   },
   "outputs": [],
   "source": [
    "#Profiling integrators\n",
    "\n",
    "import cProfile, pstats, StringIO\n",
    "pr = cProfile.Profile()\n",
    "pr.enable()\n",
    "\n",
    "Prueba = BSR(params1,'LV',[-10,5],False)\n",
    "Prueba.setfDict()\n",
    "\n",
    "Assembly = Dynamics(Prueba,0,1e5,0.1,2e3,1e-3,1e5,initMass = 1e-5)\n",
    "F = Assembly.BifurcationLV('K_CP',10**np.arange(-13,6,0.1),'Cfirst',N=5)\n",
    "\n",
    "pr.disable()\n",
    "s = StringIO.StringIO()\n",
    "sortby = 'cumulative'\n",
    "ps = pstats.Stats(pr, stream=s).sort_stats(sortby)\n",
    "ps.print_stats()\n",
    "print s.getvalue()"
   ]
  },
  {
   "cell_type": "code",
   "execution_count": 32,
   "metadata": {
    "collapsed": false
   },
   "outputs": [],
   "source": [
    "Assembly.K_CP = 10**np.arange(-13,6,0.1)[111]\n",
    "Assembly.finalTime = 1e6\n",
    "#R2 = Assembly.AssemblySimulation('Cfirst')"
   ]
  },
  {
   "cell_type": "code",
   "execution_count": 33,
   "metadata": {
    "collapsed": false
   },
   "outputs": [],
   "source": [
    "Assembly.initCondition = Assembly.getEqScenario(2)"
   ]
  },
  {
   "cell_type": "code",
   "execution_count": 27,
   "metadata": {
    "collapsed": false
   },
   "outputs": [
    {
     "data": {
      "text/plain": [
       "array([ nan,  nan,   0.])"
      ]
     },
     "execution_count": 27,
     "metadata": {},
     "output_type": "execute_result"
    }
   ],
   "source": [
    "Assembly.initCondition"
   ]
  },
  {
   "cell_type": "code",
   "execution_count": 34,
   "metadata": {
    "collapsed": false
   },
   "outputs": [
    {
     "name": "stdout",
     "output_type": "stream",
     "text": [
      "Excess work done on this call (perhaps wrong Dfun type).\n",
      "Run with full_output = 1 to get quantitative information.\n"
     ]
    }
   ],
   "source": [
    "R2 = Assembly.AssemblySimulation('Cfirst')"
   ]
  },
  {
   "cell_type": "code",
   "execution_count": 35,
   "metadata": {
    "collapsed": false
   },
   "outputs": [
    {
     "data": {
      "text/plain": [
       "array([[ 0.99161467,  0.28501686,  0.27883391],\n",
       "       [ 0.99161467,  0.28501686,  0.27883391],\n",
       "       [ 0.99161467,  0.28501686,  0.27883391],\n",
       "       [ 0.99161467,  0.28501686,  0.27883391],\n",
       "       [ 0.99161467,  0.28501686,  0.27883391]])"
      ]
     },
     "execution_count": 35,
     "metadata": {},
     "output_type": "execute_result"
    }
   ],
   "source": [
    "R2"
   ]
  },
  {
   "cell_type": "code",
   "execution_count": 36,
   "metadata": {
    "collapsed": false
   },
   "outputs": [
    {
     "data": {
      "text/plain": [
       "0.28501686016700045"
      ]
     },
     "execution_count": 36,
     "metadata": {},
     "output_type": "execute_result"
    }
   ],
   "source": [
    "Prueba.fDict['C_eq'](2e-3,10**np.arange(-13,6,0.1)[111],1e0)/Prueba.fDict['K'](2e-3,10**np.arange(-13,6,0.1)[111],1e0)"
   ]
  },
  {
   "cell_type": "code",
   "execution_count": 5,
   "metadata": {
    "collapsed": false
   },
   "outputs": [
    {
     "name": "stdout",
     "output_type": "stream",
     "text": [
      "Excess work done on this call (perhaps wrong Dfun type).\n",
      "Run with full_output = 1 to get quantitative information.\n",
      "Excess work done on this call (perhaps wrong Dfun type).\n",
      "Run with full_output = 1 to get quantitative information.\n",
      "Excess work done on this call (perhaps wrong Dfun type).\n",
      "Run with full_output = 1 to get quantitative information.\n",
      "Excess work done on this call (perhaps wrong Dfun type).\n",
      "Run with full_output = 1 to get quantitative information.\n",
      "Excess work done on this call (perhaps wrong Dfun type).\n",
      "Run with full_output = 1 to get quantitative information.\n"
     ]
    }
   ],
   "source": [
    "F = Assembly.BifurcationLV('K_CP',10**np.arange(-10,6,0.1),'Cfirst',N=5)"
   ]
  },
  {
   "cell_type": "code",
   "execution_count": 6,
   "metadata": {
    "collapsed": true
   },
   "outputs": [],
   "source": [
    "def plotBif(axes,F,Vals,j,color):\n",
    "    for i in range(len(Vals)):\n",
    "        \n",
    "        a = [np.log10(Vals[i])]*len(F[i])\n",
    "        FL = [F[i][k][j] for k in range(len(F[i]))]\n",
    "        axes.plot(a,FL,'o',markersize= 2.5,color = color)"
   ]
  },
  {
   "cell_type": "code",
   "execution_count": null,
   "metadata": {
    "collapsed": true
   },
   "outputs": [],
   "source": []
  },
  {
   "cell_type": "code",
   "execution_count": 7,
   "metadata": {
    "collapsed": false
   },
   "outputs": [
    {
     "data": {
      "image/png": "[encoded data removed]",
      "text/plain": [
       "<matplotlib.figure.Figure at 0x17aabcc0>"
      ]
     },
     "metadata": {},
     "output_type": "display_data"
    }
   ],
   "source": [
    "        \n",
    "fig,axes = plt.subplots(nrows=3,ncols=1,sharex=True)\n",
    "\n",
    "plotBif(axes[0],F,10**np.arange(-13,6,0.1),0,'blue')\n",
    "plotBif(axes[1],F,10**np.arange(-13,6,0.1),1,'red')\n",
    "plotBif(axes[2],F,10**np.arange(-13,6,0.1),2,'yellow')"
   ]
  },
  {
   "cell_type": "code",
   "execution_count": null,
   "metadata": {
    "collapsed": false
   },
   "outputs": [],
   "source": [
    "help(GetComplement)"
   ]
  },
  {
   "cell_type": "code",
   "execution_count": 9,
   "metadata": {
    "collapsed": false
   },
   "outputs": [
    {
     "data": {
      "image/png": "[encoded data removed]",
      "text/plain": [
       "<matplotlib.figure.Figure at 0x193eb3c8>"
      ]
     },
     "metadata": {},
     "output_type": "display_data"
    }
   ],
   "source": [
    "        \n",
    "fig,axes = plt.subplots(nrows=3,ncols=1,sharex=True)\n",
    "\n",
    "plotBif(axes[0],F,10**np.arange(-10,6,0.1),0,'blue')\n",
    "plotBif(axes[1],F,10**np.arange(-10,6,0.1),1,'red')\n",
    "plotBif(axes[2],F,10**np.arange(-10,6,0.1),2,'yellow')\n",
    "        \n",
    "        "
   ]
  },
  {
   "cell_type": "code",
   "execution_count": 11,
   "metadata": {
    "collapsed": false
   },
   "outputs": [
    {
     "data": {
      "image/png": "[encoded data removed]",
      "text/plain": [
       "<matplotlib.figure.Figure at 0x183dcdd8>"
      ]
     },
     "metadata": {},
     "output_type": "display_data"
    }
   ],
   "source": [
    "fig,axes = plt.subplots(nrows=3,ncols=1,sharex=True)\n",
    "\n",
    "plotBif(axes[0],F,10**np.arange(-13,6,0.1),0,'blue')\n",
    "axes[0].set_ylim([0,1.1])\n",
    "plotBif(axes[1],F,10**np.arange(-13,6,0.1),1,'red')\n",
    "plotBif(axes[2],F,10**np.arange(-13,6,0.1),2,'yellow')"
   ]
  },
  {
   "cell_type": "code",
   "execution_count": 14,
   "metadata": {
    "collapsed": false
   },
   "outputs": [],
   "source": [
    "A = np.array(F)"
   ]
  },
  {
   "cell_type": "code",
   "execution_count": 17,
   "metadata": {
    "collapsed": false
   },
   "outputs": [
    {
     "data": {
      "text/plain": [
       "[array([ 1.,  0.,  0.])]"
      ]
     },
     "execution_count": 17,
     "metadata": {},
     "output_type": "execute_result"
    }
   ],
   "source": []
  },
  {
   "cell_type": "code",
   "execution_count": 161,
   "metadata": {
    "collapsed": false
   },
   "outputs": [],
   "source": [
    "def SaveFun(F,direction,header,footer):\n",
    "    newF=np.array(Format(F)).transpose()\n",
    "    OutputF = OutputInvData(newF,header,footer,'','')\n",
    "    OutputF.WriteInvasibility(direction,delimiter=',')\n",
    "    \n",
    "  \n",
    "    \n",
    "def Format(F):   \n",
    "    x = []\n",
    "    y = []\n",
    "    z = []\n",
    "    \n",
    "    for i in range(len(F)):\n",
    "        xhold =[]\n",
    "        yhold =[]\n",
    "        zhold =[]\n",
    "        \n",
    "        for k in range(len(F[i])):\n",
    "            xhold.append(MyFloat(F[i][k][0]))\n",
    "            yhold.append(MyFloat(F[i][k][1]))\n",
    "            zhold.append(MyFloat(F[i][k][2]))\n",
    "        \n",
    "        if len(xhold)>1:\n",
    "            xhold =MyTuple(xhold)\n",
    "            yhold =MyTuple(yhold)\n",
    "            zhold =MyTuple(zhold)\n",
    "    \n",
    "        x.append(xhold)\n",
    "        y.append(yhold)\n",
    "        z.append(zhold)\n",
    "            \n",
    "\n",
    "    return [x,y,z]\n",
    "\n",
    "\n",
    "SaveFun(F,'Prueba.csv',['x','y','z'],'')\n",
    "            \n",
    "        "
   ]
  },
  {
   "cell_type": "code",
   "execution_count": 157,
   "metadata": {
    "collapsed": false
   },
   "outputs": [
    {
     "data": {
      "text/plain": [
       "(0.0)"
      ]
     },
     "execution_count": 157,
     "metadata": {},
     "output_type": "execute_result"
    }
   ],
   "source": [
    "MyTuple([MyFloat(F[0][0][2])])"
   ]
  },
  {
   "cell_type": "code",
   "execution_count": 156,
   "metadata": {
    "collapsed": false
   },
   "outputs": [
    {
     "data": {
      "text/plain": [
       "[1.0]"
      ]
     },
     "execution_count": 156,
     "metadata": {},
     "output_type": "execute_result"
    }
   ],
   "source": [
    "newF = Format(F)\n",
    "newF[2][0]"
   ]
  },
  {
   "cell_type": "code",
   "execution_count": 145,
   "metadata": {
    "collapsed": true
   },
   "outputs": [],
   "source": [
    "newF=np.array(Format(F),dtype=object).transpose()"
   ]
  },
  {
   "cell_type": "code",
   "execution_count": 148,
   "metadata": {
    "collapsed": false
   },
   "outputs": [
    {
     "name": "stdout",
     "output_type": "stream",
     "text": [
      "(1.00000000000000000000)\n"
     ]
    }
   ],
   "source": [
    "print(newF[0][2])"
   ]
  },
  {
   "cell_type": "code",
   "execution_count": 105,
   "metadata": {
    "collapsed": false
   },
   "outputs": [
    {
     "name": "stdout",
     "output_type": "stream",
     "text": [
      "[(1.0,), (0.0,), (0.0,)]\n"
     ]
    }
   ],
   "source": [
    "print(list((newF[0])))"
   ]
  },
  {
   "cell_type": "code",
   "execution_count": 39,
   "metadata": {
    "collapsed": false
   },
   "outputs": [
    {
     "data": {
      "text/plain": [
       "[<matplotlib.lines.Line2D at 0x1a736e48>]"
      ]
     },
     "execution_count": 39,
     "metadata": {},
     "output_type": "execute_result"
    },
    {
     "data": {
      "image/png": "[encoded data removed]",
      "text/plain": [
       "<matplotlib.figure.Figure at 0x1a3ec940>"
      ]
     },
     "metadata": {},
     "output_type": "display_data"
    }
   ],
   "source": [
    "fig,axes = plt.subplots(nrows=3,ncols=1,sharex=True)\n",
    "\n",
    "axes[0].plot(np.arange(-10,6,0.1),[i[0] for i in x],'r--')\n",
    "axes[1].plot(np.arange(-10,6,0.1),[i[0] for i in y],'b--')\n",
    "axes[2].plot(np.arange(-10,6,0.1),[i[0] for i in z],'g--')"
   ]
  },
  {
   "cell_type": "code",
   "execution_count": 11,
   "metadata": {
    "collapsed": false
   },
   "outputs": [],
   "source": [
    "Assembly = Dynamics(Prueba,0,1e4,0.02,2e-3,10**(-2.9),1e5,initMass = 1e-5)"
   ]
  },
  {
   "cell_type": "code",
   "execution_count": 5,
   "metadata": {
    "collapsed": false
   },
   "outputs": [
    {
     "name": "stdout",
     "output_type": "stream",
     "text": [
      "Excess work done on this call (perhaps wrong Dfun type).\n",
      "Run with full_output = 1 to get quantitative information.\n"
     ]
    }
   ],
   "source": [
    "#Assembly = Dynamics(Prueba,0,1e4,0.001,2e0,10**(-8.5),1e5,initMass = 1e-5)\n",
    "R2 = Assembly.AssemblySimulation('Cfirst')\n",
    "#if R2[1]['message']  == 'Excess work done on this call (perhaps wrong Dfun type).':\n",
    " #   print 'WA'\n",
    "#help(Assembly.Simulate)"
   ]
  },
  {
   "cell_type": "code",
   "execution_count": 6,
   "metadata": {
    "collapsed": false
   },
   "outputs": [
    {
     "data": {
      "text/plain": [
       "array([[ 0.97883912,  0.08821219,  2.66069293],\n",
       "       [ 0.97883912,  0.08821219,  2.66069293],\n",
       "       [ 0.97883912,  0.08821219,  2.66069293],\n",
       "       [ 0.97883912,  0.08821219,  2.66069293],\n",
       "       [ 0.97883912,  0.08821219,  2.66069293]])"
      ]
     },
     "execution_count": 6,
     "metadata": {},
     "output_type": "execute_result"
    }
   ],
   "source": [
    "R2"
   ]
  },
  {
   "cell_type": "code",
   "execution_count": 10,
   "metadata": {
    "collapsed": false
   },
   "outputs": [
    {
     "data": {
      "text/plain": [
       "array([  1.21466014e-01,   6.23770910e+00,   1.00000000e-05])"
      ]
     },
     "execution_count": 10,
     "metadata": {},
     "output_type": "execute_result"
    }
   ],
   "source": [
    "Assembly.initCondition"
   ]
  },
  {
   "cell_type": "code",
   "execution_count": 5,
   "metadata": {
    "collapsed": false
   },
   "outputs": [
    {
     "name": "stdout",
     "output_type": "stream",
     "text": [
      "Excess work done on this call (perhaps wrong Dfun type).\n",
      "Run with full_output = 1 to get quantitative information.\n",
      "Excess work done on this call (perhaps wrong Dfun type).\n",
      "Run with full_output = 1 to get quantitative information.\n"
     ]
    }
   ],
   "source": [
    "F = []\n",
    "\n",
    "def format(R,N,tol =1e-12):\n",
    "    for i in xrange(-N,1,1):\n",
    "        Positiveformat(R[i],tol)\n",
    "    return np.array(R[-N:])\n",
    "\n",
    "def Positiveformat(Array,tol):\n",
    "    for i in xrange(len(Array)):\n",
    "        if Array[i]< tol :\n",
    "            Array[i] = 0\n",
    "            \n",
    "    return Array\n",
    "\n",
    "for val in 10**np.arange(-10,6,1.):\n",
    "    Assembly.K_CP = val\n",
    "    R2 = Assembly.AssemblySimulation('Cfirst')\n",
    "    FS = format(R2,10)\n",
    "    F.append(FS)\n",
    "    \n",
    "\n",
    "    "
   ]
  },
  {
   "cell_type": "code",
   "execution_count": 28,
   "metadata": {
    "collapsed": false
   },
   "outputs": [
    {
     "data": {
      "text/plain": [
       "array([[ 0.00219393,  0.02276693,  0.        ],\n",
       "       [ 0.00219393,  0.02276692,  0.        ],\n",
       "       [ 0.00219393,  0.02276692,  0.        ],\n",
       "       [ 0.00219393,  0.02276692,  0.        ],\n",
       "       [ 0.00219393,  0.02276692,  0.        ],\n",
       "       [ 0.00219393,  0.02276692,  0.        ],\n",
       "       [ 0.00219393,  0.02276692,  0.        ],\n",
       "       [ 0.00219393,  0.02276692,  0.        ],\n",
       "       [ 0.00219393,  0.02276692,  0.        ],\n",
       "       [ 0.00219393,  0.02276692,  0.        ]])"
      ]
     },
     "execution_count": 28,
     "metadata": {},
     "output_type": "execute_result"
    }
   ],
   "source": [
    "F[13]"
   ]
  },
  {
   "cell_type": "code",
   "execution_count": 36,
   "metadata": {
    "collapsed": false
   },
   "outputs": [
    {
     "data": {
      "text/plain": [
       "{'Cfirst': array([  1.00000000e+00,   1.00000000e-05,   0.00000000e+00]),\n",
       " 'Pfirst': array([  1.00000000e+00,   0.00000000e+00,   1.00000000e-05])}"
      ]
     },
     "execution_count": 36,
     "metadata": {},
     "output_type": "execute_result"
    }
   ],
   "source": [
    "Assembly.AssemblyInitCondition"
   ]
  },
  {
   "cell_type": "code",
   "execution_count": 82,
   "metadata": {
    "collapsed": true
   },
   "outputs": [],
   "source": [
    "R_1 = np.array([i[0] for i in R1])\n",
    "R_2 = np.array([i[0] for i in R2])\n",
    "C_1 = np.array([i[1] for i in R1])\n",
    "C_2 = np.array([i[1] for i in R2])\n",
    "P_1 = np.array([i[2] for i in R1])\n",
    "P_2 = np.array([i[2] for i in R2])"
   ]
  },
  {
   "cell_type": "code",
   "execution_count": 85,
   "metadata": {
    "collapsed": true
   },
   "outputs": [],
   "source": [
    "R_1I = R_1/(Assembly.K_RC * Assembly.K_CP* Assembly.m_P)\n",
    "R_2I= R_2/(Assembly.K_RC * Assembly.K_CP* Assembly.m_P)\n",
    "C_1I = C_1/(Assembly.K_CP* Assembly.m_P)\n",
    "C_2I = C_2/(Assembly.K_CP* Assembly.m_P)\n",
    "P_1I = P_1/(Assembly.m_P)\n",
    "P_2I = P_2/(Assembly.m_P)\n"
   ]
  },
  {
   "cell_type": "code",
   "execution_count": 8,
   "metadata": {
    "collapsed": false
   },
   "outputs": [
    {
     "data": {
      "text/plain": [
       "[<matplotlib.lines.Line2D at 0x17826390>,\n",
       " <matplotlib.lines.Line2D at 0x178264e0>,\n",
       " <matplotlib.lines.Line2D at 0x17826630>]"
      ]
     },
     "execution_count": 8,
     "metadata": {},
     "output_type": "execute_result"
    },
    {
     "data": {
      "image/png": "[encoded data removed]",
      "text/plain": [
       "<matplotlib.figure.Figure at 0x172e9748>"
      ]
     },
     "metadata": {},
     "output_type": "display_data"
    }
   ],
   "source": [
    "t2 = np.arange(0,3e3,0.0001)\n",
    "plt.plot(t2,R2)\n"
   ]
  },
  {
   "cell_type": "code",
   "execution_count": 67,
   "metadata": {
    "collapsed": false
   },
   "outputs": [
    {
     "data": {
      "text/plain": [
       "array([  9.89683204e-01,  -2.43765146e-15,   2.52094224e+00])"
      ]
     },
     "execution_count": 67,
     "metadata": {},
     "output_type": "execute_result"
    }
   ],
   "source": []
  },
  {
   "cell_type": "code",
   "execution_count": 35,
   "metadata": {
    "collapsed": false
   },
   "outputs": [
    {
     "data": {
      "text/plain": [
       "array([  9.85185808e-01,   8.06558882e-10,   3.61987984e+00])"
      ]
     },
     "execution_count": 35,
     "metadata": {},
     "output_type": "execute_result"
    }
   ],
   "source": [
    "R2[-1]"
   ]
  },
  {
   "cell_type": "code",
   "execution_count": 44,
   "metadata": {
    "collapsed": false
   },
   "outputs": [
    {
     "data": {
      "text/plain": [
       "[<matplotlib.lines.Line2D at 0x17290f28>,\n",
       " <matplotlib.lines.Line2D at 0x17295048>,\n",
       " <matplotlib.lines.Line2D at 0x17295ef0>]"
      ]
     },
     "execution_count": 44,
     "metadata": {},
     "output_type": "execute_result"
    },
    {
     "data": {
      "image/png": "[encoded data removed]",
      "text/plain": [
       "<matplotlib.figure.Figure at 0x17290fd0>"
      ]
     },
     "metadata": {},
     "output_type": "display_data"
    }
   ],
   "source": [
    "t1 = np.arange(0,1e4,0.001)\n",
    "t2 = np.arange(1e4,2e4,0.001)\n",
    "plt.plot(t1,R1)\n",
    "plt.plot(t2,R2)"
   ]
  },
  {
   "cell_type": "code",
   "execution_count": 82,
   "metadata": {
    "collapsed": false
   },
   "outputs": [
    {
     "data": {
      "text/plain": [
       "(array([[  2.90037919e-01,   1.20365411e+01,   1.00000000e-05],\n",
       "        [  2.90037919e-01,   1.20365411e+01,   1.00026506e-05],\n",
       "        [  2.90037919e-01,   1.20365411e+01,   1.00053019e-05],\n",
       "        ..., \n",
       "        [  9.30079481e-01,   1.13341741e+00,   2.32273266e+01],\n",
       "        [  9.30079481e-01,   1.13341741e+00,   2.32273266e+01],\n",
       "        [  9.30079481e-01,   1.13341741e+00,   2.32273266e+01]]),\n",
       " {'hu': array([  1.22070471e-01,   1.22070471e-01,   1.22070471e+00, ...,\n",
       "           9.65064164e+04,   9.65064164e+04,   9.65064164e+04]),\n",
       "  'imxer': -1,\n",
       "  'leniw': 23,\n",
       "  'lenrw': 68,\n",
       "  'message': 'Integration successful.',\n",
       "  'mused': array([1, 1, 1, ..., 2, 2, 2]),\n",
       "  'nfe': array([  5,   7,   9, ..., 826, 826, 826]),\n",
       "  'nje': array([ 0,  0,  0, ..., 57, 57, 57]),\n",
       "  'nqu': array([1, 1, 2, ..., 1, 1, 1]),\n",
       "  'nst': array([  3,   4,   5, ..., 599, 599, 599]),\n",
       "  'tcur': array([  1.22094886e-01,   2.44165357e-01,   1.46487007e+00, ...,\n",
       "           1.94530944e+05,   1.94530944e+05,   1.94530944e+05]),\n",
       "  'tolsf': array([ 0.,  0.,  0., ...,  0.,  0.,  0.]),\n",
       "  'tsw': array([  0.        ,   0.        ,   0.        , ...,  29.37784969,\n",
       "          29.37784969,  29.37784969])})"
      ]
     },
     "execution_count": 82,
     "metadata": {},
     "output_type": "execute_result"
    }
   ],
   "source": [
    "R2"
   ]
  },
  {
   "cell_type": "code",
   "execution_count": 78,
   "metadata": {
    "collapsed": false
   },
   "outputs": [
    {
     "data": {
      "text/plain": [
       "0.001234717739073053"
      ]
     },
     "execution_count": 78,
     "metadata": {},
     "output_type": "execute_result"
    }
   ],
   "source": [
    "Prueba.fDict['C_eq'](2e0,1e-3,1e0)"
   ]
  },
  {
   "cell_type": "code",
   "execution_count": 30,
   "metadata": {
    "collapsed": false
   },
   "outputs": [
    {
     "data": {
      "text/plain": [
       "0.26706703609748844"
      ]
     },
     "execution_count": 30,
     "metadata": {},
     "output_type": "execute_result"
    }
   ],
   "source": [
    "Prueba.fDict['C_eq_s2'](2,1e-3,1e5)/Prueba.fDict['K'](2e0,1e-3,1e5)"
   ]
  },
  {
   "cell_type": "code",
   "execution_count": 28,
   "metadata": {
    "collapsed": false
   },
   "outputs": [
    {
     "data": {
      "text/plain": [
       "0.010043331220096305"
      ]
     },
     "execution_count": 28,
     "metadata": {},
     "output_type": "execute_result"
    }
   ],
   "source": [
    "Prueba.fDict['C_eq_s2'](2,1e-3,1e5)"
   ]
  },
  {
   "cell_type": "code",
   "execution_count": 31,
   "metadata": {
    "collapsed": false
   },
   "outputs": [
    {
     "data": {
      "text/plain": [
       "-1.3121443492608514e-10"
      ]
     },
     "execution_count": 31,
     "metadata": {},
     "output_type": "execute_result"
    }
   ],
   "source": [
    "Prueba.fDict['dCLV'](0.0004432824599585018,0.010043331220096305,0,2e0,1e-3,1e5)"
   ]
  },
  {
   "cell_type": "code",
   "execution_count": 32,
   "metadata": {
    "collapsed": false
   },
   "outputs": [
    {
     "data": {
      "text/plain": [
       "array([ 0.03757424,  0.01002697,  0.01004099])"
      ]
     },
     "execution_count": 32,
     "metadata": {},
     "output_type": "execute_result"
    }
   ],
   "source": [
    "R2[-1]"
   ]
  }
 ],
 "metadata": {
  "kernelspec": {
   "display_name": "IPython (Python 2)",
   "name": "python2"
  },
  "language_info": {
   "codemirror_mode": {
    "name": "ipython",
    "version": 2
   },
   "file_extension": ".py",
   "mimetype": "text/x-python",
   "name": "python",
   "nbconvert_exporter": "python",
   "pygments_lexer": "ipython2",
   "version": "2.7.9"
  }
 },
 "nbformat": 4,
 "nbformat_minor": 0
}