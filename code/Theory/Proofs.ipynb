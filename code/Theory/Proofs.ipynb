{
 "cells": [
  {
   "cell_type": "markdown",
   "metadata": {},
   "source": [
    "# Proposition 1"
   ]
  },
  {
   "cell_type": "markdown",
   "metadata": {},
   "source": [
    "\n",
    "Let: $ N:=(\\frac{dR}{dt},\\frac{dC}{dt})$\n",
    "\\begin{equation}\n",
    "    \\begin{aligned}\n",
    "        \\frac{dR}{dt} = F(R) - G(R)C \\\\\n",
    "        \\frac{dC}{dt} = C ( \\epsilon G(R) - q_1)\n",
    "    \\end{aligned}\n",
    "\\end{equation}\n",
    "\n",
    "Be a system of differential equation where *F* and *G* are *continuous functions* such that   \n",
    "1. $F(R) > 0 , R \\in (0 , \\hat{R}) $  \n",
    "2. $G(R) \\mbox{ is $strictly$ increasing }\\forall R >0 , G(0) = 0 $  \n",
    "3. $q_1 >0 , \\epsilon >0 $\n",
    "\n",
    "\n",
    "Then, The system admits a nontrivial positive fixed point if and only if *C* could invade a system just composed of *R* when *R* = $\\hat{R}$ ,that is : $ \\exists \\  \\mathbf{X} :=(R^i,C^i) \\in R^2_+ , N(\\mathbf{X}) = 0\\iff \\epsilon_1 G(\\hat{R}) - q_1 >0 $\n",
    "\n",
    "**Proof**\n",
    "\n",
    "($\\rightarrow$)  \n",
    "\n",
    "Since **X** $\\in R^2_+$ then $R^i >0 ,C^i >0$ and   \n",
    "1. $F(R^i) - G(R^i)C^i = 0 \\to F(R^i)/G(R^i) >0$  \n",
    "2. $\\epsilon G(R^i) - q_1 = 0 \\to G(R^i) = \\frac{q_1}{\\epsilon}> 0 $  \n",
    "3. From 1 and 2, $F(R^i) >0 \\to 0 < R^i < \\hat{R} $   \n",
    "4. From 3 and the fact that $G$ is *strictly* increasing we have that $ F(\\hat{R}) > F(R^i) = \\frac{q_1}{\\epsilon} $ \n",
    "\n",
    "($\\leftarrow$)  \n",
    "let $\\vartheta(R) := \\epsilon G(R)  - q_1$  \n",
    "if *C* could invade, then : $\\vartheta(\\hat{R})>0 $. Moreover by the definition of *G* $\\vartheta(0)= -q_1 <0$ then since $\\vartheta$ is continuous , by the *intermidate value theorem* $\\exists R^i \\in (0,\\hat{R})$ such that $\\vartheta(R^i) =0$ .  \n",
    "Now let $C^i := \\frac{F(R^i)}{G(R^i)}$ by the above $C^i >0 $ and $(R^i,C^i)$ is a *fixed point* of **N**\n",
    "\n",
    "\n",
    "\n"
   ]
  },
  {
   "cell_type": "markdown",
   "metadata": {},
   "source": [
    "#Proposition 2"
   ]
  },
  {
   "cell_type": "markdown",
   "metadata": {},
   "source": [
    "\\begin{equation}\n",
    "    \\hat{R}_2  = \\infty \\iff \\epsilon_1 = h_{0,c}q_{1_0}\n",
    "\\end{equation}"
   ]
  },
  {
   "cell_type": "markdown",
   "metadata": {},
   "source": [
    "**Proof**\n",
    "\n",
    "since $q_1$ >0 , $\\hat{R}_2 = \\infty \\iff \\epsilon_1 - t_{h,c}m_C q_1 = 0 $  \n",
    "By our [parametrization](Parametrization.ipynb) this condition becomes:  \n",
    "\\begin{equation}\n",
    "    \\begin{aligned}\n",
    "        \\epsilon_1 &= (h_{0,c} m_C^{-w} e^{E_C/kT_C}) m_C (q_{1_0} m_C^{w-1}e^{-E_{q_1}/k T_C}) \\\\\n",
    "        \\epsilon_1 &= h_{0,c} q_{1_0} m_C^{1 - w + w - 1} e^{\\frac{E_C - E_{q_1}}{k T_C}} \\\\\n",
    "        \\epsilon_1 &= h_{0,c} q_{1_0} e^{\\frac{E_C - E_{q_1}}{k T_C}} \n",
    "    \\end{aligned}\n",
    "\\end{equation}\n",
    "Furthermore if we assume $ E_C = E_{q_1} $ the condition reduce to what we were looking for.\n"
   ]
  }
 ],
 "metadata": {
  "kernelspec": {
   "display_name": "Python 3",
   "language": "python",
   "name": "python3"
  },
  "language_info": {
   "codemirror_mode": {
    "name": "ipython",
    "version": 3
   },
   "file_extension": ".py",
   "mimetype": "text/x-python",
   "name": "python",
   "nbconvert_exporter": "python",
   "pygments_lexer": "ipython3",
   "version": "3.4.3"
  }
 },
 "nbformat": 4,
 "nbformat_minor": 0
}
