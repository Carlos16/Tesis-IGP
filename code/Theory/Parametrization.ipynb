{
 "cells": [
  {
   "cell_type": "markdown",
   "metadata": {},
   "source": [
    "#Model Parametrization"
   ]
  },
  {
   "cell_type": "markdown",
   "metadata": {},
   "source": [
    "The problem with having a lot of parameters in a model is that there is no *a priori* way to determine the values of each of them. Fortunately there have been previous work that have deal with this for some of the parameters we are considering in the models, this works build up on the recently developed *Metabolic Theory of Ecology* which is based on the relationship that body mass and ambient temperature has with metabolic rate, and other *biomecanic* arguments that relate them to movement speed."
   ]
  },
  {
   "cell_type": "markdown",
   "metadata": {},
   "source": [
    "# Metabolic - Biomecanic scaling"
   ]
  },
  {
   "cell_type": "markdown",
   "metadata": {},
   "source": [
    "In what follows, let :  \n",
    "* $m_i$ :the body mass of the species $i$ \n",
    "* $T_i$ : body mass temperature of the species $i$\n",
    "* $k$ : $8.6173324 \\times 10^{-5}$, the *boltzmann constant* in eV\n",
    "* $D_i$ :Dimension in which the predation of $i$ relative to the predator, takes place.\n",
    "* $\\vartheta_i$ : metabolic type of the species $i$.\n",
    "* $k_{ij}$ : prey-predator(resource-consumer) body mass ratio between prey(resource) $i$ and predator(consumer) $j$."
   ]
  },
  {
   "cell_type": "markdown",
   "metadata": {},
   "source": [
    "##Intra-population parameters"
   ]
  },
  {
   "cell_type": "markdown",
   "metadata": {
    "collapsed": true
   },
   "source": [
    "\\begin{equation}\n",
    "\\begin{aligned}\n",
    "& r = r_0 m_R^{w-1}e^{-E_r/k T_R} &\\\\\n",
    "& K = k_0 m_R^{-w+1}e^{E_K/k T_R} & \\\\\n",
    "& q_1 = q_{1_0} m_C^{w-1}e^{-E_{q_1}/k T_C} &\\\\\n",
    "& q_2 = q_{2_0} m_P^{w-1}e^{-E_{q_2}/k T_P}\n",
    "\\end{aligned}\n",
    "\\end{equation}"
   ]
  },
  {
   "cell_type": "markdown",
   "metadata": {},
   "source": [
    "The metabolic type could influence the values of the constants."
   ]
  },
  {
   "cell_type": "markdown",
   "metadata": {},
   "source": [
    "##Inter-population parameters"
   ]
  },
  {
   "cell_type": "markdown",
   "metadata": {},
   "source": [
    "\\begin{equation}\n",
    "\\begin{aligned}\n",
    "& m_C \\alpha_1 = \\alpha_{1_0} m_C^{p_v+2(D_R-1)p_d} g_1(k_{RC},T_R,T_C,f_C,D_R,\\vartheta_R,\\vartheta_C) \\Phi(k_{RC})&\\\\\n",
    "& m_P \\alpha_2 = \\alpha_{2_0} m_P^{p_v+2(D_R-1)p_d} g_2(k_{RP},T_R,T_P,f_{P_2},D_R,\\vartheta_R,\\vartheta_P) \\Phi(k_{RP})&\\\\\n",
    "& m_P \\alpha_3 = \\alpha_{3_0} m_P^{p_v+2(D_C-1)p_d} g_3(k_{RP},T_C,T_P,f_{P_3},D_C,\\vartheta_C,\\vartheta_P) \\Phi(k_{CP})\\\\\n",
    "& t_{h,c} = h_{0,c} m_C^{-w} e^{-E_C/kT_C} \\\\\n",
    "& t_{h,p} = h_{0,p} m_P^{-w} e^{-E_P/kT_P} \n",
    "\\end{aligned}\n",
    "\\end{equation}\n",
    "\n",
    "$\\alpha_0$ just depends on the dimension of the habitat.  \n",
    "$\\Phi$ captures the fact that any predator does not eat all of what it encounters and that this fraction usually declines with the respective prey-predator ratio. The reasons for this differ between hervibores and carnivores, in the former we expect the proportion of non-edible mass of the prey to growh with its size (compare trees with plankton) ; whereas in the latter it is related to the capture efficency(escape efficiency) of the predator(prey) following an encounter . In our work we explore the following form:\n",
    "\\begin{equation}\n",
    "    \\Phi(k_{ij}) = \\frac{1}{1+k_{ij}^b}\n",
    "\\end{equation}\n",
    "where $b$ >0 \n",
    "  \n",
    "\n",
    "In what follows we will define the form of $g_1$ with respect to the thermy and the foraging mode of the interacting species, $g_2$ and $g_3$ takes similar forms.  \n",
    "define: \n",
    "\\begin{align} \n",
    "&\\Delta_{JK} := e^{-\\frac{1}{k}(\\frac{E_J}{T_J} - \\frac{E_K}{T_K})} \\\\\n",
    "\\end{align} "
   ]
  },
  {
   "cell_type": "markdown",
   "metadata": {},
   "source": [
    "###Ectothermic consumer-ectothermic resource\n",
    "**Active capture strategy**\n",
    "\\begin{equation}\n",
    "    g_1 := v_{0,C} e^{-E_C/k T_C} \\sqrt{ 1+ (\\frac{v_{0,R}}{v_{0,C}}) k_{RC}^{2p_v} \\Delta_{RC}^2} k_{RC}^{(D_R-1)p_d}\n",
    "\\end{equation}\n",
    "**Sit and wait strategy**\n",
    "\\begin{equation}\n",
    "    g_1 := v_{0,R} k_{RC}^{p_v+(D_R-1)p_d}e^{-E_R/kT_R}\n",
    "\\end{equation}\n",
    "**Grazing strategy**\n",
    "\\begin{equation}\n",
    "    g_1 := v_{0,C}k_{RC}^{(D_R-1)p_d}e^{-E_C/kT_C}\n",
    "\\end{equation}\n",
    "\n",
    "###Endothermic consumer-ectothermic resource\n",
    "**Active capture strategy**\n",
    "\\begin{equation}\n",
    "    g_1 := v_{0,C} \\sqrt{ 1+ (\\frac{v_{0,R}}{v_{0,C}}) k_{RC}^{2p_v} e^{-2E_R/kT_R}}k_{RC}^{(D_R-1)p_d}\n",
    "\\end{equation}\n",
    "**Sit and wait strategy**\n",
    "\\begin{equation}\n",
    "    g_1 := v_{0,R}k_{RC}^{p_v+(D_R-1)p_d}e^{-E_R/kT_R}\n",
    "\\end{equation}\n",
    "**Grazing strategy**\n",
    "\\begin{equation}\n",
    "    g_1 := v_{0,C} k_{RC}^{(D_R-1)p_d} \n",
    "\\end{equation}\n",
    "\n",
    "###Ectothermic consumer-endothermic resource\n",
    "**Active capture strategy**\n",
    "\\begin{equation}\n",
    "    g_1 := v_{0,C} e^{-E_C/k T_C} \\sqrt{1 + (\\frac{v_{0,R}}{v_{0,C}}) k_{RC}^{2p_v} e^{2E_C/kT_C}}k_{RC}^{(D_R-1)p_d}\n",
    "\\end{equation}\n",
    "**Sit and wait strategy**\n",
    "\\begin{equation}\n",
    "    g_1 := v_{0,R}k_{RC}^{p_v+(D_R-1)p_d} \n",
    "\\end{equation}\n",
    "**Grazing strategy**\n",
    "\\begin{equation}\n",
    "    g_1 := v_{0,C} k_{RC}^{(D_R-1)p_d}e^{-E_C/kT_C} \n",
    "\\end{equation}"
   ]
  },
  {
   "cell_type": "markdown",
   "metadata": {},
   "source": [
    "##Code"
   ]
  },
  {
   "cell_type": "markdown",
   "metadata": {},
   "source": [
    "The python code implementing all this functions can be found at [Parameters][1]\n",
    "\n",
    "[1]:https://github.com/Carlos16/Tesis-IGP/blob/master/code/Theory/Model-Construction.Parametrization/coarsegrainparams.py"
   ]
  }
 ],
 "metadata": {
  "kernelspec": {
   "display_name": "IPython (Python 2)",
   "name": "python2"
  },
  "language_info": {
   "codemirror_mode": {
    "name": "ipython",
    "version": 2
   },
   "file_extension": ".py",
   "mimetype": "text/x-python",
   "name": "python",
   "nbconvert_exporter": "python",
   "pygments_lexer": "ipython2",
   "version": "2.7.9"
  }
 },
 "nbformat": 4,
 "nbformat_minor": 0
}