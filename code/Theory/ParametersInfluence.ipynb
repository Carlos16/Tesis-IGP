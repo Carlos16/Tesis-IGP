{
 "cells": [
  {
   "cell_type": "markdown",
   "metadata": {},
   "source": [
    "#Influence of parameters over Invasibility functions for Lotka-Volterra Model"
   ]
  },
  {
   "cell_type": "markdown",
   "metadata": {},
   "source": [
    "##$k_0$"
   ]
  },
  {
   "cell_type": "markdown",
   "metadata": {},
   "source": [
    "###Scenario 2"
   ]
  },
  {
   "cell_type": "markdown",
   "metadata": {},
   "source": [
    "\\begin{equation}\n",
    "\\frac{\\partial \\varphi_c}{\\partial k_0} = \\epsilon_1 \\alpha_1 m_R^{1-w} >0\n",
    "\\end{equation}"
   ]
  },
  {
   "cell_type": "markdown",
   "metadata": {},
   "source": [
    "###Scenario 3"
   ]
  },
  {
   "cell_type": "markdown",
   "metadata": {},
   "source": [
    "\\begin{equation}\n",
    "\\frac{\\partial \\varphi_p}{\\partial k_0} = \\epsilon_2 \\alpha_2 m_R^{1-w} >0\n",
    "\\end{equation}"
   ]
  },
  {
   "cell_type": "markdown",
   "metadata": {},
   "source": [
    "###Scenario 4"
   ]
  },
  {
   "cell_type": "markdown",
   "metadata": {},
   "source": [
    "\\begin{equation}\n",
    "\\frac{\\partial \\vartheta_p}{\\partial k_0} = \\frac{\\epsilon_3 \\alpha_3}{\\epsilon_1 \\alpha_1} \\frac{r q_1}{\\alpha_1} \\frac{1}{k_0^2 m_R^{1-w}} > 0  \n",
    "\\end{equation}"
   ]
  },
  {
   "cell_type": "markdown",
   "metadata": {},
   "source": [
    "###Scenario 5"
   ]
  },
  {
   "cell_type": "markdown",
   "metadata": {},
   "source": [
    "\\begin{equation}\n",
    "\\frac{\\partial \\vartheta_c}{\\partial k_0} =  -\\frac{\\alpha_3}{\\epsilon_2 \\alpha_2} \\frac{r q_2}{\\alpha_2} \\frac{1}{k_0^2 m_R^{1-w}} <0\n",
    "\\end{equation}"
   ]
  },
  {
   "cell_type": "markdown",
   "metadata": {},
   "source": [
    "##b"
   ]
  },
  {
   "cell_type": "markdown",
   "metadata": {},
   "source": [
    "We have that \n",
    "\\begin{equation}\n",
    "\\frac{\\partial\\alpha_i}{\\partial b} = \\frac{\\alpha_i}{\\Phi(k_{ij})} \\frac{\\partial\\Phi(k_{ij})}{\\partial b}\n",
    "\\end{equation}\n",
    "where\n",
    "\\begin{equation}\n",
    "\\frac{\\partial\\Phi(k_{ij})}{\\partial b} = \\frac{-\\ln(k_{ij})k_{ij}^b}{(1+k_{ij}^b)^2}\n",
    "\\end{equation}"
   ]
  },
  {
   "cell_type": "markdown",
   "metadata": {},
   "source": [
    "\\begin{equation}\n",
    "    \\frac{\\partial \\alpha_i}{\\partial b} \n",
    "        \\begin{cases}\n",
    "             < 0 & k_{ij} > 1 \\\\\n",
    "             = 0 & k_{ij} = 1 \\\\\n",
    "             >0 & k_{ij} <1 \n",
    "        \\end{cases}\n",
    "\\end{equation}"
   ]
  },
  {
   "cell_type": "markdown",
   "metadata": {},
   "source": [
    "###Scenario 2"
   ]
  },
  {
   "cell_type": "markdown",
   "metadata": {},
   "source": [
    "\\begin{equation}\n",
    "    \\frac{\\partial \\varphi_c }{\\partial b } = \\epsilon_1 \\frac{\\alpha_1}{\\Phi(k_{RC})}  \\frac{-\\ln(k_{RC})k_{RC}^b}{(1+k_{RC}^b)^2} K \\begin{cases} > 0 &,k_{RC} < 1 \\\\ = 0 &k_{RC} = 1 \\\\ <0 & k_{RC} > 1\\end{cases}\n",
    "\\end{equation}"
   ]
  },
  {
   "cell_type": "markdown",
   "metadata": {},
   "source": [
    "###Scenario 3"
   ]
  },
  {
   "cell_type": "markdown",
   "metadata": {},
   "source": [
    "\\begin{equation}\n",
    "    \\frac{\\partial \\varphi_p }{\\partial b } = \\epsilon_2 \\frac{\\alpha_2}{\\Phi(k_{RP})}  \\frac{-\\ln(k_{RP})k_{RP}^b}{(1+k_{RP}^b)^2} K \\begin{cases} > 0 &,k_{RP} < 1 \\\\ = 0 &k_{RP} = 1 \\\\ <0 & k_{RP} > 1\\end{cases}\n",
    "\\end{equation}"
   ]
  },
  {
   "cell_type": "markdown",
   "metadata": {},
   "source": [
    "###Scenario 4"
   ]
  },
  {
   "cell_type": "markdown",
   "metadata": {},
   "source": [
    "\\begin{equation}\n",
    "    \\frac{\\partial \\vartheta_p}{\\partial b} = \\epsilon_2(\\hat{R}_2 \\frac{\\partial \\alpha_2}{\\partial b} + \\alpha_2 \\frac{\\partial \\hat{R}_2}{\\partial b}) + \\epsilon_3(\\hat{C}_2 \\frac{\\partial \\alpha_3}{\\partial b} + \\alpha_3 \\frac{\\partial \\hat{C}_2}{\\partial b})\n",
    "\\end{equation}"
   ]
  },
  {
   "cell_type": "markdown",
   "metadata": {},
   "source": [
    "Where:\n",
    "\\begin{equation}\n",
    "    \\begin{aligned}\n",
    "        &\\frac{\\partial \\alpha_2}{\\partial b} = \\frac{\\alpha_2}{\\Phi(k_{RP})}  \\frac{-\\ln(k_{RP})k_{RP}^b}{(1+k_{RP}^b)^2}  \\\\\n",
    "        &\\frac{\\partial \\hat{R}_2}{\\partial b} = \\frac{q_1}{\\epsilon_1 \\alpha_1 \\Phi(k_{RC})}  \\frac{\\ln(k_{RC})k_{RC}^b}{(1+k_{RC}^b)^2}\\\\\n",
    "        &\\frac{\\partial \\alpha_3}{\\partial b} = \\frac{\\alpha_3}{\\Phi(k_{CP})}  \\frac{-\\ln(k_{CP})k_{CP}^b}{(1+k_{CP}^b)^2} \\\\\n",
    "        &\\frac{\\partial \\hat{C}_2}{\\partial b} = \\frac{r(2\\hat{R}_2 - K) }{K}\\ln(k_{RC})(\\frac{k_{RC}^b}{\\alpha_1 \\Phi(k_{RC})(1+k_{RC}^b)^2})\n",
    "    \\end{aligned}\n",
    "\\end{equation}"
   ]
  },
  {
   "cell_type": "markdown",
   "metadata": {},
   "source": [
    "###Scenario 5"
   ]
  },
  {
   "cell_type": "markdown",
   "metadata": {},
   "source": [
    "\\begin{equation}\n",
    "    \\frac{\\partial \\vartheta_c}{\\partial b} = \\epsilon_2(\\hat{R}_3 \\frac{\\partial \\alpha_1}{\\partial b} + \\alpha_1 \\frac{\\partial \\hat{R}_3}{\\partial b}) - (\\hat{P}_3 \\frac{\\partial \\alpha_3}{\\partial b} + \\alpha_3 \\frac{\\partial \\hat{P}_3}{\\partial b})\n",
    "\\end{equation}"
   ]
  },
  {
   "cell_type": "markdown",
   "metadata": {},
   "source": [
    "Where:\n",
    "\\begin{equation}\n",
    "    \\begin{aligned}\n",
    "        &\\frac{\\partial \\alpha_1}{\\partial b} = \\frac{\\alpha_1}{\\Phi(k_{RC})}  \\frac{-\\ln(k_{RC})k_{RC}^b}{(1+k_{RC}^b)^2}  \\\\\n",
    "        &\\frac{\\partial \\hat{R}_3}{\\partial b} = \\frac{q_2}{\\epsilon_2 \\alpha_2 \\Phi(k_{RP})}  \\frac{\\ln(k_{RP})k_{RP}^b}{(1+k_{RP}^b)^2}\\\\\n",
    "        &\\frac{\\partial \\hat{P}_3}{\\partial b} = r\\ln(k_{RP})(\\frac{k_{RP}^b}{\\alpha_2 \\Phi(k_{RP})(1+k_{RP}^b)^2})\n",
    "    \\end{aligned}\n",
    "\\end{equation}"
   ]
  },
  {
   "cell_type": "markdown",
   "metadata": {},
   "source": [
    "In this case it is not possible to find the sign of the derivative without further information"
   ]
  }
 ],
 "metadata": {
  "kernelspec": {
   "display_name": "IPython (Python 2)",
   "name": "python2"
  },
  "language_info": {
   "codemirror_mode": {
    "name": "ipython",
    "version": 2
   },
   "file_extension": ".py",
   "mimetype": "text/x-python",
   "name": "python",
   "nbconvert_exporter": "python",
   "pygments_lexer": "ipython2",
   "version": "2.7.9"
  }
 },
 "nbformat": 4,
 "nbformat_minor": 0
}